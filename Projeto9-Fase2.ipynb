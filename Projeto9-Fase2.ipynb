{
 "cells": [
  {
   "cell_type": "markdown",
   "metadata": {},
   "source": [
    "<!-- Projeto Desenvolvido na Data Science Academy - www.datascienceacademy.com.br -->\n",
    "# <font color='blue'>Data Science Academy</font>\n",
    "## <font color='blue'>Engenharia Financeira com Inteligência Artificial</font>\n",
    "## <font color='blue'>Projeto 8</font>\n",
    "## <font color='blue'>Estratégia de Hedge Usando Inteligência Artificial</font>"
   ]
  },
  {
   "cell_type": "markdown",
   "metadata": {},
   "source": [
    "## Instalando e Carregando Pacotes"
   ]
  },
  {
   "cell_type": "code",
   "execution_count": 1,
   "metadata": {},
   "outputs": [],
   "source": [
    "# Para atualizar um pacote, execute o comando abaixo no terminal ou prompt de comando:\n",
    "# pip install -U nome_pacote\n",
    "\n",
    "# Para instalar a versão exata de um pacote, execute o comando abaixo no terminal ou prompt de comando:\n",
    "# pip install nome_pacote==versão_desejada\n",
    "\n",
    "# Depois de instalar ou atualizar o pacote, reinicie o jupyter notebook.\n",
    "\n",
    "# Instala o pacote watermark. \n",
    "# Esse pacote é usado para gravar as versões de outros pacotes usados neste jupyter notebook.\n",
    "!pip install -q -U watermark"
   ]
  },
  {
   "cell_type": "code",
   "execution_count": 2,
   "metadata": {},
   "outputs": [
    {
     "name": "stdout",
     "output_type": "stream",
     "text": [
      "env: TF_CPP_MIN_LOG_LEVEL=3\n"
     ]
    }
   ],
   "source": [
    "%env TF_CPP_MIN_LOG_LEVEL=3"
   ]
  },
  {
   "cell_type": "code",
   "execution_count": 3,
   "metadata": {
    "id": "jwQcWwHHxKg9"
   },
   "outputs": [],
   "source": [
    "# Imports\n",
    "import random\n",
    "import scipy\n",
    "import collections\n",
    "import tensorflow as tf\n",
    "import keras\n",
    "import numpy as np\n",
    "import pandas as pd\n",
    "import plotly.express as px\n",
    "import plotly.graph_objs as go\n",
    "from scipy.stats import norm\n",
    "from collections import deque, namedtuple\n",
    "from keras.models import Sequential\n",
    "from keras.layers import Dense\n",
    "from tqdm.auto import tqdm\n",
    "import warnings\n",
    "warnings.filterwarnings('ignore')"
   ]
  },
  {
   "cell_type": "code",
   "execution_count": 4,
   "metadata": {},
   "outputs": [
    {
     "name": "stdout",
     "output_type": "stream",
     "text": [
      "Author: Data Science Academy\n",
      "\n"
     ]
    }
   ],
   "source": [
    "%reload_ext watermark\n",
    "%watermark -a \"Data Science Academy\""
   ]
  },
  {
   "cell_type": "markdown",
   "metadata": {},
   "source": [
    "## Fase 1 - Processamento dos Dados\n",
    "\n",
    "A primeira parte do trabalho está relacionada ao cálculo do preço de opções financeiras utilizando o modelo Black-Scholes (BS), com simulação de Monte Carlo para a trajetória do preço de uma ação e cálculo dos valores de delta e do valor da opção ao longo do tempo. A preparação dos dados é essencial para simular o comportamento do ativo subjacente e determinar os valores das opções de compra (call) ou venda (put) ao longo do tempo.\n",
    "<!-- Projeto Desenvolvido na Data Science Academy - www.datascienceacademy.com.br -->\n",
    "O processo simula múltiplas trajetórias do preço do ativo subjacente, calcula o delta (sensibilidade) e o valor da opção ao longo do tempo, e ajusta o valor final da opção no momento do vencimento. O ponto-chave é entender como os preços das ações são simulados e como as fórmulas Black-Scholes (BS) são usadas para calcular o delta e o valor da opção.\n",
    "\n",
    "O modelo Black-Scholes (BS) é amplamente utilizado em finanças para precificar opções e ele também é utilizado para calcular o delta de uma opção. Vamos entender porque esse modelo é empregado nesses casos:\n",
    "\n",
    "1. Cálculo do Valor da Opção (Preço da Opção):\n",
    "\n",
    "O modelo de Black-Scholes (BS) fornece uma fórmula para calcular o preço teórico de uma opção de compra (call) ou venda (put). Ele leva em consideração diversos fatores como:\n",
    "\n",
    "- Preço atual do ativo subjacente (S);\n",
    "- Preço de exercício da opção (K);\n",
    "- Volatilidade do ativo subjacente (σ);\n",
    "- Tempo até a expiração (T);\n",
    "- Taxa de juros livre de risco (r);\n",
    "- Dividendo (se houver).\n",
    "\n",
    "O modelo é útil porque facilita a precificação de opções de maneira consistente, ajudando a avaliar se uma opção está cara ou barata no mercado, comparando o preço de mercado com o preço teórico calculado.\n",
    "\n",
    "2. Cálculo do Delta da Opção:\n",
    "\n",
    "O delta de uma opção mede a sensibilidade do preço da opção em relação a pequenas variações no preço do ativo subjacente. Em outras palavras, o delta indica de quanto o preço da opção mudará para cada variação unitária no preço do ativo subjacente.\n",
    "\n",
    "- O delta de uma call está entre 0 e 1, porque o preço da call aumenta à medida que o ativo subjacente aumenta.\n",
    "- O delta de uma put está entre -1 e 0, já que o preço da put aumenta quando o preço do ativo subjacente cai.\n",
    "\n",
    "Leia o ebook sobre Delta x Preço no Capítulo 15 do curso."
   ]
  },
  {
   "cell_type": "markdown",
   "metadata": {},
   "source": [
    "## Calculando o Delta de Uma Opção de Compra (call) ou Venda (put) \n",
    "\n",
    "A função abaixo calcula o delta de uma opção de compra (call) ou venda (put) utilizando a fórmula de Black-Scholes-Merton (BSM). O delta é uma medida de sensibilidade que indica o quanto o preço da opção irá variar em resposta a uma mudança de uma unidade no preço do ativo subjacente.\n",
    "\n",
    "A variável d1 é calculada usando a seguinte fórmula:\n",
    "\n",
    "![DSA](imagens/form1.png)\n",
    "\n",
    "A função retorna o valor do delta, que varia entre 0 e 1 para opções de compra e entre -1 e 0 para opções de venda. Este valor indica a taxa de variação do preço da opção em relação ao preço do ativo subjacente.\n",
    "<!-- Projeto Desenvolvido na Data Science Academy - www.datascienceacademy.com.br -->\n",
    "Uso Prático:\n",
    "\n",
    "- Análise de Sensibilidade: O delta é utilizado para estimar como o preço da opção muda com pequenas variações no preço do ativo subjacente.\n",
    "- Cobertura (Hedge): Traders usam o delta para criar estratégias de hedge, equilibrando posições para minimizar o risco associado a movimentos de preço do ativo subjacente.\n",
    "\n",
    "Argumentos:\n",
    "\n",
    "- s: preço atual da ação\n",
    "- k: preço de exercício (strike)\n",
    "- maturity: tempo até o vencimento\n",
    "- r: taxa de juros livre de risco\n",
    "- sigma: volatilidade do ativo subjacente\n",
    "- exercise_type: 'c' para call e 'p' para put    "
   ]
  },
  {
   "cell_type": "code",
   "execution_count": 5,
   "metadata": {
    "id": "yZFQZQSrBlQ5"
   },
   "outputs": [],
   "source": [
    "# Função\n",
    "def dsa_calcula_delta(s, k, maturity, r, sigma, exercise_type = 'c'):\n",
    "    \n",
    "    # Calcula d1, que é parte da fórmula de Black-Scholes\n",
    "    d1 = (np.log(s / k) + (r + 0.5 * sigma ** 2) * maturity) / (sigma * np.sqrt(maturity))\n",
    "\n",
    "    # Verifica o tipo de exercício (call ou put)\n",
    "    if exercise_type == 'c':\n",
    "        # Calcula o delta para uma opção de compra (call), \n",
    "        # usando a função de distribuição cumulativa (CDF) da normal padrão\n",
    "        delta_calc = norm.cdf(d1, loc = 0, scale = 1)\n",
    "    else:\n",
    "        # Calcula o delta para uma opção de venda (put), usando a CDF ajustada\n",
    "        delta_calc = -norm.cdf(-d1, loc = 0, scale = 1)\n",
    "    \n",
    "    # Retorna o valor do delta calculado\n",
    "    return delta_calc"
   ]
  },
  {
   "cell_type": "markdown",
   "metadata": {},
   "source": [
    "<!-- Projeto Desenvolvido na Data Science Academy - www.datascienceacademy.com.br -->\n",
    "## Calculando o Preço de Uma Opção de Compra (call) ou Venda (put) \n",
    "\n",
    "A função abaixo calcula o preço de uma opção de compra (call) ou venda (put) utilizando a fórmula de Black-Scholes-Merton (BSM). \n",
    "\n",
    "As variáveis d1 e d2 são componentes chave na fórmula de Black-Scholes e são calculadas da seguinte maneira:\n",
    "\n",
    "![DSA](imagens/form2.png)\n",
    "\n",
    "A função retorna o preço teórico da opção, considerando os parâmetros de entrada.\n",
    "\n",
    "Uso Prático:\n",
    "\n",
    "- Precificação de Opções: Essa função é essencial para traders e analistas financeiros que precisam determinar o valor justo de opções para negociação ou avaliação de portfólio.\n",
    "- Análise de Sensibilidade: Alterando os parâmetros como volatilidade (σ), taxa de juros (r), tempo até o vencimento (maturity), etc., é possível avaliar como cada variável afeta o preço da opção.\n",
    "\n",
    "Argumentos:\n",
    "\n",
    "- s: preço atual do ativo subjacente\n",
    "- k: preço de exercício (strike)\n",
    "- maturity: tempo até o vencimento (em anos)\n",
    "- r: taxa de juros livre de risco\n",
    "- sigma: volatilidade do ativo subjacente\n",
    "- exercise_type: 'c' para call e 'p' para put"
   ]
  },
  {
   "cell_type": "code",
   "execution_count": 6,
   "metadata": {
    "id": "_VOBJRnTBoo6"
   },
   "outputs": [],
   "source": [
    "# Função\n",
    "def dsa_black_scholes(s, k, maturity, r, sigma, exercise_type = 'c'):\n",
    "    \n",
    "    # Calcula d1, que é parte da fórmula de Black-Scholes\n",
    "    d1 = (np.log(s / k) + (r + 0.5 * sigma ** 2) * maturity) / (sigma * np.sqrt(maturity))\n",
    "    \n",
    "    # Calcula d2, que também faz parte da fórmula de Black-Scholes\n",
    "    d2 = d1 - sigma * np.sqrt(maturity)\n",
    "    \n",
    "    # Verifica o tipo de exercício (call ou put)\n",
    "    if exercise_type == 'c':\n",
    "        # Calcula o preço da opção de compra (call) com base na fórmula de Black-Scholes\n",
    "        price = s * norm.cdf(d1, loc = 0, scale = 1) - k * np.exp(-r * maturity) * norm.cdf(d2, \n",
    "                                                                                            loc = 0, \n",
    "                                                                                            scale = 1)\n",
    "    else:\n",
    "        # Calcula o preço da opção de venda (put) com base na fórmula de Black-Scholes\n",
    "        price = k * np.exp(-r * maturity) * norm.cdf(-d2, loc = 0, scale = 1) - s * norm.cdf(-d1, \n",
    "                                                                                             loc = 0, \n",
    "                                                                                             scale = 1)\n",
    "    \n",
    "    # Retorna o preço calculado\n",
    "    return price"
   ]
  },
  {
   "cell_type": "markdown",
   "metadata": {},
   "source": [
    "## Calculando o Payoff Terminal de Uma Opção Financeira\n",
    "\n",
    "A função abaixo calcula o payoff terminal de uma opção financeira, seja de compra (call) ou de venda (put), com base no preço final da ação (st), no preço de exercício (k) e no tipo de opção (exercise_type).\n",
    "\n",
    "O payoff terminal de uma opção financeira refere-se ao valor do retorno (ou prejuízo) que o detentor da opção recebe no momento do vencimento, com base no preço do ativo subjacente (ação, índice, etc.) e no preço de exercício da opção (strike price). Esse valor depende do tipo de opção — call (compra) ou put (venda).\n",
    "\n",
    "Componentes:\n",
    "\n",
    "- Preço final da ação (st) é o preço do ativo subjacente (por exemplo, uma ação) no momento do vencimento da opção.\n",
    "- Preço de exercício (k), também conhecido como strike price, é o preço predeterminado ao qual o comprador de uma opção tem o direito de comprar (no caso de uma call) ou vender (no caso de uma put) o ativo subjacente no vencimento.\n",
    "- Tipo de opção (exercise_type): Indica se a opção é uma call (compra) ou uma put (venda).\n",
    "\n",
    "Fórmulas:\n",
    "\n",
    "- Opção de Compra (Call): Se exercise_type for 'c', a função calcula np.maximum(st - k, 0), que representa o ganho potencial se o preço final da ação estiver acima do preço de exercício. O comprador da opção lucra quando st > k.\n",
    "\n",
    "- Opção de Venda (Put): Se exercise_type for 'p', a função calcula np.maximum(k - st, 0), indicando o ganho potencial se o preço final da ação estiver abaixo do preço de exercício. O comprador da opção lucra quando st < k.\n",
    "\n",
    "A função utiliza np.maximum para garantir que o payoff não seja negativo, refletindo a natureza das opções, onde o prejuízo máximo é limitado ao prêmio pago.\n",
    "\n",
    "Argumentos:\n",
    "\n",
    "- st: preço final da ação\n",
    "- k: preço de exercício (strike)\n",
    "- exercise_type: 'c' para call e 'p' para put"
   ]
  },
  {
   "cell_type": "code",
   "execution_count": 7,
   "metadata": {},
   "outputs": [],
   "source": [
    "# Função\n",
    "def dsa_terminal_payoff(st, k, exercise_type = 'c'):\n",
    "    return np.maximum(st - k, 0) if exercise_type == 'c' else np.maximum(k - st, 0)"
   ]
  },
  {
   "cell_type": "markdown",
   "metadata": {},
   "source": [
    "## Ajustando os Parâmetros Para Preparação dos Dados"
   ]
  },
  {
   "cell_type": "code",
   "execution_count": 8,
   "metadata": {},
   "outputs": [],
   "source": [
    "np.random.seed(100)"
   ]
  },
  {
   "cell_type": "code",
   "execution_count": 9,
   "metadata": {},
   "outputs": [],
   "source": [
    "# Número de caminhos simulados para o preço da ação. Determina quantas simulações diferentes são realizadas\n",
    "num_of_path = 2**14-1 "
   ]
  },
  {
   "cell_type": "code",
   "execution_count": 10,
   "metadata": {},
   "outputs": [],
   "source": [
    "# Preço inicial da ação\n",
    "s0 = 100"
   ]
  },
  {
   "cell_type": "code",
   "execution_count": 11,
   "metadata": {},
   "outputs": [],
   "source": [
    "# Taxa de retorno esperada (drift), que captura a tendência esperada do ativo subjacente\n",
    "mu = 0.05"
   ]
  },
  {
   "cell_type": "code",
   "execution_count": 12,
   "metadata": {},
   "outputs": [],
   "source": [
    "# Taxa de volatilidade, que mede a incerteza ou a variação do preço\n",
    "sigma = 0.15  "
   ]
  },
  {
   "cell_type": "code",
   "execution_count": 13,
   "metadata": {},
   "outputs": [],
   "source": [
    "# Taxa de juros livre de risco\n",
    "r = 0.03  "
   ]
  },
  {
   "cell_type": "code",
   "execution_count": 14,
   "metadata": {},
   "outputs": [],
   "source": [
    "# Vencimento da opção em anos\n",
    "expiry = 3"
   ]
  },
  {
   "cell_type": "code",
   "execution_count": 15,
   "metadata": {},
   "outputs": [],
   "source": [
    "# Número de passos de tempo para o vencimento, com base em dias úteis (252 dias por ano)\n",
    "num_of_timestep = 63  "
   ]
  },
  {
   "cell_type": "code",
   "execution_count": 16,
   "metadata": {},
   "outputs": [],
   "source": [
    "# intervalo de tempo entre os passos, calculado como o vencimento dividido pelo número de passos\n",
    "delta_t = expiry / num_of_timestep  "
   ]
  },
  {
   "cell_type": "code",
   "execution_count": 17,
   "metadata": {},
   "outputs": [],
   "source": [
    "# Preço de exercício da opção, assumido como o preço inicial (at-the-money)\n",
    "strike = s0"
   ]
  },
  {
   "cell_type": "code",
   "execution_count": 18,
   "metadata": {},
   "outputs": [],
   "source": [
    "# Define se a opção é de compra (call) ou venda (put)\n",
    "exercise_type = 'c'  "
   ]
  },
  {
   "cell_type": "code",
   "execution_count": 19,
   "metadata": {},
   "outputs": [],
   "source": [
    "# Fator de desconto para trazer valores futuros ao presente\n",
    "gamma = np.exp(- r * delta_t)  "
   ]
  },
  {
   "cell_type": "code",
   "execution_count": 20,
   "metadata": {},
   "outputs": [],
   "source": [
    "# Parâmetros que definem a aversão ao risco, ajustando a avaliação das opções sob preferências de risco\n",
    "risk_aversion = 0.1  \n",
    "risk_lambda = risk_aversion / 2.0  "
   ]
  },
  {
   "cell_type": "markdown",
   "metadata": {},
   "source": [
    "## Preparação dos Dados"
   ]
  },
  {
   "cell_type": "code",
   "execution_count": 21,
   "metadata": {},
   "outputs": [],
   "source": [
    "# Variável aleatória normal padrão Z\n",
    "rand_number = pd.DataFrame(np.random.randn(num_of_path, num_of_timestep), \n",
    "                           index = range(1, num_of_path + 1),\n",
    "                           columns = range(1, num_of_timestep + 1))"
   ]
  },
  {
   "cell_type": "markdown",
   "metadata": {},
   "source": [
    "A matriz rand_number contém variáveis aleatórias normais padronizadas que são usadas para gerar as trajetórias do preço da ação. Essas variáveis são fundamentais para simular movimentos aleatórios (usando uma distribuição normal padrão) no preço do ativo ao longo do tempo."
   ]
  },
  {
   "cell_type": "code",
   "execution_count": 22,
   "metadata": {},
   "outputs": [
    {
     "data": {
      "text/html": [
       "<div>\n",
       "<style scoped>\n",
       "    .dataframe tbody tr th:only-of-type {\n",
       "        vertical-align: middle;\n",
       "    }\n",
       "\n",
       "    .dataframe tbody tr th {\n",
       "        vertical-align: top;\n",
       "    }\n",
       "\n",
       "    .dataframe thead th {\n",
       "        text-align: right;\n",
       "    }\n",
       "</style>\n",
       "<table border=\"1\" class=\"dataframe\">\n",
       "  <thead>\n",
       "    <tr style=\"text-align: right;\">\n",
       "      <th></th>\n",
       "      <th>1</th>\n",
       "      <th>2</th>\n",
       "      <th>3</th>\n",
       "      <th>4</th>\n",
       "      <th>5</th>\n",
       "      <th>6</th>\n",
       "      <th>7</th>\n",
       "      <th>8</th>\n",
       "      <th>9</th>\n",
       "      <th>10</th>\n",
       "      <th>...</th>\n",
       "      <th>54</th>\n",
       "      <th>55</th>\n",
       "      <th>56</th>\n",
       "      <th>57</th>\n",
       "      <th>58</th>\n",
       "      <th>59</th>\n",
       "      <th>60</th>\n",
       "      <th>61</th>\n",
       "      <th>62</th>\n",
       "      <th>63</th>\n",
       "    </tr>\n",
       "  </thead>\n",
       "  <tbody>\n",
       "    <tr>\n",
       "      <th>1</th>\n",
       "      <td>-1.749765</td>\n",
       "      <td>0.342680</td>\n",
       "      <td>1.153036</td>\n",
       "      <td>-0.252436</td>\n",
       "      <td>0.981321</td>\n",
       "      <td>0.514219</td>\n",
       "      <td>0.221180</td>\n",
       "      <td>-1.070043</td>\n",
       "      <td>-0.189496</td>\n",
       "      <td>0.255001</td>\n",
       "      <td>...</td>\n",
       "      <td>-0.827932</td>\n",
       "      <td>0.108863</td>\n",
       "      <td>0.507810</td>\n",
       "      <td>-0.862227</td>\n",
       "      <td>1.249470</td>\n",
       "      <td>-0.079611</td>\n",
       "      <td>-0.889731</td>\n",
       "      <td>-0.881798</td>\n",
       "      <td>0.018639</td>\n",
       "      <td>0.237845</td>\n",
       "    </tr>\n",
       "    <tr>\n",
       "      <th>2</th>\n",
       "      <td>0.013549</td>\n",
       "      <td>-1.635529</td>\n",
       "      <td>-1.044210</td>\n",
       "      <td>0.613039</td>\n",
       "      <td>0.736205</td>\n",
       "      <td>1.026921</td>\n",
       "      <td>-1.432191</td>\n",
       "      <td>-1.841188</td>\n",
       "      <td>0.366093</td>\n",
       "      <td>-0.331777</td>\n",
       "      <td>...</td>\n",
       "      <td>1.586171</td>\n",
       "      <td>0.693391</td>\n",
       "      <td>-1.958081</td>\n",
       "      <td>-0.134801</td>\n",
       "      <td>-1.540616</td>\n",
       "      <td>2.046714</td>\n",
       "      <td>-1.396999</td>\n",
       "      <td>-1.097172</td>\n",
       "      <td>-0.238713</td>\n",
       "      <td>-1.429067</td>\n",
       "    </tr>\n",
       "    <tr>\n",
       "      <th>3</th>\n",
       "      <td>0.949005</td>\n",
       "      <td>-0.019398</td>\n",
       "      <td>0.894598</td>\n",
       "      <td>0.759693</td>\n",
       "      <td>-1.497720</td>\n",
       "      <td>-1.193886</td>\n",
       "      <td>1.296263</td>\n",
       "      <td>0.952276</td>\n",
       "      <td>-1.217254</td>\n",
       "      <td>-0.157265</td>\n",
       "      <td>...</td>\n",
       "      <td>-1.358503</td>\n",
       "      <td>-0.514430</td>\n",
       "      <td>-0.216060</td>\n",
       "      <td>0.422380</td>\n",
       "      <td>-1.094043</td>\n",
       "      <td>1.236908</td>\n",
       "      <td>-0.230285</td>\n",
       "      <td>-0.704418</td>\n",
       "      <td>-0.591375</td>\n",
       "      <td>0.736995</td>\n",
       "    </tr>\n",
       "    <tr>\n",
       "      <th>4</th>\n",
       "      <td>0.435867</td>\n",
       "      <td>1.775994</td>\n",
       "      <td>0.513074</td>\n",
       "      <td>1.170527</td>\n",
       "      <td>2.077712</td>\n",
       "      <td>-0.455922</td>\n",
       "      <td>0.649173</td>\n",
       "      <td>-0.174782</td>\n",
       "      <td>1.017264</td>\n",
       "      <td>-0.599983</td>\n",
       "      <td>...</td>\n",
       "      <td>-0.626854</td>\n",
       "      <td>-0.274940</td>\n",
       "      <td>1.147457</td>\n",
       "      <td>1.159969</td>\n",
       "      <td>0.702185</td>\n",
       "      <td>-1.283905</td>\n",
       "      <td>1.522308</td>\n",
       "      <td>-0.179963</td>\n",
       "      <td>-0.376147</td>\n",
       "      <td>0.460349</td>\n",
       "    </tr>\n",
       "    <tr>\n",
       "      <th>5</th>\n",
       "      <td>1.455421</td>\n",
       "      <td>0.241507</td>\n",
       "      <td>-0.037667</td>\n",
       "      <td>0.831533</td>\n",
       "      <td>2.299369</td>\n",
       "      <td>-0.939602</td>\n",
       "      <td>0.111823</td>\n",
       "      <td>2.539432</td>\n",
       "      <td>0.403598</td>\n",
       "      <td>-1.884834</td>\n",
       "      <td>...</td>\n",
       "      <td>1.012896</td>\n",
       "      <td>1.844523</td>\n",
       "      <td>-0.336144</td>\n",
       "      <td>0.498750</td>\n",
       "      <td>-1.077826</td>\n",
       "      <td>0.576934</td>\n",
       "      <td>0.086525</td>\n",
       "      <td>0.383789</td>\n",
       "      <td>1.334731</td>\n",
       "      <td>1.671791</td>\n",
       "    </tr>\n",
       "    <tr>\n",
       "      <th>...</th>\n",
       "      <td>...</td>\n",
       "      <td>...</td>\n",
       "      <td>...</td>\n",
       "      <td>...</td>\n",
       "      <td>...</td>\n",
       "      <td>...</td>\n",
       "      <td>...</td>\n",
       "      <td>...</td>\n",
       "      <td>...</td>\n",
       "      <td>...</td>\n",
       "      <td>...</td>\n",
       "      <td>...</td>\n",
       "      <td>...</td>\n",
       "      <td>...</td>\n",
       "      <td>...</td>\n",
       "      <td>...</td>\n",
       "      <td>...</td>\n",
       "      <td>...</td>\n",
       "      <td>...</td>\n",
       "      <td>...</td>\n",
       "      <td>...</td>\n",
       "    </tr>\n",
       "    <tr>\n",
       "      <th>16379</th>\n",
       "      <td>0.995210</td>\n",
       "      <td>0.741269</td>\n",
       "      <td>-0.503582</td>\n",
       "      <td>1.003038</td>\n",
       "      <td>1.044609</td>\n",
       "      <td>-1.046722</td>\n",
       "      <td>-0.062859</td>\n",
       "      <td>1.932518</td>\n",
       "      <td>0.368327</td>\n",
       "      <td>-2.564490</td>\n",
       "      <td>...</td>\n",
       "      <td>0.799597</td>\n",
       "      <td>-0.254277</td>\n",
       "      <td>-0.550747</td>\n",
       "      <td>0.103908</td>\n",
       "      <td>0.956375</td>\n",
       "      <td>-1.322589</td>\n",
       "      <td>0.445626</td>\n",
       "      <td>0.658958</td>\n",
       "      <td>0.054331</td>\n",
       "      <td>-0.189158</td>\n",
       "    </tr>\n",
       "    <tr>\n",
       "      <th>16380</th>\n",
       "      <td>0.938384</td>\n",
       "      <td>1.161169</td>\n",
       "      <td>0.947093</td>\n",
       "      <td>0.143107</td>\n",
       "      <td>-0.087426</td>\n",
       "      <td>-0.414335</td>\n",
       "      <td>-0.427363</td>\n",
       "      <td>2.165345</td>\n",
       "      <td>-1.756390</td>\n",
       "      <td>1.281908</td>\n",
       "      <td>...</td>\n",
       "      <td>-0.923141</td>\n",
       "      <td>-0.157340</td>\n",
       "      <td>-0.478137</td>\n",
       "      <td>1.219363</td>\n",
       "      <td>-1.669589</td>\n",
       "      <td>0.930900</td>\n",
       "      <td>0.454600</td>\n",
       "      <td>1.372063</td>\n",
       "      <td>-1.745432</td>\n",
       "      <td>0.244493</td>\n",
       "    </tr>\n",
       "    <tr>\n",
       "      <th>16381</th>\n",
       "      <td>0.347649</td>\n",
       "      <td>0.668901</td>\n",
       "      <td>0.589357</td>\n",
       "      <td>0.829818</td>\n",
       "      <td>-0.081608</td>\n",
       "      <td>0.488869</td>\n",
       "      <td>0.418589</td>\n",
       "      <td>0.684994</td>\n",
       "      <td>1.144945</td>\n",
       "      <td>1.403949</td>\n",
       "      <td>...</td>\n",
       "      <td>0.292882</td>\n",
       "      <td>1.264314</td>\n",
       "      <td>-0.702091</td>\n",
       "      <td>0.244992</td>\n",
       "      <td>0.129356</td>\n",
       "      <td>-0.001679</td>\n",
       "      <td>-1.711053</td>\n",
       "      <td>-0.825394</td>\n",
       "      <td>-0.198561</td>\n",
       "      <td>1.013305</td>\n",
       "    </tr>\n",
       "    <tr>\n",
       "      <th>16382</th>\n",
       "      <td>0.137066</td>\n",
       "      <td>1.373550</td>\n",
       "      <td>0.055345</td>\n",
       "      <td>-0.159237</td>\n",
       "      <td>-0.130942</td>\n",
       "      <td>1.211616</td>\n",
       "      <td>0.627175</td>\n",
       "      <td>0.218795</td>\n",
       "      <td>-0.147860</td>\n",
       "      <td>0.750553</td>\n",
       "      <td>...</td>\n",
       "      <td>1.695128</td>\n",
       "      <td>0.425522</td>\n",
       "      <td>-0.495692</td>\n",
       "      <td>-2.326231</td>\n",
       "      <td>-0.345046</td>\n",
       "      <td>-0.890589</td>\n",
       "      <td>1.145414</td>\n",
       "      <td>-1.491131</td>\n",
       "      <td>0.124343</td>\n",
       "      <td>-0.496767</td>\n",
       "    </tr>\n",
       "    <tr>\n",
       "      <th>16383</th>\n",
       "      <td>0.555198</td>\n",
       "      <td>-0.335339</td>\n",
       "      <td>0.582972</td>\n",
       "      <td>-1.376185</td>\n",
       "      <td>-3.345274</td>\n",
       "      <td>0.159098</td>\n",
       "      <td>2.045627</td>\n",
       "      <td>0.707074</td>\n",
       "      <td>-0.434413</td>\n",
       "      <td>0.620253</td>\n",
       "      <td>...</td>\n",
       "      <td>0.417144</td>\n",
       "      <td>-0.214648</td>\n",
       "      <td>1.608825</td>\n",
       "      <td>-0.255291</td>\n",
       "      <td>-0.893831</td>\n",
       "      <td>0.286962</td>\n",
       "      <td>1.968239</td>\n",
       "      <td>0.056852</td>\n",
       "      <td>0.966735</td>\n",
       "      <td>-0.891272</td>\n",
       "    </tr>\n",
       "  </tbody>\n",
       "</table>\n",
       "<p>16383 rows × 63 columns</p>\n",
       "</div>"
      ],
      "text/plain": [
       "             1         2         3         4         5         6         7   \\\n",
       "1     -1.749765  0.342680  1.153036 -0.252436  0.981321  0.514219  0.221180   \n",
       "2      0.013549 -1.635529 -1.044210  0.613039  0.736205  1.026921 -1.432191   \n",
       "3      0.949005 -0.019398  0.894598  0.759693 -1.497720 -1.193886  1.296263   \n",
       "4      0.435867  1.775994  0.513074  1.170527  2.077712 -0.455922  0.649173   \n",
       "5      1.455421  0.241507 -0.037667  0.831533  2.299369 -0.939602  0.111823   \n",
       "...         ...       ...       ...       ...       ...       ...       ...   \n",
       "16379  0.995210  0.741269 -0.503582  1.003038  1.044609 -1.046722 -0.062859   \n",
       "16380  0.938384  1.161169  0.947093  0.143107 -0.087426 -0.414335 -0.427363   \n",
       "16381  0.347649  0.668901  0.589357  0.829818 -0.081608  0.488869  0.418589   \n",
       "16382  0.137066  1.373550  0.055345 -0.159237 -0.130942  1.211616  0.627175   \n",
       "16383  0.555198 -0.335339  0.582972 -1.376185 -3.345274  0.159098  2.045627   \n",
       "\n",
       "             8         9         10  ...        54        55        56  \\\n",
       "1     -1.070043 -0.189496  0.255001  ... -0.827932  0.108863  0.507810   \n",
       "2     -1.841188  0.366093 -0.331777  ...  1.586171  0.693391 -1.958081   \n",
       "3      0.952276 -1.217254 -0.157265  ... -1.358503 -0.514430 -0.216060   \n",
       "4     -0.174782  1.017264 -0.599983  ... -0.626854 -0.274940  1.147457   \n",
       "5      2.539432  0.403598 -1.884834  ...  1.012896  1.844523 -0.336144   \n",
       "...         ...       ...       ...  ...       ...       ...       ...   \n",
       "16379  1.932518  0.368327 -2.564490  ...  0.799597 -0.254277 -0.550747   \n",
       "16380  2.165345 -1.756390  1.281908  ... -0.923141 -0.157340 -0.478137   \n",
       "16381  0.684994  1.144945  1.403949  ...  0.292882  1.264314 -0.702091   \n",
       "16382  0.218795 -0.147860  0.750553  ...  1.695128  0.425522 -0.495692   \n",
       "16383  0.707074 -0.434413  0.620253  ...  0.417144 -0.214648  1.608825   \n",
       "\n",
       "             57        58        59        60        61        62        63  \n",
       "1     -0.862227  1.249470 -0.079611 -0.889731 -0.881798  0.018639  0.237845  \n",
       "2     -0.134801 -1.540616  2.046714 -1.396999 -1.097172 -0.238713 -1.429067  \n",
       "3      0.422380 -1.094043  1.236908 -0.230285 -0.704418 -0.591375  0.736995  \n",
       "4      1.159969  0.702185 -1.283905  1.522308 -0.179963 -0.376147  0.460349  \n",
       "5      0.498750 -1.077826  0.576934  0.086525  0.383789  1.334731  1.671791  \n",
       "...         ...       ...       ...       ...       ...       ...       ...  \n",
       "16379  0.103908  0.956375 -1.322589  0.445626  0.658958  0.054331 -0.189158  \n",
       "16380  1.219363 -1.669589  0.930900  0.454600  1.372063 -1.745432  0.244493  \n",
       "16381  0.244992  0.129356 -0.001679 -1.711053 -0.825394 -0.198561  1.013305  \n",
       "16382 -2.326231 -0.345046 -0.890589  1.145414 -1.491131  0.124343 -0.496767  \n",
       "16383 -0.255291 -0.893831  0.286962  1.968239  0.056852  0.966735 -0.891272  \n",
       "\n",
       "[16383 rows x 63 columns]"
      ]
     },
     "execution_count": 22,
     "metadata": {},
     "output_type": "execute_result"
    }
   ],
   "source": [
    "rand_number"
   ]
  },
  {
   "cell_type": "code",
   "execution_count": 23,
   "metadata": {},
   "outputs": [],
   "source": [
    "# Preço das ações\n",
    "# As linhas são caminhos, as colunas são etapas de tempo\n",
    "spot_df = pd.DataFrame([], index = range(1, num_of_path + 1), columns = range(num_of_timestep + 1))"
   ]
  },
  {
   "cell_type": "code",
   "execution_count": 24,
   "metadata": {},
   "outputs": [],
   "source": [
    "spot_df[0] = s0"
   ]
  },
  {
   "cell_type": "code",
   "execution_count": 25,
   "metadata": {},
   "outputs": [
    {
     "data": {
      "text/html": [
       "<div>\n",
       "<style scoped>\n",
       "    .dataframe tbody tr th:only-of-type {\n",
       "        vertical-align: middle;\n",
       "    }\n",
       "\n",
       "    .dataframe tbody tr th {\n",
       "        vertical-align: top;\n",
       "    }\n",
       "\n",
       "    .dataframe thead th {\n",
       "        text-align: right;\n",
       "    }\n",
       "</style>\n",
       "<table border=\"1\" class=\"dataframe\">\n",
       "  <thead>\n",
       "    <tr style=\"text-align: right;\">\n",
       "      <th></th>\n",
       "      <th>0</th>\n",
       "      <th>1</th>\n",
       "      <th>2</th>\n",
       "      <th>3</th>\n",
       "      <th>4</th>\n",
       "      <th>5</th>\n",
       "      <th>6</th>\n",
       "      <th>7</th>\n",
       "      <th>8</th>\n",
       "      <th>9</th>\n",
       "      <th>...</th>\n",
       "      <th>54</th>\n",
       "      <th>55</th>\n",
       "      <th>56</th>\n",
       "      <th>57</th>\n",
       "      <th>58</th>\n",
       "      <th>59</th>\n",
       "      <th>60</th>\n",
       "      <th>61</th>\n",
       "      <th>62</th>\n",
       "      <th>63</th>\n",
       "    </tr>\n",
       "  </thead>\n",
       "  <tbody>\n",
       "    <tr>\n",
       "      <th>1</th>\n",
       "      <td>100</td>\n",
       "      <td>NaN</td>\n",
       "      <td>NaN</td>\n",
       "      <td>NaN</td>\n",
       "      <td>NaN</td>\n",
       "      <td>NaN</td>\n",
       "      <td>NaN</td>\n",
       "      <td>NaN</td>\n",
       "      <td>NaN</td>\n",
       "      <td>NaN</td>\n",
       "      <td>...</td>\n",
       "      <td>NaN</td>\n",
       "      <td>NaN</td>\n",
       "      <td>NaN</td>\n",
       "      <td>NaN</td>\n",
       "      <td>NaN</td>\n",
       "      <td>NaN</td>\n",
       "      <td>NaN</td>\n",
       "      <td>NaN</td>\n",
       "      <td>NaN</td>\n",
       "      <td>NaN</td>\n",
       "    </tr>\n",
       "    <tr>\n",
       "      <th>2</th>\n",
       "      <td>100</td>\n",
       "      <td>NaN</td>\n",
       "      <td>NaN</td>\n",
       "      <td>NaN</td>\n",
       "      <td>NaN</td>\n",
       "      <td>NaN</td>\n",
       "      <td>NaN</td>\n",
       "      <td>NaN</td>\n",
       "      <td>NaN</td>\n",
       "      <td>NaN</td>\n",
       "      <td>...</td>\n",
       "      <td>NaN</td>\n",
       "      <td>NaN</td>\n",
       "      <td>NaN</td>\n",
       "      <td>NaN</td>\n",
       "      <td>NaN</td>\n",
       "      <td>NaN</td>\n",
       "      <td>NaN</td>\n",
       "      <td>NaN</td>\n",
       "      <td>NaN</td>\n",
       "      <td>NaN</td>\n",
       "    </tr>\n",
       "    <tr>\n",
       "      <th>3</th>\n",
       "      <td>100</td>\n",
       "      <td>NaN</td>\n",
       "      <td>NaN</td>\n",
       "      <td>NaN</td>\n",
       "      <td>NaN</td>\n",
       "      <td>NaN</td>\n",
       "      <td>NaN</td>\n",
       "      <td>NaN</td>\n",
       "      <td>NaN</td>\n",
       "      <td>NaN</td>\n",
       "      <td>...</td>\n",
       "      <td>NaN</td>\n",
       "      <td>NaN</td>\n",
       "      <td>NaN</td>\n",
       "      <td>NaN</td>\n",
       "      <td>NaN</td>\n",
       "      <td>NaN</td>\n",
       "      <td>NaN</td>\n",
       "      <td>NaN</td>\n",
       "      <td>NaN</td>\n",
       "      <td>NaN</td>\n",
       "    </tr>\n",
       "    <tr>\n",
       "      <th>4</th>\n",
       "      <td>100</td>\n",
       "      <td>NaN</td>\n",
       "      <td>NaN</td>\n",
       "      <td>NaN</td>\n",
       "      <td>NaN</td>\n",
       "      <td>NaN</td>\n",
       "      <td>NaN</td>\n",
       "      <td>NaN</td>\n",
       "      <td>NaN</td>\n",
       "      <td>NaN</td>\n",
       "      <td>...</td>\n",
       "      <td>NaN</td>\n",
       "      <td>NaN</td>\n",
       "      <td>NaN</td>\n",
       "      <td>NaN</td>\n",
       "      <td>NaN</td>\n",
       "      <td>NaN</td>\n",
       "      <td>NaN</td>\n",
       "      <td>NaN</td>\n",
       "      <td>NaN</td>\n",
       "      <td>NaN</td>\n",
       "    </tr>\n",
       "    <tr>\n",
       "      <th>5</th>\n",
       "      <td>100</td>\n",
       "      <td>NaN</td>\n",
       "      <td>NaN</td>\n",
       "      <td>NaN</td>\n",
       "      <td>NaN</td>\n",
       "      <td>NaN</td>\n",
       "      <td>NaN</td>\n",
       "      <td>NaN</td>\n",
       "      <td>NaN</td>\n",
       "      <td>NaN</td>\n",
       "      <td>...</td>\n",
       "      <td>NaN</td>\n",
       "      <td>NaN</td>\n",
       "      <td>NaN</td>\n",
       "      <td>NaN</td>\n",
       "      <td>NaN</td>\n",
       "      <td>NaN</td>\n",
       "      <td>NaN</td>\n",
       "      <td>NaN</td>\n",
       "      <td>NaN</td>\n",
       "      <td>NaN</td>\n",
       "    </tr>\n",
       "  </tbody>\n",
       "</table>\n",
       "<p>5 rows × 64 columns</p>\n",
       "</div>"
      ],
      "text/plain": [
       "    0    1    2    3    4    5    6    7    8    9   ...   54   55   56   57  \\\n",
       "1  100  NaN  NaN  NaN  NaN  NaN  NaN  NaN  NaN  NaN  ...  NaN  NaN  NaN  NaN   \n",
       "2  100  NaN  NaN  NaN  NaN  NaN  NaN  NaN  NaN  NaN  ...  NaN  NaN  NaN  NaN   \n",
       "3  100  NaN  NaN  NaN  NaN  NaN  NaN  NaN  NaN  NaN  ...  NaN  NaN  NaN  NaN   \n",
       "4  100  NaN  NaN  NaN  NaN  NaN  NaN  NaN  NaN  NaN  ...  NaN  NaN  NaN  NaN   \n",
       "5  100  NaN  NaN  NaN  NaN  NaN  NaN  NaN  NaN  NaN  ...  NaN  NaN  NaN  NaN   \n",
       "\n",
       "    58   59   60   61   62   63  \n",
       "1  NaN  NaN  NaN  NaN  NaN  NaN  \n",
       "2  NaN  NaN  NaN  NaN  NaN  NaN  \n",
       "3  NaN  NaN  NaN  NaN  NaN  NaN  \n",
       "4  NaN  NaN  NaN  NaN  NaN  NaN  \n",
       "5  NaN  NaN  NaN  NaN  NaN  NaN  \n",
       "\n",
       "[5 rows x 64 columns]"
      ]
     },
     "execution_count": 25,
     "metadata": {},
     "output_type": "execute_result"
    }
   ],
   "source": [
    "spot_df.head()"
   ]
  },
  {
   "cell_type": "code",
   "execution_count": 26,
   "metadata": {
    "id": "UONWJ63fYUIY"
   },
   "outputs": [],
   "source": [
    "# Loop para carregar o spot_df com os parâmetros definidos\n",
    "for t in range(1, num_of_timestep + 1):\n",
    "    spot_df[t] = spot_df[t - 1] * np.exp((mu - 0.5 * sigma**2) * delta_t + sigma * np.sqrt(delta_t) * rand_number[t])"
   ]
  },
  {
   "cell_type": "markdown",
   "metadata": {},
   "source": [
    "A matriz spot_df representa o preço da ação ao longo do tempo para cada caminho simulado. A fórmula é uma adaptação da equação do movimento geométrico browniano, que modela o comportamento dos preços de ações, onde cada preço futuro depende do preço anterior, do drift (mu) e da volatilidade (sigma).\n",
    "\n",
    "O Movimento Geométrico Browniano (MGB), ou Geometric Brownian Motion (GBM), é um modelo matemático amplamente utilizado em finanças para descrever o comportamento estocástico (aleatório) dos preços de ativos, como ações ou commodities, ao longo do tempo. Ele é uma variação do movimento browniano clássico, que é um processo de aleatoriedade contínua, mas com uma propriedade adicional que o torna mais adequado para modelar preços financeiros."
   ]
  },
  {
   "cell_type": "code",
   "execution_count": 27,
   "metadata": {},
   "outputs": [
    {
     "data": {
      "text/html": [
       "<div>\n",
       "<style scoped>\n",
       "    .dataframe tbody tr th:only-of-type {\n",
       "        vertical-align: middle;\n",
       "    }\n",
       "\n",
       "    .dataframe tbody tr th {\n",
       "        vertical-align: top;\n",
       "    }\n",
       "\n",
       "    .dataframe thead th {\n",
       "        text-align: right;\n",
       "    }\n",
       "</style>\n",
       "<table border=\"1\" class=\"dataframe\">\n",
       "  <thead>\n",
       "    <tr style=\"text-align: right;\">\n",
       "      <th></th>\n",
       "      <th>0</th>\n",
       "      <th>1</th>\n",
       "      <th>2</th>\n",
       "      <th>3</th>\n",
       "      <th>4</th>\n",
       "      <th>5</th>\n",
       "      <th>6</th>\n",
       "      <th>7</th>\n",
       "      <th>8</th>\n",
       "      <th>9</th>\n",
       "      <th>...</th>\n",
       "      <th>54</th>\n",
       "      <th>55</th>\n",
       "      <th>56</th>\n",
       "      <th>57</th>\n",
       "      <th>58</th>\n",
       "      <th>59</th>\n",
       "      <th>60</th>\n",
       "      <th>61</th>\n",
       "      <th>62</th>\n",
       "      <th>63</th>\n",
       "    </tr>\n",
       "  </thead>\n",
       "  <tbody>\n",
       "    <tr>\n",
       "      <th>1</th>\n",
       "      <td>100</td>\n",
       "      <td>94.607893</td>\n",
       "      <td>95.851775</td>\n",
       "      <td>99.722386</td>\n",
       "      <td>99.084450</td>\n",
       "      <td>102.507813</td>\n",
       "      <td>104.440342</td>\n",
       "      <td>105.393510</td>\n",
       "      <td>101.953916</td>\n",
       "      <td>101.510622</td>\n",
       "      <td>...</td>\n",
       "      <td>92.137761</td>\n",
       "      <td>92.637450</td>\n",
       "      <td>94.364099</td>\n",
       "      <td>91.907526</td>\n",
       "      <td>95.921165</td>\n",
       "      <td>95.848230</td>\n",
       "      <td>93.269014</td>\n",
       "      <td>90.782774</td>\n",
       "      <td>91.005951</td>\n",
       "      <td>91.886620</td>\n",
       "    </tr>\n",
       "    <tr>\n",
       "      <th>2</th>\n",
       "      <td>100</td>\n",
       "      <td>100.229134</td>\n",
       "      <td>95.179909</td>\n",
       "      <td>92.151533</td>\n",
       "      <td>94.193009</td>\n",
       "      <td>96.668653</td>\n",
       "      <td>100.157937</td>\n",
       "      <td>95.747461</td>\n",
       "      <td>90.313984</td>\n",
       "      <td>91.571562</td>\n",
       "      <td>...</td>\n",
       "      <td>70.089482</td>\n",
       "      <td>71.830884</td>\n",
       "      <td>67.495876</td>\n",
       "      <td>67.322825</td>\n",
       "      <td>64.130244</td>\n",
       "      <td>68.700450</td>\n",
       "      <td>65.750906</td>\n",
       "      <td>63.548622</td>\n",
       "      <td>63.170463</td>\n",
       "      <td>60.394913</td>\n",
       "    </tr>\n",
       "    <tr>\n",
       "      <th>3</th>\n",
       "      <td>100</td>\n",
       "      <td>103.345619</td>\n",
       "      <td>103.470774</td>\n",
       "      <td>106.742247</td>\n",
       "      <td>109.631973</td>\n",
       "      <td>104.579744</td>\n",
       "      <td>100.757439</td>\n",
       "      <td>105.318745</td>\n",
       "      <td>108.853963</td>\n",
       "      <td>104.795249</td>\n",
       "      <td>...</td>\n",
       "      <td>112.748536</td>\n",
       "      <td>111.070658</td>\n",
       "      <td>110.491608</td>\n",
       "      <td>112.236746</td>\n",
       "      <td>108.488560</td>\n",
       "      <td>113.179752</td>\n",
       "      <td>112.537295</td>\n",
       "      <td>110.175265</td>\n",
       "      <td>108.262666</td>\n",
       "      <td>111.110970</td>\n",
       "    </tr>\n",
       "    <tr>\n",
       "      <th>4</th>\n",
       "      <td>100</td>\n",
       "      <td>101.624285</td>\n",
       "      <td>107.906035</td>\n",
       "      <td>109.936216</td>\n",
       "      <td>114.441076</td>\n",
       "      <td>122.721113</td>\n",
       "      <td>121.126577</td>\n",
       "      <td>123.956476</td>\n",
       "      <td>123.476971</td>\n",
       "      <td>127.893476</td>\n",
       "      <td>...</td>\n",
       "      <td>144.731877</td>\n",
       "      <td>143.700120</td>\n",
       "      <td>149.475609</td>\n",
       "      <td>155.546911</td>\n",
       "      <td>159.457429</td>\n",
       "      <td>153.177376</td>\n",
       "      <td>161.300813</td>\n",
       "      <td>160.649598</td>\n",
       "      <td>158.976836</td>\n",
       "      <td>161.688592</td>\n",
       "    </tr>\n",
       "    <tr>\n",
       "      <th>5</th>\n",
       "      <td>100</td>\n",
       "      <td>105.072992</td>\n",
       "      <td>106.102508</td>\n",
       "      <td>106.167495</td>\n",
       "      <td>109.298376</td>\n",
       "      <td>118.059803</td>\n",
       "      <td>114.695505</td>\n",
       "      <td>115.328701</td>\n",
       "      <td>125.556265</td>\n",
       "      <td>127.460955</td>\n",
       "      <td>...</td>\n",
       "      <td>188.081461</td>\n",
       "      <td>200.155908</td>\n",
       "      <td>198.331319</td>\n",
       "      <td>201.968075</td>\n",
       "      <td>195.326933</td>\n",
       "      <td>199.418289</td>\n",
       "      <td>200.353239</td>\n",
       "      <td>203.260759</td>\n",
       "      <td>212.730102</td>\n",
       "      <td>225.110566</td>\n",
       "    </tr>\n",
       "  </tbody>\n",
       "</table>\n",
       "<p>5 rows × 64 columns</p>\n",
       "</div>"
      ],
      "text/plain": [
       "    0           1           2           3           4           5   \\\n",
       "1  100   94.607893   95.851775   99.722386   99.084450  102.507813   \n",
       "2  100  100.229134   95.179909   92.151533   94.193009   96.668653   \n",
       "3  100  103.345619  103.470774  106.742247  109.631973  104.579744   \n",
       "4  100  101.624285  107.906035  109.936216  114.441076  122.721113   \n",
       "5  100  105.072992  106.102508  106.167495  109.298376  118.059803   \n",
       "\n",
       "           6           7           8           9   ...          54  \\\n",
       "1  104.440342  105.393510  101.953916  101.510622  ...   92.137761   \n",
       "2  100.157937   95.747461   90.313984   91.571562  ...   70.089482   \n",
       "3  100.757439  105.318745  108.853963  104.795249  ...  112.748536   \n",
       "4  121.126577  123.956476  123.476971  127.893476  ...  144.731877   \n",
       "5  114.695505  115.328701  125.556265  127.460955  ...  188.081461   \n",
       "\n",
       "           55          56          57          58          59          60  \\\n",
       "1   92.637450   94.364099   91.907526   95.921165   95.848230   93.269014   \n",
       "2   71.830884   67.495876   67.322825   64.130244   68.700450   65.750906   \n",
       "3  111.070658  110.491608  112.236746  108.488560  113.179752  112.537295   \n",
       "4  143.700120  149.475609  155.546911  159.457429  153.177376  161.300813   \n",
       "5  200.155908  198.331319  201.968075  195.326933  199.418289  200.353239   \n",
       "\n",
       "           61          62          63  \n",
       "1   90.782774   91.005951   91.886620  \n",
       "2   63.548622   63.170463   60.394913  \n",
       "3  110.175265  108.262666  111.110970  \n",
       "4  160.649598  158.976836  161.688592  \n",
       "5  203.260759  212.730102  225.110566  \n",
       "\n",
       "[5 rows x 64 columns]"
      ]
     },
     "execution_count": 27,
     "metadata": {},
     "output_type": "execute_result"
    }
   ],
   "source": [
    "spot_df.head()"
   ]
  },
  {
   "cell_type": "code",
   "execution_count": 28,
   "metadata": {
    "colab": {
     "base_uri": "https://localhost:8080/"
    },
    "id": "QjVmYrUyCsJy",
    "outputId": "193adb5c-5b24-44ec-aa9b-3c0cc96bac0a"
   },
   "outputs": [],
   "source": [
    "# Prepara o delta_df\n",
    "delta_df = pd.DataFrame([], index = range(1, num_of_path + 1), columns = range(num_of_timestep + 1))"
   ]
  },
  {
   "cell_type": "code",
   "execution_count": 29,
   "metadata": {},
   "outputs": [],
   "source": [
    "# Loop para carregar o delta_df com os parâmetros definidos\n",
    "for t in range(num_of_timestep + 1):\n",
    "    delta_df.loc[:,t] = dsa_calcula_delta(spot_df.loc[:,t], strike, expiry - delta_t * t, r, sigma, exercise_type)"
   ]
  },
  {
   "cell_type": "markdown",
   "metadata": {},
   "source": [
    "A matriz delta_df armazena os valores do delta para cada caminho e em cada passo de tempo. Delta é uma medida de sensibilidade do preço da opção em relação ao preço do ativo subjacente.\n",
    "\n",
    "A função dsa_calcula_delta usa a fórmula de Black-Scholes para calcular o delta:\n",
    "\n",
    "- Se for uma opção de compra (call), ela usa a função de distribuição cumulativa normal (norm.cdf) para calcular o delta.\n",
    "- Se for uma opção de venda (put), ajusta a fórmula para refletir a sensibilidade adequada."
   ]
  },
  {
   "cell_type": "code",
   "execution_count": 30,
   "metadata": {},
   "outputs": [
    {
     "data": {
      "text/html": [
       "<div>\n",
       "<style scoped>\n",
       "    .dataframe tbody tr th:only-of-type {\n",
       "        vertical-align: middle;\n",
       "    }\n",
       "\n",
       "    .dataframe tbody tr th {\n",
       "        vertical-align: top;\n",
       "    }\n",
       "\n",
       "    .dataframe thead th {\n",
       "        text-align: right;\n",
       "    }\n",
       "</style>\n",
       "<table border=\"1\" class=\"dataframe\">\n",
       "  <thead>\n",
       "    <tr style=\"text-align: right;\">\n",
       "      <th></th>\n",
       "      <th>0</th>\n",
       "      <th>1</th>\n",
       "      <th>2</th>\n",
       "      <th>3</th>\n",
       "      <th>4</th>\n",
       "      <th>5</th>\n",
       "      <th>6</th>\n",
       "      <th>7</th>\n",
       "      <th>8</th>\n",
       "      <th>9</th>\n",
       "      <th>...</th>\n",
       "      <th>54</th>\n",
       "      <th>55</th>\n",
       "      <th>56</th>\n",
       "      <th>57</th>\n",
       "      <th>58</th>\n",
       "      <th>59</th>\n",
       "      <th>60</th>\n",
       "      <th>61</th>\n",
       "      <th>62</th>\n",
       "      <th>63</th>\n",
       "    </tr>\n",
       "  </thead>\n",
       "  <tbody>\n",
       "    <tr>\n",
       "      <th>1</th>\n",
       "      <td>0.683075</td>\n",
       "      <td>0.601587</td>\n",
       "      <td>0.619043</td>\n",
       "      <td>0.675039</td>\n",
       "      <td>0.664349</td>\n",
       "      <td>0.711025</td>\n",
       "      <td>0.735283</td>\n",
       "      <td>0.746504</td>\n",
       "      <td>0.700125</td>\n",
       "      <td>0.692628</td>\n",
       "      <td>...</td>\n",
       "      <td>0.256604</td>\n",
       "      <td>0.255813</td>\n",
       "      <td>0.304653</td>\n",
       "      <td>0.1826</td>\n",
       "      <td>0.331864</td>\n",
       "      <td>0.298849</td>\n",
       "      <td>0.130265</td>\n",
       "      <td>0.022529</td>\n",
       "      <td>0.002407</td>\n",
       "      <td>0.0</td>\n",
       "    </tr>\n",
       "    <tr>\n",
       "      <th>2</th>\n",
       "      <td>0.683075</td>\n",
       "      <td>0.684883</td>\n",
       "      <td>0.608517</td>\n",
       "      <td>0.556643</td>\n",
       "      <td>0.588234</td>\n",
       "      <td>0.625936</td>\n",
       "      <td>0.677045</td>\n",
       "      <td>0.60706</td>\n",
       "      <td>0.510119</td>\n",
       "      <td>0.529863</td>\n",
       "      <td>...</td>\n",
       "      <td>0.000292</td>\n",
       "      <td>0.000332</td>\n",
       "      <td>0.000006</td>\n",
       "      <td>0.000001</td>\n",
       "      <td>0.0</td>\n",
       "      <td>0.0</td>\n",
       "      <td>0.0</td>\n",
       "      <td>0.0</td>\n",
       "      <td>0.0</td>\n",
       "      <td>0.0</td>\n",
       "    </tr>\n",
       "    <tr>\n",
       "      <th>3</th>\n",
       "      <td>0.683075</td>\n",
       "      <td>0.725814</td>\n",
       "      <td>0.726464</td>\n",
       "      <td>0.764906</td>\n",
       "      <td>0.795795</td>\n",
       "      <td>0.737825</td>\n",
       "      <td>0.685665</td>\n",
       "      <td>0.745576</td>\n",
       "      <td>0.786555</td>\n",
       "      <td>0.737516</td>\n",
       "      <td>...</td>\n",
       "      <td>0.919534</td>\n",
       "      <td>0.903853</td>\n",
       "      <td>0.905039</td>\n",
       "      <td>0.94372</td>\n",
       "      <td>0.893864</td>\n",
       "      <td>0.977848</td>\n",
       "      <td>0.985639</td>\n",
       "      <td>0.985304</td>\n",
       "      <td>0.99353</td>\n",
       "      <td>1.0</td>\n",
       "    </tr>\n",
       "    <tr>\n",
       "      <th>4</th>\n",
       "      <td>0.683075</td>\n",
       "      <td>0.703687</td>\n",
       "      <td>0.778259</td>\n",
       "      <td>0.799113</td>\n",
       "      <td>0.840726</td>\n",
       "      <td>0.899437</td>\n",
       "      <td>0.890397</td>\n",
       "      <td>0.907552</td>\n",
       "      <td>0.905538</td>\n",
       "      <td>0.928378</td>\n",
       "      <td>...</td>\n",
       "      <td>0.99996</td>\n",
       "      <td>0.999978</td>\n",
       "      <td>0.999999</td>\n",
       "      <td>1.0</td>\n",
       "      <td>1.0</td>\n",
       "      <td>1.0</td>\n",
       "      <td>1.0</td>\n",
       "      <td>1.0</td>\n",
       "      <td>1.0</td>\n",
       "      <td>1.0</td>\n",
       "    </tr>\n",
       "    <tr>\n",
       "      <th>5</th>\n",
       "      <td>0.683075</td>\n",
       "      <td>0.74682</td>\n",
       "      <td>0.75816</td>\n",
       "      <td>0.75831</td>\n",
       "      <td>0.792342</td>\n",
       "      <td>0.869284</td>\n",
       "      <td>0.843245</td>\n",
       "      <td>0.8488</td>\n",
       "      <td>0.9166</td>\n",
       "      <td>0.926433</td>\n",
       "      <td>...</td>\n",
       "      <td>1.0</td>\n",
       "      <td>1.0</td>\n",
       "      <td>1.0</td>\n",
       "      <td>1.0</td>\n",
       "      <td>1.0</td>\n",
       "      <td>1.0</td>\n",
       "      <td>1.0</td>\n",
       "      <td>1.0</td>\n",
       "      <td>1.0</td>\n",
       "      <td>1.0</td>\n",
       "    </tr>\n",
       "  </tbody>\n",
       "</table>\n",
       "<p>5 rows × 64 columns</p>\n",
       "</div>"
      ],
      "text/plain": [
       "         0         1         2         3         4         5         6   \\\n",
       "1  0.683075  0.601587  0.619043  0.675039  0.664349  0.711025  0.735283   \n",
       "2  0.683075  0.684883  0.608517  0.556643  0.588234  0.625936  0.677045   \n",
       "3  0.683075  0.725814  0.726464  0.764906  0.795795  0.737825  0.685665   \n",
       "4  0.683075  0.703687  0.778259  0.799113  0.840726  0.899437  0.890397   \n",
       "5  0.683075   0.74682   0.75816   0.75831  0.792342  0.869284  0.843245   \n",
       "\n",
       "         7         8         9   ...        54        55        56        57  \\\n",
       "1  0.746504  0.700125  0.692628  ...  0.256604  0.255813  0.304653    0.1826   \n",
       "2   0.60706  0.510119  0.529863  ...  0.000292  0.000332  0.000006  0.000001   \n",
       "3  0.745576  0.786555  0.737516  ...  0.919534  0.903853  0.905039   0.94372   \n",
       "4  0.907552  0.905538  0.928378  ...   0.99996  0.999978  0.999999       1.0   \n",
       "5    0.8488    0.9166  0.926433  ...       1.0       1.0       1.0       1.0   \n",
       "\n",
       "         58        59        60        61        62   63  \n",
       "1  0.331864  0.298849  0.130265  0.022529  0.002407  0.0  \n",
       "2       0.0       0.0       0.0       0.0       0.0  0.0  \n",
       "3  0.893864  0.977848  0.985639  0.985304   0.99353  1.0  \n",
       "4       1.0       1.0       1.0       1.0       1.0  1.0  \n",
       "5       1.0       1.0       1.0       1.0       1.0  1.0  \n",
       "\n",
       "[5 rows x 64 columns]"
      ]
     },
     "execution_count": 30,
     "metadata": {},
     "output_type": "execute_result"
    }
   ],
   "source": [
    "delta_df.head()"
   ]
  },
  {
   "cell_type": "code",
   "execution_count": 31,
   "metadata": {},
   "outputs": [],
   "source": [
    "# Prepara o option_value_df\n",
    "option_value_df = pd.DataFrame([], index = range(1, num_of_path + 1), columns = range(num_of_timestep + 1))"
   ]
  },
  {
   "cell_type": "code",
   "execution_count": 32,
   "metadata": {
    "colab": {
     "base_uri": "https://localhost:8080/"
    },
    "id": "aE8tdVNXKdKv",
    "outputId": "44d9054c-0b1c-4e64-9b3c-b19a7b950df8"
   },
   "outputs": [],
   "source": [
    "# Loop para carregar o option_value_df com os parâmetros definidos\n",
    "for t in range(num_of_timestep):\n",
    "    option_value_df.loc[:,t] = dsa_black_scholes(spot_df.loc[:,t], strike, expiry - delta_t * t, r, sigma, exercise_type)"
   ]
  },
  {
   "cell_type": "markdown",
   "metadata": {},
   "source": [
    "A matriz option_value_df armazena o valor da opção para cada caminho e em cada passo de tempo. Ela é preenchida usando a fórmula de Black-Scholes com a função dsa_black_scholes. Este cálculo leva em consideração o preço atual do ativo, o tempo restante até o vencimento, a taxa de juros e a volatilidade."
   ]
  },
  {
   "cell_type": "code",
   "execution_count": 33,
   "metadata": {},
   "outputs": [],
   "source": [
    "# Ajusta o pagamento final\n",
    "option_value_df.iloc[:,-1] = dsa_terminal_payoff(spot_df.iloc[:,-1], strike, exercise_type)"
   ]
  },
  {
   "cell_type": "markdown",
   "metadata": {},
   "source": [
    "No final do vencimento, o valor da opção é ajustado para refletir o pagamento terminal (o valor intrínseco da opção no momento do vencimento), usando a função dsa_terminal_payoff. Isso garante que o valor da opção no último passo de tempo seja consistente com o preço de exercício."
   ]
  },
  {
   "cell_type": "code",
   "execution_count": 34,
   "metadata": {},
   "outputs": [
    {
     "data": {
      "text/html": [
       "<div>\n",
       "<style scoped>\n",
       "    .dataframe tbody tr th:only-of-type {\n",
       "        vertical-align: middle;\n",
       "    }\n",
       "\n",
       "    .dataframe tbody tr th {\n",
       "        vertical-align: top;\n",
       "    }\n",
       "\n",
       "    .dataframe thead th {\n",
       "        text-align: right;\n",
       "    }\n",
       "</style>\n",
       "<table border=\"1\" class=\"dataframe\">\n",
       "  <thead>\n",
       "    <tr style=\"text-align: right;\">\n",
       "      <th></th>\n",
       "      <th>0</th>\n",
       "      <th>1</th>\n",
       "      <th>2</th>\n",
       "      <th>3</th>\n",
       "      <th>4</th>\n",
       "      <th>5</th>\n",
       "      <th>6</th>\n",
       "      <th>7</th>\n",
       "      <th>8</th>\n",
       "      <th>9</th>\n",
       "      <th>...</th>\n",
       "      <th>54</th>\n",
       "      <th>55</th>\n",
       "      <th>56</th>\n",
       "      <th>57</th>\n",
       "      <th>58</th>\n",
       "      <th>59</th>\n",
       "      <th>60</th>\n",
       "      <th>61</th>\n",
       "      <th>62</th>\n",
       "      <th>63</th>\n",
       "    </tr>\n",
       "  </thead>\n",
       "  <tbody>\n",
       "    <tr>\n",
       "      <th>1</th>\n",
       "      <td>14.778198</td>\n",
       "      <td>11.16323</td>\n",
       "      <td>11.779534</td>\n",
       "      <td>14.137136</td>\n",
       "      <td>13.558167</td>\n",
       "      <td>15.759066</td>\n",
       "      <td>16.998501</td>\n",
       "      <td>17.544372</td>\n",
       "      <td>14.89455</td>\n",
       "      <td>14.426738</td>\n",
       "      <td>...</td>\n",
       "      <td>1.330556</td>\n",
       "      <td>1.259596</td>\n",
       "      <td>1.518855</td>\n",
       "      <td>0.70618</td>\n",
       "      <td>1.476473</td>\n",
       "      <td>1.148652</td>\n",
       "      <td>0.336844</td>\n",
       "      <td>0.034745</td>\n",
       "      <td>0.002106</td>\n",
       "      <td>0.0</td>\n",
       "    </tr>\n",
       "    <tr>\n",
       "      <th>2</th>\n",
       "      <td>14.778198</td>\n",
       "      <td>14.784486</td>\n",
       "      <td>11.367147</td>\n",
       "      <td>9.461876</td>\n",
       "      <td>10.491109</td>\n",
       "      <td>11.849006</td>\n",
       "      <td>13.971638</td>\n",
       "      <td>10.9849</td>\n",
       "      <td>7.803458</td>\n",
       "      <td>8.321018</td>\n",
       "      <td>...</td>\n",
       "      <td>0.0005</td>\n",
       "      <td>0.000555</td>\n",
       "      <td>0.000007</td>\n",
       "      <td>0.000001</td>\n",
       "      <td>0.0</td>\n",
       "      <td>0.0</td>\n",
       "      <td>0.0</td>\n",
       "      <td>0.0</td>\n",
       "      <td>0.0</td>\n",
       "      <td>0.0</td>\n",
       "    </tr>\n",
       "    <tr>\n",
       "      <th>3</th>\n",
       "      <td>14.778198</td>\n",
       "      <td>16.983703</td>\n",
       "      <td>16.919668</td>\n",
       "      <td>19.20309</td>\n",
       "      <td>21.299212</td>\n",
       "      <td>17.260339</td>\n",
       "      <td>14.380119</td>\n",
       "      <td>17.488595</td>\n",
       "      <td>20.035705</td>\n",
       "      <td>16.776801</td>\n",
       "      <td>...</td>\n",
       "      <td>14.446766</td>\n",
       "      <td>12.68976</td>\n",
       "      <td>11.928045</td>\n",
       "      <td>13.312751</td>\n",
       "      <td>9.616981</td>\n",
       "      <td>13.81198</td>\n",
       "      <td>12.99788</td>\n",
       "      <td>10.48749</td>\n",
       "      <td>8.412924</td>\n",
       "      <td>11.11097</td>\n",
       "    </tr>\n",
       "    <tr>\n",
       "      <th>4</th>\n",
       "      <td>14.778198</td>\n",
       "      <td>15.753208</td>\n",
       "      <td>20.259539</td>\n",
       "      <td>21.701897</td>\n",
       "      <td>25.237886</td>\n",
       "      <td>32.297619</td>\n",
       "      <td>30.711801</td>\n",
       "      <td>33.097404</td>\n",
       "      <td>32.503961</td>\n",
       "      <td>36.397688</td>\n",
       "      <td>...</td>\n",
       "      <td>46.009494</td>\n",
       "      <td>44.836537</td>\n",
       "      <td>50.470627</td>\n",
       "      <td>56.40039</td>\n",
       "      <td>60.16917</td>\n",
       "      <td>53.747175</td>\n",
       "      <td>61.728468</td>\n",
       "      <td>60.934905</td>\n",
       "      <td>59.119592</td>\n",
       "      <td>61.688592</td>\n",
       "    </tr>\n",
       "    <tr>\n",
       "      <th>5</th>\n",
       "      <td>14.778198</td>\n",
       "      <td>18.255771</td>\n",
       "      <td>18.873854</td>\n",
       "      <td>18.765347</td>\n",
       "      <td>21.034312</td>\n",
       "      <td>28.172708</td>\n",
       "      <td>25.129611</td>\n",
       "      <td>25.503064</td>\n",
       "      <td>34.398551</td>\n",
       "      <td>35.996564</td>\n",
       "      <td>...</td>\n",
       "      <td>89.358945</td>\n",
       "      <td>101.292259</td>\n",
       "      <td>99.326335</td>\n",
       "      <td>102.821554</td>\n",
       "      <td>96.038674</td>\n",
       "      <td>99.988088</td>\n",
       "      <td>100.780893</td>\n",
       "      <td>103.546065</td>\n",
       "      <td>112.872858</td>\n",
       "      <td>125.110566</td>\n",
       "    </tr>\n",
       "  </tbody>\n",
       "</table>\n",
       "<p>5 rows × 64 columns</p>\n",
       "</div>"
      ],
      "text/plain": [
       "          0          1          2          3          4          5   \\\n",
       "1  14.778198   11.16323  11.779534  14.137136  13.558167  15.759066   \n",
       "2  14.778198  14.784486  11.367147   9.461876  10.491109  11.849006   \n",
       "3  14.778198  16.983703  16.919668   19.20309  21.299212  17.260339   \n",
       "4  14.778198  15.753208  20.259539  21.701897  25.237886  32.297619   \n",
       "5  14.778198  18.255771  18.873854  18.765347  21.034312  28.172708   \n",
       "\n",
       "          6          7          8          9   ...         54          55  \\\n",
       "1  16.998501  17.544372   14.89455  14.426738  ...   1.330556    1.259596   \n",
       "2  13.971638    10.9849   7.803458   8.321018  ...     0.0005    0.000555   \n",
       "3  14.380119  17.488595  20.035705  16.776801  ...  14.446766    12.68976   \n",
       "4  30.711801  33.097404  32.503961  36.397688  ...  46.009494   44.836537   \n",
       "5  25.129611  25.503064  34.398551  35.996564  ...  89.358945  101.292259   \n",
       "\n",
       "          56          57         58         59          60          61  \\\n",
       "1   1.518855     0.70618   1.476473   1.148652    0.336844    0.034745   \n",
       "2   0.000007    0.000001        0.0        0.0         0.0         0.0   \n",
       "3  11.928045   13.312751   9.616981   13.81198    12.99788    10.48749   \n",
       "4  50.470627    56.40039   60.16917  53.747175   61.728468   60.934905   \n",
       "5  99.326335  102.821554  96.038674  99.988088  100.780893  103.546065   \n",
       "\n",
       "           62          63  \n",
       "1    0.002106         0.0  \n",
       "2         0.0         0.0  \n",
       "3    8.412924    11.11097  \n",
       "4   59.119592   61.688592  \n",
       "5  112.872858  125.110566  \n",
       "\n",
       "[5 rows x 64 columns]"
      ]
     },
     "execution_count": 34,
     "metadata": {},
     "output_type": "execute_result"
    }
   ],
   "source": [
    "option_value_df.head()"
   ]
  },
  {
   "cell_type": "markdown",
   "metadata": {},
   "source": [
    "## Função Para Mostrar o Caminho de Venda\n",
    "\n",
    "A função abaixo recebe um DataFrame (input_df) contendo diferentes séries temporais e plota os caminhos selecionados, especificados na lista sel_path. \n",
    "\n",
    "Primeiro, ela redefine o índice do DataFrame e renomeia a coluna de índice como 'path_id'. Em seguida, a função transforma o DataFrame de um formato largo (wide) para longo (long), permitindo que as diferentes etapas de tempo sejam representadas adequadamente. \n",
    "\n",
    "Utilizando a biblioteca Plotly Express, a função cria um gráfico de linha em que o eixo x representa os passos de tempo e o eixo y representa os valores de cada caminho, com cores distintas para cada caminho selecionado. O gráfico resultante é retornado como um objeto de figura."
   ]
  },
  {
   "cell_type": "code",
   "execution_count": 35,
   "metadata": {},
   "outputs": [],
   "source": [
    "# Função\n",
    "def dsa_mostra_caminho_venda(input_df, sel_path, value_name = 'Value'):\n",
    "    \n",
    "    # Reinicia o índice do DataFrame e renomeia a coluna 'index' para 'path_id'\n",
    "    df = input_df.reset_index().rename(columns = {'index':'path_id'})\n",
    "    \n",
    "    # Converte o DataFrame de formato largo para longo, usando 'path_id' como identificador\n",
    "    df = df.melt(id_vars = ['path_id'], \n",
    "                 value_vars = input_df.columns, \n",
    "                 var_name = 'Time Steps', \n",
    "                 value_name = value_name)\n",
    "    \n",
    "    # Cria um gráfico de linha para os caminhos selecionados\n",
    "    fig = px.line(df[df['path_id'].isin(sel_path)], \n",
    "                  x = 'Time Steps', \n",
    "                  y = value_name, \n",
    "                  color = 'path_id')\n",
    "    \n",
    "    # Retorna o objeto de figura gerado\n",
    "    return fig"
   ]
  },
  {
   "cell_type": "code",
   "execution_count": 36,
   "metadata": {},
   "outputs": [],
   "source": [
    "sel_path = np.random.choice(num_of_path, 5)"
   ]
  },
  {
   "cell_type": "code",
   "execution_count": 37,
   "metadata": {},
   "outputs": [
    {
     "data": {
      "application/vnd.plotly.v1+json": {
       "config": {
        "plotlyServerURL": "https://plot.ly"
       },
       "data": [
        {
         "hovertemplate": "path_id=152<br>Time Steps=%{x}<br>Spot=%{y}<extra></extra>",
         "legendgroup": "152",
         "line": {
          "color": "#636efa",
          "dash": "solid"
         },
         "marker": {
          "symbol": "circle"
         },
         "mode": "lines",
         "name": "152",
         "orientation": "v",
         "showlegend": true,
         "type": "scatter",
         "x": [
          0,
          1,
          2,
          3,
          4,
          5,
          6,
          7,
          8,
          9,
          10,
          11,
          12,
          13,
          14,
          15,
          16,
          17,
          18,
          19,
          20,
          21,
          22,
          23,
          24,
          25,
          26,
          27,
          28,
          29,
          30,
          31,
          32,
          33,
          34,
          35,
          36,
          37,
          38,
          39,
          40,
          41,
          42,
          43,
          44,
          45,
          46,
          47,
          48,
          49,
          50,
          51,
          52,
          53,
          54,
          55,
          56,
          57,
          58,
          59,
          60,
          61,
          62,
          63
         ],
         "xaxis": "x",
         "y": {
          "bdata": "AAAAAAAAWUAMKeWW5m1YQInC/0YRxllACFu3hz1vWUD6pN/pmI9aQHDmGzD0fFtAgjSb0VK7W0BtLlAWFmZbQIsQksvuz1xA1FC+/mYTXkC/JoIXlS5gQHFdg+UK7V9AwxvbdTz8XkA/s1IajgVgQHUW1O74CF9ApIcxivJEXUC1M9fAwBReQLHa88fyv11AfWHfD9o2XUDGUHIfW8BeQJPJ0WafBV9AJOOuuqzYXkCZSXVJ1S9gQBKdMW6xBmBAPBMpsocYYUCf2ZPfYQZgQFTI995ydV9AHXawHTdpYEAYVAjLAZlfQL2umtkl1mBAcOXVBnbTYECXOQvnoeRgQAghb84UzV9A31V7M8WcYEAAGRQInjJfQJvDL2i2a2BAtZ3NNdf6YEAjNxCF1bRgQOlzjGLPkWBA/dFQCbVHYUCzgdYqXzlhQEUBA0jyv2FA9I74CuVIYkDpy2yaU91hQCotBaxSJGJAtAEssgn0YUB34HCKonJhQNgsbT1BCmFABpQnvbu1YEB1ErGqJlNgQKhmL/MAsF9AWmyhJYUJYEARhOtMMmFfQGZHVxNOPV5AFManfRm5XEA/lgwsXo9dQKGEPkYZVl1AsYcAR71IXUB+gHgMJKhdQKoBgz5WJ1xAnnkXiDaoWkDsWRoRruZaQGw7QbLk3ltAyN3RTmXJW0A=",
          "dtype": "f8"
         },
         "yaxis": "y"
        },
        {
         "hovertemplate": "path_id=2029<br>Time Steps=%{x}<br>Spot=%{y}<extra></extra>",
         "legendgroup": "2029",
         "line": {
          "color": "#EF553B",
          "dash": "solid"
         },
         "marker": {
          "symbol": "circle"
         },
         "mode": "lines",
         "name": "2029",
         "orientation": "v",
         "showlegend": true,
         "type": "scatter",
         "x": [
          0,
          1,
          2,
          3,
          4,
          5,
          6,
          7,
          8,
          9,
          10,
          11,
          12,
          13,
          14,
          15,
          16,
          17,
          18,
          19,
          20,
          21,
          22,
          23,
          24,
          25,
          26,
          27,
          28,
          29,
          30,
          31,
          32,
          33,
          34,
          35,
          36,
          37,
          38,
          39,
          40,
          41,
          42,
          43,
          44,
          45,
          46,
          47,
          48,
          49,
          50,
          51,
          52,
          53,
          54,
          55,
          56,
          57,
          58,
          59,
          60,
          61,
          62,
          63
         ],
         "xaxis": "x",
         "y": {
          "bdata": "AAAAAAAAWUB7mF90DZ1YQK4XUoUJwFhATIhHVKmyWUBWrmxLJ/BYQN1DKosGN1hA4N9glk7CWEB6q2ZqT2NYQN2I5uDU81dA9VrCyOKaV0DAOtD+UVpXQI6z3qpdylZAUhZKqOfAVkAflov1mKZWQJsDUs9fFFhAAn8esmszWUCCqetdieZYQE+kmgre6FhAnXWuspgHWEANX7n+S1BXQPgEhQYtMFhA5adK+vUSWEBv5SUbB2RYQEOlMsf0GVdAHS67D0pPWEBrtXFNoTlYQOZ1TMZgeldAUEW3tlRJV0CGSisS4pdXQG50x+jOjVdABJ8CNvkqWECOIomwC09ZQMR47Eom0FlADcQup4fcWUDxwZVtWJ1ZQHvinoZ9ilpAgL8htP/UWkD+oL+rHd1bQE3GS/u8fVtAvGoez8syW0AXKk/TRupbQP/kHriNs1pAebZ8hZryWUCF/gmKee9XQFjO9RJAJldA1AW2Syb7V0D3Fqkco8ZXQAmE8GtC41dATcdCaaUgWkAb9R1UKW1aQBH6MCo0SVpAhvnoG4rTWkArpkg9cNFbQDIskU28qltAVHZJcGRDW0B5SRxy4dpcQI5diwcbbF1AGAUdukdBXkDPRCIau1BdQFwoTC7/uVxAQCdzQPQ7XUAgZQJ9ZHxcQEQ+VWH54VtAy3sXUzg4W0A=",
          "dtype": "f8"
         },
         "yaxis": "y"
        },
        {
         "hovertemplate": "path_id=6221<br>Time Steps=%{x}<br>Spot=%{y}<extra></extra>",
         "legendgroup": "6221",
         "line": {
          "color": "#00cc96",
          "dash": "solid"
         },
         "marker": {
          "symbol": "circle"
         },
         "mode": "lines",
         "name": "6221",
         "orientation": "v",
         "showlegend": true,
         "type": "scatter",
         "x": [
          0,
          1,
          2,
          3,
          4,
          5,
          6,
          7,
          8,
          9,
          10,
          11,
          12,
          13,
          14,
          15,
          16,
          17,
          18,
          19,
          20,
          21,
          22,
          23,
          24,
          25,
          26,
          27,
          28,
          29,
          30,
          31,
          32,
          33,
          34,
          35,
          36,
          37,
          38,
          39,
          40,
          41,
          42,
          43,
          44,
          45,
          46,
          47,
          48,
          49,
          50,
          51,
          52,
          53,
          54,
          55,
          56,
          57,
          58,
          59,
          60,
          61,
          62,
          63
         ],
         "xaxis": "x",
         "y": {
          "bdata": "AAAAAAAAWUAdK0YsjJ1ZQP2d/60nclhAqD1i/KW0WEATHCFeKJBZQFOfaCw1lVlANlAZPRxgWkB0J/3waJpaQNlBi3qySFtAYAxh2s0PW0AmhstWyR1bQBT2pImQgV1Atd1aag19XUBdh+zmCl9cQMTd256nM1xAq3jjinVZXEBjhqIdpyRdQDnQB03fU11Aruz5kw4aXED7p5B8A0pdQCxW2QKS+lxABaDD4RFRXUDSqc1OkHlcQHdJrrldT15Aet7zAkgTX0DDFv7Hn+xeQEXa6iBwbF9AGcUAYIzyX0B1+5pfgcBfQFBagUcYYmBAjAB0t4eNYEAav9I3JphgQOgNA8MgGGFAvmb3phaEYEC0864YzTZgQFtWwjJYfWBAaoEeCJiHYEB1S4WOSjJhQNHXk8ZDqWBA5OpWmXKJYEDLqJwV5KFfQA/Aj5WzpV5AdzlGWZA1XkCZRjvpwpBdQMUUJcgPq11AG8cxqY8yXkBNkTVLo0ZdQExr4O+ThF5AnmhDP3R5YEDg+Q1yUXZgQJ5gIdJrUGBA5tSMDP+IYEB5yGVpVslgQA47BXAnkGBA5MvI2y7iYEDNL0ZzH25hQOzvhLuTsmFAv0Nrb8ZVYUDz4L11r15hQKCdLY7qVmFAo9aIrPXhYUDfJMqnLGliQKoIOmcajGJAoMoWyfdTYkA=",
          "dtype": "f8"
         },
         "yaxis": "y"
        },
        {
         "hovertemplate": "path_id=6616<br>Time Steps=%{x}<br>Spot=%{y}<extra></extra>",
         "legendgroup": "6616",
         "line": {
          "color": "#ab63fa",
          "dash": "solid"
         },
         "marker": {
          "symbol": "circle"
         },
         "mode": "lines",
         "name": "6616",
         "orientation": "v",
         "showlegend": true,
         "type": "scatter",
         "x": [
          0,
          1,
          2,
          3,
          4,
          5,
          6,
          7,
          8,
          9,
          10,
          11,
          12,
          13,
          14,
          15,
          16,
          17,
          18,
          19,
          20,
          21,
          22,
          23,
          24,
          25,
          26,
          27,
          28,
          29,
          30,
          31,
          32,
          33,
          34,
          35,
          36,
          37,
          38,
          39,
          40,
          41,
          42,
          43,
          44,
          45,
          46,
          47,
          48,
          49,
          50,
          51,
          52,
          53,
          54,
          55,
          56,
          57,
          58,
          59,
          60,
          61,
          62,
          63
         ],
         "xaxis": "x",
         "y": {
          "bdata": "AAAAAAAAWUCEp8F+/9hZQIIfvw6qvlpAlBTKR48MWkCFIX4Xm+xZQCa/x3HYs1lAw7aoeaZ5WUCl5xrWBshZQDIjDPllwVpAQ0bTehnHWkBVH2Lsyp1aQNIeNNr5r1pA/3oq8CCzWkBRdRjcd95ZQCpdxuCIU1tAeHWjvw1lW0BrPriepmJcQIq3wgxS9F1ADghx/fX2XUDykp9rCnVeQOty0pKbVWBA5k2VDm0NYEDloWaHcrFgQHiWwBlqYWBAm6xuSfM2YUCtybtBAM9gQPGLGka1DGBAhvaG8v8IYEDCxXQGBmFgQN4BnCYy3GBA3c9E2JxvYEAUlPnhrftfQPjYBpO7aV9AXhFARo/PYEBYAtLdyIBhQE3fyoWolmFAy6WxFPGGYkD5+jEWSc1hQNNJUJrpPGJADn+NyUeuYkClV7byL/1iQEH2N4+7XmNARh5HSltIY0AsU9ZgN+tiQHPStWQQrGJAhe/tc7FWY0DowlfqSFBjQIaFEtnTpGFAyRP/tKruYEByW1HymWZhQITiT8SvsGFA1pdZdtQLYUDB/TiSVQRhQDGGyCoSkWBAyt+TKM1fYUDTZIm+itRhQByBKf9HgGFAeg8E0WIuYkCC0koQmR5iQFXW4Wza52FAitv4e8TxYUDpj3EXwshhQKvFNJDWhmFAHoJ+YU01YUA=",
          "dtype": "f8"
         },
         "yaxis": "y"
        },
        {
         "hovertemplate": "path_id=10000<br>Time Steps=%{x}<br>Spot=%{y}<extra></extra>",
         "legendgroup": "10000",
         "line": {
          "color": "#FFA15A",
          "dash": "solid"
         },
         "marker": {
          "symbol": "circle"
         },
         "mode": "lines",
         "name": "10000",
         "orientation": "v",
         "showlegend": true,
         "type": "scatter",
         "x": [
          0,
          1,
          2,
          3,
          4,
          5,
          6,
          7,
          8,
          9,
          10,
          11,
          12,
          13,
          14,
          15,
          16,
          17,
          18,
          19,
          20,
          21,
          22,
          23,
          24,
          25,
          26,
          27,
          28,
          29,
          30,
          31,
          32,
          33,
          34,
          35,
          36,
          37,
          38,
          39,
          40,
          41,
          42,
          43,
          44,
          45,
          46,
          47,
          48,
          49,
          50,
          51,
          52,
          53,
          54,
          55,
          56,
          57,
          58,
          59,
          60,
          61,
          62,
          63
         ],
         "xaxis": "x",
         "y": {
          "bdata": "AAAAAAAAWUDjkMCoW1RYQBmlSal0oFlAXMEFqubaWkBlUez519BaQNpclj3fmVtAz62ypO/mXEBTAcRBxcNdQBjZGvMdEV5AYeXB7GUSX0DuJzSt/RJgQE3GM5xwBWBACdNT6QQ9YUAVVorW4EZgQOFKHTJM8GBAo2HX4D1cYEDGAHuNXlxgQDeMyD+MPWFA6JJwRSUxYECosOSe+XtfQHBRrybRNmBAlNXgg4boX0DUnYxPqI5dQA5QDezGpVxA72IAY0hcW0AZ7hgXgBJbQB8nVKXeZlpApRxblwPaWUBu3dUx031aQDtl6i9allpA7RS0iJqGWkCYSuMQ/I5bQIRYuMS+vlpALbjxTg2+XUDDWCgPopBdQAUZZJMbYV9AqKuali2TX0A84LvD/kZgQDZueaxkIWBA7R60AS5JYEDKb/8nr7JgQC6zCr4vomBAxjSDJSq2YEBQEd3rIO5fQP7qMDmk7V5AKUmElUI9XkCTTAabgAxeQLXfAhPX119AwD2TcnFGYEB/TeDhOptfQF60DK/DBWBAQbRwWqvQYEDPR7r/DyZhQK5mvNN82mFADhhww2/WYUBBNlE5SalgQHSbzAW6TmBAiB8ekbl5YEBhtVbb8yJgQHrqFVYdml9Apx4z2rTvXkAu9s5rCJBdQKKuwco2FF5AOCPTqQZqX0A=",
          "dtype": "f8"
         },
         "yaxis": "y"
        }
       ],
       "layout": {
        "legend": {
         "title": {
          "text": "path_id"
         },
         "tracegroupgap": 0
        },
        "margin": {
         "t": 60
        },
        "template": {
         "data": {
          "bar": [
           {
            "error_x": {
             "color": "#2a3f5f"
            },
            "error_y": {
             "color": "#2a3f5f"
            },
            "marker": {
             "line": {
              "color": "#E5ECF6",
              "width": 0.5
             },
             "pattern": {
              "fillmode": "overlay",
              "size": 10,
              "solidity": 0.2
             }
            },
            "type": "bar"
           }
          ],
          "barpolar": [
           {
            "marker": {
             "line": {
              "color": "#E5ECF6",
              "width": 0.5
             },
             "pattern": {
              "fillmode": "overlay",
              "size": 10,
              "solidity": 0.2
             }
            },
            "type": "barpolar"
           }
          ],
          "carpet": [
           {
            "aaxis": {
             "endlinecolor": "#2a3f5f",
             "gridcolor": "white",
             "linecolor": "white",
             "minorgridcolor": "white",
             "startlinecolor": "#2a3f5f"
            },
            "baxis": {
             "endlinecolor": "#2a3f5f",
             "gridcolor": "white",
             "linecolor": "white",
             "minorgridcolor": "white",
             "startlinecolor": "#2a3f5f"
            },
            "type": "carpet"
           }
          ],
          "choropleth": [
           {
            "colorbar": {
             "outlinewidth": 0,
             "ticks": ""
            },
            "type": "choropleth"
           }
          ],
          "contour": [
           {
            "colorbar": {
             "outlinewidth": 0,
             "ticks": ""
            },
            "colorscale": [
             [
              0,
              "#0d0887"
             ],
             [
              0.1111111111111111,
              "#46039f"
             ],
             [
              0.2222222222222222,
              "#7201a8"
             ],
             [
              0.3333333333333333,
              "#9c179e"
             ],
             [
              0.4444444444444444,
              "#bd3786"
             ],
             [
              0.5555555555555556,
              "#d8576b"
             ],
             [
              0.6666666666666666,
              "#ed7953"
             ],
             [
              0.7777777777777778,
              "#fb9f3a"
             ],
             [
              0.8888888888888888,
              "#fdca26"
             ],
             [
              1,
              "#f0f921"
             ]
            ],
            "type": "contour"
           }
          ],
          "contourcarpet": [
           {
            "colorbar": {
             "outlinewidth": 0,
             "ticks": ""
            },
            "type": "contourcarpet"
           }
          ],
          "heatmap": [
           {
            "colorbar": {
             "outlinewidth": 0,
             "ticks": ""
            },
            "colorscale": [
             [
              0,
              "#0d0887"
             ],
             [
              0.1111111111111111,
              "#46039f"
             ],
             [
              0.2222222222222222,
              "#7201a8"
             ],
             [
              0.3333333333333333,
              "#9c179e"
             ],
             [
              0.4444444444444444,
              "#bd3786"
             ],
             [
              0.5555555555555556,
              "#d8576b"
             ],
             [
              0.6666666666666666,
              "#ed7953"
             ],
             [
              0.7777777777777778,
              "#fb9f3a"
             ],
             [
              0.8888888888888888,
              "#fdca26"
             ],
             [
              1,
              "#f0f921"
             ]
            ],
            "type": "heatmap"
           }
          ],
          "histogram": [
           {
            "marker": {
             "pattern": {
              "fillmode": "overlay",
              "size": 10,
              "solidity": 0.2
             }
            },
            "type": "histogram"
           }
          ],
          "histogram2d": [
           {
            "colorbar": {
             "outlinewidth": 0,
             "ticks": ""
            },
            "colorscale": [
             [
              0,
              "#0d0887"
             ],
             [
              0.1111111111111111,
              "#46039f"
             ],
             [
              0.2222222222222222,
              "#7201a8"
             ],
             [
              0.3333333333333333,
              "#9c179e"
             ],
             [
              0.4444444444444444,
              "#bd3786"
             ],
             [
              0.5555555555555556,
              "#d8576b"
             ],
             [
              0.6666666666666666,
              "#ed7953"
             ],
             [
              0.7777777777777778,
              "#fb9f3a"
             ],
             [
              0.8888888888888888,
              "#fdca26"
             ],
             [
              1,
              "#f0f921"
             ]
            ],
            "type": "histogram2d"
           }
          ],
          "histogram2dcontour": [
           {
            "colorbar": {
             "outlinewidth": 0,
             "ticks": ""
            },
            "colorscale": [
             [
              0,
              "#0d0887"
             ],
             [
              0.1111111111111111,
              "#46039f"
             ],
             [
              0.2222222222222222,
              "#7201a8"
             ],
             [
              0.3333333333333333,
              "#9c179e"
             ],
             [
              0.4444444444444444,
              "#bd3786"
             ],
             [
              0.5555555555555556,
              "#d8576b"
             ],
             [
              0.6666666666666666,
              "#ed7953"
             ],
             [
              0.7777777777777778,
              "#fb9f3a"
             ],
             [
              0.8888888888888888,
              "#fdca26"
             ],
             [
              1,
              "#f0f921"
             ]
            ],
            "type": "histogram2dcontour"
           }
          ],
          "mesh3d": [
           {
            "colorbar": {
             "outlinewidth": 0,
             "ticks": ""
            },
            "type": "mesh3d"
           }
          ],
          "parcoords": [
           {
            "line": {
             "colorbar": {
              "outlinewidth": 0,
              "ticks": ""
             }
            },
            "type": "parcoords"
           }
          ],
          "pie": [
           {
            "automargin": true,
            "type": "pie"
           }
          ],
          "scatter": [
           {
            "fillpattern": {
             "fillmode": "overlay",
             "size": 10,
             "solidity": 0.2
            },
            "type": "scatter"
           }
          ],
          "scatter3d": [
           {
            "line": {
             "colorbar": {
              "outlinewidth": 0,
              "ticks": ""
             }
            },
            "marker": {
             "colorbar": {
              "outlinewidth": 0,
              "ticks": ""
             }
            },
            "type": "scatter3d"
           }
          ],
          "scattercarpet": [
           {
            "marker": {
             "colorbar": {
              "outlinewidth": 0,
              "ticks": ""
             }
            },
            "type": "scattercarpet"
           }
          ],
          "scattergeo": [
           {
            "marker": {
             "colorbar": {
              "outlinewidth": 0,
              "ticks": ""
             }
            },
            "type": "scattergeo"
           }
          ],
          "scattergl": [
           {
            "marker": {
             "colorbar": {
              "outlinewidth": 0,
              "ticks": ""
             }
            },
            "type": "scattergl"
           }
          ],
          "scattermap": [
           {
            "marker": {
             "colorbar": {
              "outlinewidth": 0,
              "ticks": ""
             }
            },
            "type": "scattermap"
           }
          ],
          "scattermapbox": [
           {
            "marker": {
             "colorbar": {
              "outlinewidth": 0,
              "ticks": ""
             }
            },
            "type": "scattermapbox"
           }
          ],
          "scatterpolar": [
           {
            "marker": {
             "colorbar": {
              "outlinewidth": 0,
              "ticks": ""
             }
            },
            "type": "scatterpolar"
           }
          ],
          "scatterpolargl": [
           {
            "marker": {
             "colorbar": {
              "outlinewidth": 0,
              "ticks": ""
             }
            },
            "type": "scatterpolargl"
           }
          ],
          "scatterternary": [
           {
            "marker": {
             "colorbar": {
              "outlinewidth": 0,
              "ticks": ""
             }
            },
            "type": "scatterternary"
           }
          ],
          "surface": [
           {
            "colorbar": {
             "outlinewidth": 0,
             "ticks": ""
            },
            "colorscale": [
             [
              0,
              "#0d0887"
             ],
             [
              0.1111111111111111,
              "#46039f"
             ],
             [
              0.2222222222222222,
              "#7201a8"
             ],
             [
              0.3333333333333333,
              "#9c179e"
             ],
             [
              0.4444444444444444,
              "#bd3786"
             ],
             [
              0.5555555555555556,
              "#d8576b"
             ],
             [
              0.6666666666666666,
              "#ed7953"
             ],
             [
              0.7777777777777778,
              "#fb9f3a"
             ],
             [
              0.8888888888888888,
              "#fdca26"
             ],
             [
              1,
              "#f0f921"
             ]
            ],
            "type": "surface"
           }
          ],
          "table": [
           {
            "cells": {
             "fill": {
              "color": "#EBF0F8"
             },
             "line": {
              "color": "white"
             }
            },
            "header": {
             "fill": {
              "color": "#C8D4E3"
             },
             "line": {
              "color": "white"
             }
            },
            "type": "table"
           }
          ]
         },
         "layout": {
          "annotationdefaults": {
           "arrowcolor": "#2a3f5f",
           "arrowhead": 0,
           "arrowwidth": 1
          },
          "autotypenumbers": "strict",
          "coloraxis": {
           "colorbar": {
            "outlinewidth": 0,
            "ticks": ""
           }
          },
          "colorscale": {
           "diverging": [
            [
             0,
             "#8e0152"
            ],
            [
             0.1,
             "#c51b7d"
            ],
            [
             0.2,
             "#de77ae"
            ],
            [
             0.3,
             "#f1b6da"
            ],
            [
             0.4,
             "#fde0ef"
            ],
            [
             0.5,
             "#f7f7f7"
            ],
            [
             0.6,
             "#e6f5d0"
            ],
            [
             0.7,
             "#b8e186"
            ],
            [
             0.8,
             "#7fbc41"
            ],
            [
             0.9,
             "#4d9221"
            ],
            [
             1,
             "#276419"
            ]
           ],
           "sequential": [
            [
             0,
             "#0d0887"
            ],
            [
             0.1111111111111111,
             "#46039f"
            ],
            [
             0.2222222222222222,
             "#7201a8"
            ],
            [
             0.3333333333333333,
             "#9c179e"
            ],
            [
             0.4444444444444444,
             "#bd3786"
            ],
            [
             0.5555555555555556,
             "#d8576b"
            ],
            [
             0.6666666666666666,
             "#ed7953"
            ],
            [
             0.7777777777777778,
             "#fb9f3a"
            ],
            [
             0.8888888888888888,
             "#fdca26"
            ],
            [
             1,
             "#f0f921"
            ]
           ],
           "sequentialminus": [
            [
             0,
             "#0d0887"
            ],
            [
             0.1111111111111111,
             "#46039f"
            ],
            [
             0.2222222222222222,
             "#7201a8"
            ],
            [
             0.3333333333333333,
             "#9c179e"
            ],
            [
             0.4444444444444444,
             "#bd3786"
            ],
            [
             0.5555555555555556,
             "#d8576b"
            ],
            [
             0.6666666666666666,
             "#ed7953"
            ],
            [
             0.7777777777777778,
             "#fb9f3a"
            ],
            [
             0.8888888888888888,
             "#fdca26"
            ],
            [
             1,
             "#f0f921"
            ]
           ]
          },
          "colorway": [
           "#636efa",
           "#EF553B",
           "#00cc96",
           "#ab63fa",
           "#FFA15A",
           "#19d3f3",
           "#FF6692",
           "#B6E880",
           "#FF97FF",
           "#FECB52"
          ],
          "font": {
           "color": "#2a3f5f"
          },
          "geo": {
           "bgcolor": "white",
           "lakecolor": "white",
           "landcolor": "#E5ECF6",
           "showlakes": true,
           "showland": true,
           "subunitcolor": "white"
          },
          "hoverlabel": {
           "align": "left"
          },
          "hovermode": "closest",
          "mapbox": {
           "style": "light"
          },
          "paper_bgcolor": "white",
          "plot_bgcolor": "#E5ECF6",
          "polar": {
           "angularaxis": {
            "gridcolor": "white",
            "linecolor": "white",
            "ticks": ""
           },
           "bgcolor": "#E5ECF6",
           "radialaxis": {
            "gridcolor": "white",
            "linecolor": "white",
            "ticks": ""
           }
          },
          "scene": {
           "xaxis": {
            "backgroundcolor": "#E5ECF6",
            "gridcolor": "white",
            "gridwidth": 2,
            "linecolor": "white",
            "showbackground": true,
            "ticks": "",
            "zerolinecolor": "white"
           },
           "yaxis": {
            "backgroundcolor": "#E5ECF6",
            "gridcolor": "white",
            "gridwidth": 2,
            "linecolor": "white",
            "showbackground": true,
            "ticks": "",
            "zerolinecolor": "white"
           },
           "zaxis": {
            "backgroundcolor": "#E5ECF6",
            "gridcolor": "white",
            "gridwidth": 2,
            "linecolor": "white",
            "showbackground": true,
            "ticks": "",
            "zerolinecolor": "white"
           }
          },
          "shapedefaults": {
           "line": {
            "color": "#2a3f5f"
           }
          },
          "ternary": {
           "aaxis": {
            "gridcolor": "white",
            "linecolor": "white",
            "ticks": ""
           },
           "baxis": {
            "gridcolor": "white",
            "linecolor": "white",
            "ticks": ""
           },
           "bgcolor": "#E5ECF6",
           "caxis": {
            "gridcolor": "white",
            "linecolor": "white",
            "ticks": ""
           }
          },
          "title": {
           "x": 0.05
          },
          "xaxis": {
           "automargin": true,
           "gridcolor": "white",
           "linecolor": "white",
           "ticks": "",
           "title": {
            "standoff": 15
           },
           "zerolinecolor": "white",
           "zerolinewidth": 2
          },
          "yaxis": {
           "automargin": true,
           "gridcolor": "white",
           "linecolor": "white",
           "ticks": "",
           "title": {
            "standoff": 15
           },
           "zerolinecolor": "white",
           "zerolinewidth": 2
          }
         }
        },
        "xaxis": {
         "anchor": "y",
         "domain": [
          0,
          1
         ],
         "title": {
          "text": "Time Steps"
         }
        },
        "yaxis": {
         "anchor": "x",
         "domain": [
          0,
          1
         ],
         "title": {
          "text": "Spot"
         }
        }
       }
      },
      "image/png": "[encoded data removed]"
     },
     "metadata": {},
     "output_type": "display_data"
    }
   ],
   "source": [
    "display(dsa_mostra_caminho_venda(spot_df, sel_path, 'Spot'))"
   ]
  },
  {
   "cell_type": "code",
   "execution_count": 38,
   "metadata": {
    "colab": {
     "base_uri": "https://localhost:8080/",
     "height": 1000
    },
    "id": "d8vSTkcRxTqT",
    "outputId": "302c38e5-1ef6-48fc-9731-d28a72c96b93"
   },
   "outputs": [
    {
     "data": {
      "application/vnd.plotly.v1+json": {
       "config": {
        "plotlyServerURL": "https://plot.ly"
       },
       "data": [
        {
         "hovertemplate": "path_id=152<br>Time Steps=%{x}<br>Delta=%{y}<extra></extra>",
         "legendgroup": "152",
         "line": {
          "color": "#636efa",
          "dash": "solid"
         },
         "marker": {
          "symbol": "circle"
         },
         "mode": "lines",
         "name": "152",
         "orientation": "v",
         "showlegend": true,
         "type": "scatter",
         "x": [
          0,
          1,
          2,
          3,
          4,
          5,
          6,
          7,
          8,
          9,
          10,
          11,
          12,
          13,
          14,
          15,
          16,
          17,
          18,
          19,
          20,
          21,
          22,
          23,
          24,
          25,
          26,
          27,
          28,
          29,
          30,
          31,
          32,
          33,
          34,
          35,
          36,
          37,
          38,
          39,
          40,
          41,
          42,
          43,
          44,
          45,
          46,
          47,
          48,
          49,
          50,
          51,
          52,
          53,
          54,
          55,
          56,
          57,
          58,
          59,
          60,
          61,
          62,
          63
         ],
         "xaxis": "x",
         "y": [
          0.6830746436132372,
          0.6491108952280087,
          0.7217046915886451,
          0.7029135254017986,
          0.7586086385118289,
          0.7988780617589741,
          0.8085851872193524,
          0.794780194189058,
          0.8484229123342962,
          0.8867557502149346,
          0.9357779610247479,
          0.9290521187278528,
          0.9109708742964653,
          0.9327704792457223,
          0.9136885170828077,
          0.8667147249571494,
          0.8917526926348012,
          0.8830821773259989,
          0.8669347888386444,
          0.9117653540413122,
          0.9190927916439919,
          0.9161352091133551,
          0.9471106821916466,
          0.942931715527352,
          0.9717055058915643,
          0.9453190191666666,
          0.9356442115464892,
          0.9596076713516087,
          0.9411461877054205,
          0.9719534058607956,
          0.972902609092386,
          0.9753510127600595,
          0.9509807652333788,
          0.9722604885635023,
          0.9428982112158768,
          0.9707980401879449,
          0.9826861962207282,
          0.9795175030747549,
          0.9784178170027859,
          0.9896498126980565,
          0.9900961778532936,
          0.9948465513293762,
          0.9975274599646158,
          0.9966130703178823,
          0.9979625601102117,
          0.9978925491041547,
          0.9967201676132394,
          0.9954259398381005,
          0.9941674638210574,
          0.9918968003000884,
          0.9869564035797398,
          0.991923847901294,
          0.9890651041495586,
          0.9787184952684304,
          0.944503264351855,
          0.9761174006603816,
          0.9775570423274076,
          0.9829852718646311,
          0.9932059508085695,
          0.9734890905177489,
          0.8917617967062842,
          0.9523556185180613,
          0.999638662180145,
          1
         ],
         "yaxis": "y"
        },
        {
         "hovertemplate": "path_id=2029<br>Time Steps=%{x}<br>Delta=%{y}<extra></extra>",
         "legendgroup": "2029",
         "line": {
          "color": "#EF553B",
          "dash": "solid"
         },
         "marker": {
          "symbol": "circle"
         },
         "mode": "lines",
         "name": "2029",
         "orientation": "v",
         "showlegend": true,
         "type": "scatter",
         "x": [
          0,
          1,
          2,
          3,
          4,
          5,
          6,
          7,
          8,
          9,
          10,
          11,
          12,
          13,
          14,
          15,
          16,
          17,
          18,
          19,
          20,
          21,
          22,
          23,
          24,
          25,
          26,
          27,
          28,
          29,
          30,
          31,
          32,
          33,
          34,
          35,
          36,
          37,
          38,
          39,
          40,
          41,
          42,
          43,
          44,
          45,
          46,
          47,
          48,
          49,
          50,
          51,
          52,
          53,
          54,
          55,
          56,
          57,
          58,
          59,
          60,
          61,
          62,
          63
         ],
         "xaxis": "x",
         "y": [
          0.6830746436132372,
          0.6598538973013948,
          0.6661848728045611,
          0.7168224179555964,
          0.6740357754425658,
          0.6289343294902693,
          0.6605150632216598,
          0.6360343652373073,
          0.6059256392434851,
          0.5801505732436263,
          0.5599556447439841,
          0.5162386774211615,
          0.5102784267906425,
          0.4991939852915049,
          0.6011621938676575,
          0.6740225549095217,
          0.6530773261612591,
          0.6519891847554948,
          0.5879499380008419,
          0.5304567207724045,
          0.5947240259974208,
          0.5835553895002672,
          0.6050858777381374,
          0.4992069081899653,
          0.5939775841203715,
          0.5846812334000744,
          0.5197646419245368,
          0.4994110389119671,
          0.5223132829864864,
          0.5150520376496162,
          0.5654101758152392,
          0.6575409705094725,
          0.6948822459397781,
          0.6976477410466412,
          0.677582935815028,
          0.7462960438774375,
          0.7665760930137266,
          0.8304045468557646,
          0.8106897910128803,
          0.793773672057581,
          0.8390085486493117,
          0.761243911300401,
          0.6995268018203464,
          0.4884748109681669,
          0.3907206891984175,
          0.48203835246833737,
          0.4504396480696247,
          0.4571744516049349,
          0.7191739536590119,
          0.7509858315834117,
          0.7393601260730578,
          0.7966462636702161,
          0.8815771791527736,
          0.8788022369139916,
          0.8560118103576455,
          0.9571666117672925,
          0.9793003602890338,
          0.9942398767945559,
          0.9895492475451162,
          0.9875339902659896,
          0.9979063331064534,
          0.9981620732488298,
          0.9996556234293084,
          1
         ],
         "yaxis": "y"
        },
        {
         "hovertemplate": "path_id=6221<br>Time Steps=%{x}<br>Delta=%{y}<extra></extra>",
         "legendgroup": "6221",
         "line": {
          "color": "#00cc96",
          "dash": "solid"
         },
         "marker": {
          "symbol": "circle"
         },
         "mode": "lines",
         "name": "6221",
         "orientation": "v",
         "showlegend": true,
         "type": "scatter",
         "x": [
          0,
          1,
          2,
          3,
          4,
          5,
          6,
          7,
          8,
          9,
          10,
          11,
          12,
          13,
          14,
          15,
          16,
          17,
          18,
          19,
          20,
          21,
          22,
          23,
          24,
          25,
          26,
          27,
          28,
          29,
          30,
          31,
          32,
          33,
          34,
          35,
          36,
          37,
          38,
          39,
          40,
          41,
          42,
          43,
          44,
          45,
          46,
          47,
          48,
          49,
          50,
          51,
          52,
          53,
          54,
          55,
          56,
          57,
          58,
          59,
          60,
          61,
          62,
          63
         ],
         "xaxis": "x",
         "y": [
          0.6830746436132372,
          0.7145998053430374,
          0.6484071369498726,
          0.6620714976164486,
          0.7086821778827523,
          0.7086588069058505,
          0.7485024076240514,
          0.7589151242143275,
          0.7896423830240971,
          0.7794786329320432,
          0.7816818851093557,
          0.8717772648946183,
          0.8718008372218045,
          0.8341960568048964,
          0.8279293964269248,
          0.8340231150049878,
          0.8631870149314487,
          0.8699505183522047,
          0.8251588289856407,
          0.8701968052846412,
          0.8602799461544555,
          0.8728080023461957,
          0.8425998425270245,
          0.9048843655454889,
          0.9249186453020015,
          0.9227610765719972,
          0.9349337653156602,
          0.9461526489351488,
          0.944040039394123,
          0.9614113486997146,
          0.9669856285363152,
          0.9692329746693109,
          0.9798974927882548,
          0.9701254063671579,
          0.9639922303976458,
          0.9723695662320709,
          0.9746908969390863,
          0.986692195764031,
          0.9800994936008608,
          0.9792878515346677,
          0.9630107594854316,
          0.9460867092566614,
          0.9378303303307823,
          0.9213478768016121,
          0.9280580966562215,
          0.9468139961345874,
          0.9218060969024772,
          0.9610720867501903,
          0.9920275092341052,
          0.9932942995052074,
          0.9932972511182177,
          0.9962649342802539,
          0.9982212251017516,
          0.998186031377305,
          0.9994050498816984,
          0.9999153353696921,
          0.9999850119557057,
          0.9999880757256226,
          0.9999981654219017,
          0.99999984641223,
          0.9999999999319864,
          1,
          1,
          1
         ],
         "yaxis": "y"
        },
        {
         "hovertemplate": "path_id=6616<br>Time Steps=%{x}<br>Delta=%{y}<extra></extra>",
         "legendgroup": "6616",
         "line": {
          "color": "#ab63fa",
          "dash": "solid"
         },
         "marker": {
          "symbol": "circle"
         },
         "mode": "lines",
         "name": "6616",
         "orientation": "v",
         "showlegend": true,
         "type": "scatter",
         "x": [
          0,
          1,
          2,
          3,
          4,
          5,
          6,
          7,
          8,
          9,
          10,
          11,
          12,
          13,
          14,
          15,
          16,
          17,
          18,
          19,
          20,
          21,
          22,
          23,
          24,
          25,
          26,
          27,
          28,
          29,
          30,
          31,
          32,
          33,
          34,
          35,
          36,
          37,
          38,
          39,
          40,
          41,
          42,
          43,
          44,
          45,
          46,
          47,
          48,
          49,
          50,
          51,
          52,
          53,
          54,
          55,
          56,
          57,
          58,
          59,
          60,
          61,
          62,
          63
         ],
         "xaxis": "x",
         "y": [
          0.6830746436132372,
          0.7263762580436379,
          0.7680934158983912,
          0.7346568546774319,
          0.7275210865359423,
          0.7150480752300723,
          0.7016869792561902,
          0.7172577692924986,
          0.7656517529974987,
          0.7662561476918219,
          0.7579705251184246,
          0.760978844891163,
          0.7611315007078265,
          0.7163275411806203,
          0.7905652310869281,
          0.7936435344213641,
          0.8357995337905633,
          0.889033769498807,
          0.8901872176325338,
          0.9044669063704143,
          0.9494952221443888,
          0.9415646706835523,
          0.9611687220959925,
          0.9540559186941766,
          0.9738318764076611,
          0.9669458286997838,
          0.9474302815705055,
          0.9482571584556504,
          0.9600010553561692,
          0.9724227884246307,
          0.9641129619126341,
          0.9525220065908055,
          0.9437511773585125,
          0.9762225252351858,
          0.9872252919752845,
          0.9889688270686738,
          0.9956729298474178,
          0.992333689308903,
          0.9954502781067208,
          0.9974404567062779,
          0.9984182633946515,
          0.9991387709028472,
          0.9992241715232401,
          0.9990306188810252,
          0.9989447211133285,
          0.9996591964997857,
          0.9997409320530615,
          0.9979632731321245,
          0.9956854583778482,
          0.9982799268620839,
          0.9992082970791233,
          0.998377805564268,
          0.9988192311981597,
          0.9981981143242616,
          0.9997945950636519,
          0.9999691195192684,
          0.999973809712962,
          0.9999992815422029,
          0.9999999038245159,
          0.9999999898707883,
          0.999999999954465,
          0.9999999999999932,
          1,
          1
         ],
         "yaxis": "y"
        },
        {
         "hovertemplate": "path_id=10000<br>Time Steps=%{x}<br>Delta=%{y}<extra></extra>",
         "legendgroup": "10000",
         "line": {
          "color": "#FFA15A",
          "dash": "solid"
         },
         "marker": {
          "symbol": "circle"
         },
         "mode": "lines",
         "name": "10000",
         "orientation": "v",
         "showlegend": true,
         "type": "scatter",
         "x": [
          0,
          1,
          2,
          3,
          4,
          5,
          6,
          7,
          8,
          9,
          10,
          11,
          12,
          13,
          14,
          15,
          16,
          17,
          18,
          19,
          20,
          21,
          22,
          23,
          24,
          25,
          26,
          27,
          28,
          29,
          30,
          31,
          32,
          33,
          34,
          35,
          36,
          37,
          38,
          39,
          40,
          41,
          42,
          43,
          44,
          45,
          46,
          47,
          48,
          49,
          50,
          51,
          52,
          53,
          54,
          55,
          56,
          57,
          58,
          59,
          60,
          61,
          62,
          63
         ],
         "xaxis": "x",
         "y": [
          0.6830746436132372,
          0.6432061724710969,
          0.7141506760926174,
          0.7725126562105186,
          0.7702944823994833,
          0.803467390491329,
          0.8508217032318488,
          0.8772309297827097,
          0.8859518624134091,
          0.910673087667715,
          0.9321795986761819,
          0.9311228830357259,
          0.964346505178781,
          0.9412103191210008,
          0.9596177391891373,
          0.9454789520035248,
          0.9463942564623452,
          0.9682237626503175,
          0.9430755092069935,
          0.9278802242885992,
          0.9458132295456781,
          0.9381089094648516,
          0.8816355757643851,
          0.8502274020168186,
          0.7927888970586662,
          0.7777415178914605,
          0.7386017166359817,
          0.702158801514144,
          0.7435300763923186,
          0.7493487622780467,
          0.7453051837980438,
          0.8066683063250302,
          0.759395938328771,
          0.9027749030947738,
          0.898778476435503,
          0.9484182469613311,
          0.9539667270786301,
          0.9704870019535219,
          0.9684155744034476,
          0.9740439409946148,
          0.9835111563752941,
          0.9839152591495313,
          0.9864759134792548,
          0.9737997426580345,
          0.9601998801949913,
          0.9478841740735569,
          0.9463454606014948,
          0.9815979453461824,
          0.9896711452621796,
          0.9837854195693243,
          0.9898289170363432,
          0.9976226652487015,
          0.9990695651005408,
          0.9998602457038628,
          0.9999279733437478,
          0.9994689898761354,
          0.9993790929262047,
          0.9998353747334693,
          0.9998544139930478,
          0.999892071656778,
          0.9999437451144765,
          0.9998948042386644,
          0.9999999943621293,
          1
         ],
         "yaxis": "y"
        }
       ],
       "layout": {
        "legend": {
         "title": {
          "text": "path_id"
         },
         "tracegroupgap": 0
        },
        "margin": {
         "t": 60
        },
        "template": {
         "data": {
          "bar": [
           {
            "error_x": {
             "color": "#2a3f5f"
            },
            "error_y": {
             "color": "#2a3f5f"
            },
            "marker": {
             "line": {
              "color": "#E5ECF6",
              "width": 0.5
             },
             "pattern": {
              "fillmode": "overlay",
              "size": 10,
              "solidity": 0.2
             }
            },
            "type": "bar"
           }
          ],
          "barpolar": [
           {
            "marker": {
             "line": {
              "color": "#E5ECF6",
              "width": 0.5
             },
             "pattern": {
              "fillmode": "overlay",
              "size": 10,
              "solidity": 0.2
             }
            },
            "type": "barpolar"
           }
          ],
          "carpet": [
           {
            "aaxis": {
             "endlinecolor": "#2a3f5f",
             "gridcolor": "white",
             "linecolor": "white",
             "minorgridcolor": "white",
             "startlinecolor": "#2a3f5f"
            },
            "baxis": {
             "endlinecolor": "#2a3f5f",
             "gridcolor": "white",
             "linecolor": "white",
             "minorgridcolor": "white",
             "startlinecolor": "#2a3f5f"
            },
            "type": "carpet"
           }
          ],
          "choropleth": [
           {
            "colorbar": {
             "outlinewidth": 0,
             "ticks": ""
            },
            "type": "choropleth"
           }
          ],
          "contour": [
           {
            "colorbar": {
             "outlinewidth": 0,
             "ticks": ""
            },
            "colorscale": [
             [
              0,
              "#0d0887"
             ],
             [
              0.1111111111111111,
              "#46039f"
             ],
             [
              0.2222222222222222,
              "#7201a8"
             ],
             [
              0.3333333333333333,
              "#9c179e"
             ],
             [
              0.4444444444444444,
              "#bd3786"
             ],
             [
              0.5555555555555556,
              "#d8576b"
             ],
             [
              0.6666666666666666,
              "#ed7953"
             ],
             [
              0.7777777777777778,
              "#fb9f3a"
             ],
             [
              0.8888888888888888,
              "#fdca26"
             ],
             [
              1,
              "#f0f921"
             ]
            ],
            "type": "contour"
           }
          ],
          "contourcarpet": [
           {
            "colorbar": {
             "outlinewidth": 0,
             "ticks": ""
            },
            "type": "contourcarpet"
           }
          ],
          "heatmap": [
           {
            "colorbar": {
             "outlinewidth": 0,
             "ticks": ""
            },
            "colorscale": [
             [
              0,
              "#0d0887"
             ],
             [
              0.1111111111111111,
              "#46039f"
             ],
             [
              0.2222222222222222,
              "#7201a8"
             ],
             [
              0.3333333333333333,
              "#9c179e"
             ],
             [
              0.4444444444444444,
              "#bd3786"
             ],
             [
              0.5555555555555556,
              "#d8576b"
             ],
             [
              0.6666666666666666,
              "#ed7953"
             ],
             [
              0.7777777777777778,
              "#fb9f3a"
             ],
             [
              0.8888888888888888,
              "#fdca26"
             ],
             [
              1,
              "#f0f921"
             ]
            ],
            "type": "heatmap"
           }
          ],
          "histogram": [
           {
            "marker": {
             "pattern": {
              "fillmode": "overlay",
              "size": 10,
              "solidity": 0.2
             }
            },
            "type": "histogram"
           }
          ],
          "histogram2d": [
           {
            "colorbar": {
             "outlinewidth": 0,
             "ticks": ""
            },
            "colorscale": [
             [
              0,
              "#0d0887"
             ],
             [
              0.1111111111111111,
              "#46039f"
             ],
             [
              0.2222222222222222,
              "#7201a8"
             ],
             [
              0.3333333333333333,
              "#9c179e"
             ],
             [
              0.4444444444444444,
              "#bd3786"
             ],
             [
              0.5555555555555556,
              "#d8576b"
             ],
             [
              0.6666666666666666,
              "#ed7953"
             ],
             [
              0.7777777777777778,
              "#fb9f3a"
             ],
             [
              0.8888888888888888,
              "#fdca26"
             ],
             [
              1,
              "#f0f921"
             ]
            ],
            "type": "histogram2d"
           }
          ],
          "histogram2dcontour": [
           {
            "colorbar": {
             "outlinewidth": 0,
             "ticks": ""
            },
            "colorscale": [
             [
              0,
              "#0d0887"
             ],
             [
              0.1111111111111111,
              "#46039f"
             ],
             [
              0.2222222222222222,
              "#7201a8"
             ],
             [
              0.3333333333333333,
              "#9c179e"
             ],
             [
              0.4444444444444444,
              "#bd3786"
             ],
             [
              0.5555555555555556,
              "#d8576b"
             ],
             [
              0.6666666666666666,
              "#ed7953"
             ],
             [
              0.7777777777777778,
              "#fb9f3a"
             ],
             [
              0.8888888888888888,
              "#fdca26"
             ],
             [
              1,
              "#f0f921"
             ]
            ],
            "type": "histogram2dcontour"
           }
          ],
          "mesh3d": [
           {
            "colorbar": {
             "outlinewidth": 0,
             "ticks": ""
            },
            "type": "mesh3d"
           }
          ],
          "parcoords": [
           {
            "line": {
             "colorbar": {
              "outlinewidth": 0,
              "ticks": ""
             }
            },
            "type": "parcoords"
           }
          ],
          "pie": [
           {
            "automargin": true,
            "type": "pie"
           }
          ],
          "scatter": [
           {
            "fillpattern": {
             "fillmode": "overlay",
             "size": 10,
             "solidity": 0.2
            },
            "type": "scatter"
           }
          ],
          "scatter3d": [
           {
            "line": {
             "colorbar": {
              "outlinewidth": 0,
              "ticks": ""
             }
            },
            "marker": {
             "colorbar": {
              "outlinewidth": 0,
              "ticks": ""
             }
            },
            "type": "scatter3d"
           }
          ],
          "scattercarpet": [
           {
            "marker": {
             "colorbar": {
              "outlinewidth": 0,
              "ticks": ""
             }
            },
            "type": "scattercarpet"
           }
          ],
          "scattergeo": [
           {
            "marker": {
             "colorbar": {
              "outlinewidth": 0,
              "ticks": ""
             }
            },
            "type": "scattergeo"
           }
          ],
          "scattergl": [
           {
            "marker": {
             "colorbar": {
              "outlinewidth": 0,
              "ticks": ""
             }
            },
            "type": "scattergl"
           }
          ],
          "scattermap": [
           {
            "marker": {
             "colorbar": {
              "outlinewidth": 0,
              "ticks": ""
             }
            },
            "type": "scattermap"
           }
          ],
          "scattermapbox": [
           {
            "marker": {
             "colorbar": {
              "outlinewidth": 0,
              "ticks": ""
             }
            },
            "type": "scattermapbox"
           }
          ],
          "scatterpolar": [
           {
            "marker": {
             "colorbar": {
              "outlinewidth": 0,
              "ticks": ""
             }
            },
            "type": "scatterpolar"
           }
          ],
          "scatterpolargl": [
           {
            "marker": {
             "colorbar": {
              "outlinewidth": 0,
              "ticks": ""
             }
            },
            "type": "scatterpolargl"
           }
          ],
          "scatterternary": [
           {
            "marker": {
             "colorbar": {
              "outlinewidth": 0,
              "ticks": ""
             }
            },
            "type": "scatterternary"
           }
          ],
          "surface": [
           {
            "colorbar": {
             "outlinewidth": 0,
             "ticks": ""
            },
            "colorscale": [
             [
              0,
              "#0d0887"
             ],
             [
              0.1111111111111111,
              "#46039f"
             ],
             [
              0.2222222222222222,
              "#7201a8"
             ],
             [
              0.3333333333333333,
              "#9c179e"
             ],
             [
              0.4444444444444444,
              "#bd3786"
             ],
             [
              0.5555555555555556,
              "#d8576b"
             ],
             [
              0.6666666666666666,
              "#ed7953"
             ],
             [
              0.7777777777777778,
              "#fb9f3a"
             ],
             [
              0.8888888888888888,
              "#fdca26"
             ],
             [
              1,
              "#f0f921"
             ]
            ],
            "type": "surface"
           }
          ],
          "table": [
           {
            "cells": {
             "fill": {
              "color": "#EBF0F8"
             },
             "line": {
              "color": "white"
             }
            },
            "header": {
             "fill": {
              "color": "#C8D4E3"
             },
             "line": {
              "color": "white"
             }
            },
            "type": "table"
           }
          ]
         },
         "layout": {
          "annotationdefaults": {
           "arrowcolor": "#2a3f5f",
           "arrowhead": 0,
           "arrowwidth": 1
          },
          "autotypenumbers": "strict",
          "coloraxis": {
           "colorbar": {
            "outlinewidth": 0,
            "ticks": ""
           }
          },
          "colorscale": {
           "diverging": [
            [
             0,
             "#8e0152"
            ],
            [
             0.1,
             "#c51b7d"
            ],
            [
             0.2,
             "#de77ae"
            ],
            [
             0.3,
             "#f1b6da"
            ],
            [
             0.4,
             "#fde0ef"
            ],
            [
             0.5,
             "#f7f7f7"
            ],
            [
             0.6,
             "#e6f5d0"
            ],
            [
             0.7,
             "#b8e186"
            ],
            [
             0.8,
             "#7fbc41"
            ],
            [
             0.9,
             "#4d9221"
            ],
            [
             1,
             "#276419"
            ]
           ],
           "sequential": [
            [
             0,
             "#0d0887"
            ],
            [
             0.1111111111111111,
             "#46039f"
            ],
            [
             0.2222222222222222,
             "#7201a8"
            ],
            [
             0.3333333333333333,
             "#9c179e"
            ],
            [
             0.4444444444444444,
             "#bd3786"
            ],
            [
             0.5555555555555556,
             "#d8576b"
            ],
            [
             0.6666666666666666,
             "#ed7953"
            ],
            [
             0.7777777777777778,
             "#fb9f3a"
            ],
            [
             0.8888888888888888,
             "#fdca26"
            ],
            [
             1,
             "#f0f921"
            ]
           ],
           "sequentialminus": [
            [
             0,
             "#0d0887"
            ],
            [
             0.1111111111111111,
             "#46039f"
            ],
            [
             0.2222222222222222,
             "#7201a8"
            ],
            [
             0.3333333333333333,
             "#9c179e"
            ],
            [
             0.4444444444444444,
             "#bd3786"
            ],
            [
             0.5555555555555556,
             "#d8576b"
            ],
            [
             0.6666666666666666,
             "#ed7953"
            ],
            [
             0.7777777777777778,
             "#fb9f3a"
            ],
            [
             0.8888888888888888,
             "#fdca26"
            ],
            [
             1,
             "#f0f921"
            ]
           ]
          },
          "colorway": [
           "#636efa",
           "#EF553B",
           "#00cc96",
           "#ab63fa",
           "#FFA15A",
           "#19d3f3",
           "#FF6692",
           "#B6E880",
           "#FF97FF",
           "#FECB52"
          ],
          "font": {
           "color": "#2a3f5f"
          },
          "geo": {
           "bgcolor": "white",
           "lakecolor": "white",
           "landcolor": "#E5ECF6",
           "showlakes": true,
           "showland": true,
           "subunitcolor": "white"
          },
          "hoverlabel": {
           "align": "left"
          },
          "hovermode": "closest",
          "mapbox": {
           "style": "light"
          },
          "paper_bgcolor": "white",
          "plot_bgcolor": "#E5ECF6",
          "polar": {
           "angularaxis": {
            "gridcolor": "white",
            "linecolor": "white",
            "ticks": ""
           },
           "bgcolor": "#E5ECF6",
           "radialaxis": {
            "gridcolor": "white",
            "linecolor": "white",
            "ticks": ""
           }
          },
          "scene": {
           "xaxis": {
            "backgroundcolor": "#E5ECF6",
            "gridcolor": "white",
            "gridwidth": 2,
            "linecolor": "white",
            "showbackground": true,
            "ticks": "",
            "zerolinecolor": "white"
           },
           "yaxis": {
            "backgroundcolor": "#E5ECF6",
            "gridcolor": "white",
            "gridwidth": 2,
            "linecolor": "white",
            "showbackground": true,
            "ticks": "",
            "zerolinecolor": "white"
           },
           "zaxis": {
            "backgroundcolor": "#E5ECF6",
            "gridcolor": "white",
            "gridwidth": 2,
            "linecolor": "white",
            "showbackground": true,
            "ticks": "",
            "zerolinecolor": "white"
           }
          },
          "shapedefaults": {
           "line": {
            "color": "#2a3f5f"
           }
          },
          "ternary": {
           "aaxis": {
            "gridcolor": "white",
            "linecolor": "white",
            "ticks": ""
           },
           "baxis": {
            "gridcolor": "white",
            "linecolor": "white",
            "ticks": ""
           },
           "bgcolor": "#E5ECF6",
           "caxis": {
            "gridcolor": "white",
            "linecolor": "white",
            "ticks": ""
           }
          },
          "title": {
           "x": 0.05
          },
          "xaxis": {
           "automargin": true,
           "gridcolor": "white",
           "linecolor": "white",
           "ticks": "",
           "title": {
            "standoff": 15
           },
           "zerolinecolor": "white",
           "zerolinewidth": 2
          },
          "yaxis": {
           "automargin": true,
           "gridcolor": "white",
           "linecolor": "white",
           "ticks": "",
           "title": {
            "standoff": 15
           },
           "zerolinecolor": "white",
           "zerolinewidth": 2
          }
         }
        },
        "xaxis": {
         "anchor": "y",
         "domain": [
          0,
          1
         ],
         "title": {
          "text": "Time Steps"
         }
        },
        "yaxis": {
         "anchor": "x",
         "domain": [
          0,
          1
         ],
         "title": {
          "text": "Delta"
         }
        }
       }
      },
      "image/png": "[encoded data removed]"
     },
     "metadata": {},
     "output_type": "display_data"
    }
   ],
   "source": [
    "display(dsa_mostra_caminho_venda(delta_df, sel_path, 'Delta'))"
   ]
  },
  {
   "cell_type": "code",
   "execution_count": 39,
   "metadata": {},
   "outputs": [
    {
     "data": {
      "application/vnd.plotly.v1+json": {
       "config": {
        "plotlyServerURL": "https://plot.ly"
       },
       "data": [
        {
         "hovertemplate": "path_id=152<br>Time Steps=%{x}<br>Option Value=%{y}<extra></extra>",
         "legendgroup": "152",
         "line": {
          "color": "#636efa",
          "dash": "solid"
         },
         "marker": {
          "symbol": "circle"
         },
         "mode": "lines",
         "name": "152",
         "orientation": "v",
         "showlegend": true,
         "type": "scatter",
         "x": [
          0,
          1,
          2,
          3,
          4,
          5,
          6,
          7,
          8,
          9,
          10,
          11,
          12,
          13,
          14,
          15,
          16,
          17,
          18,
          19,
          20,
          21,
          22,
          23,
          24,
          25,
          26,
          27,
          28,
          29,
          30,
          31,
          32,
          33,
          34,
          35,
          36,
          37,
          38,
          39,
          40,
          41,
          42,
          43,
          44,
          45,
          46,
          47,
          48,
          49,
          50,
          51,
          52,
          53,
          54,
          55,
          56,
          57,
          58,
          59,
          60,
          61,
          62,
          63
         ],
         "xaxis": "x",
         "y": [
          14.778198401306383,
          13.108524243899346,
          16.64743223105196,
          15.52621182117025,
          18.66451499555859,
          21.39384267514326,
          22.01534168624852,
          20.78495737129687,
          25.272472254782443,
          29.498447506987986,
          37.69771133199842,
          35.90746559177295,
          32.28536011364612,
          36.029350195506666,
          32.14418012046268,
          25.68106505577326,
          28.36989090077803,
          27.02689167171222,
          24.983011663195327,
          30.29048470569046,
          31.116057845231722,
          30.306053112069506,
          35.84053032388714,
          34.464969104630725,
          42.51267266636911,
          34.13226820129145,
          31.74462313683007,
          36.754035581518664,
          31.935180489556544,
          39.72941631747136,
          39.49315062300627,
          39.86158090349123,
          32.044010689391314,
          37.364212218515775,
          29.423869226659747,
          35.55987276074761,
          39.77529975889959,
          37.475419810858085,
          36.24865081524298,
          41.69346336547109,
          41.10142985367479,
          45.1296071103192,
          49.25022076263866,
          45.755727591764554,
          47.8257078620435,
          46.17764360133201,
          42.00120854543243,
          38.606862173908596,
          35.832176306316796,
          32.623234602803095,
          28.660816112092675,
          30.037505932782906,
          27.130625565171457,
          22.47846067672539,
          16.44604540200592,
          19.477863530825488,
          18.427846961220155,
          18.049108319945077,
          19.35858208359835,
          13.260584826399736,
          7.378556151057268,
          7.98981031083737,
          11.625807065805347,
          11.146808342883674
         ],
         "yaxis": "y"
        },
        {
         "hovertemplate": "path_id=2029<br>Time Steps=%{x}<br>Option Value=%{y}<extra></extra>",
         "legendgroup": "2029",
         "line": {
          "color": "#EF553B",
          "dash": "solid"
         },
         "marker": {
          "symbol": "circle"
         },
         "mode": "lines",
         "name": "2029",
         "orientation": "v",
         "showlegend": true,
         "type": "scatter",
         "x": [
          0,
          1,
          2,
          3,
          4,
          5,
          6,
          7,
          8,
          9,
          10,
          11,
          12,
          13,
          14,
          15,
          16,
          17,
          18,
          19,
          20,
          21,
          22,
          23,
          24,
          25,
          26,
          27,
          28,
          29,
          30,
          31,
          32,
          33,
          34,
          35,
          36,
          37,
          38,
          39,
          40,
          41,
          42,
          43,
          44,
          45,
          46,
          47,
          48,
          49,
          50,
          51,
          52,
          53,
          54,
          55,
          56,
          57,
          58,
          59,
          60,
          61,
          62,
          63
         ],
         "xaxis": "x",
         "y": [
          14.778198401306383,
          13.59072487254847,
          13.803973611960352,
          16.27406547027708,
          14.005163316303062,
          11.968922565216133,
          13.221292330890591,
          12.10651791409341,
          10.874444304127508,
          9.90254703017505,
          9.182003390404887,
          7.829665800200971,
          7.615204286024749,
          7.269446065274117,
          10.270592331739188,
          12.97286059965127,
          12.0116402545031,
          11.871271524195933,
          9.525230352516623,
          7.7677071214485665,
          9.579661425828917,
          9.148602241359292,
          9.737134340576674,
          6.724665487447133,
          9.208236987844614,
          8.840378081394583,
          7.024145439876506,
          6.474073517976272,
          6.939522582026498,
          6.693029368589251,
          7.849430431891015,
          10.460866663786867,
          11.6350828497118,
          11.576464759618439,
          10.702478406955898,
          13.144904378281879,
          13.825108685185697,
          16.924238292010983,
          15.500562826330764,
          14.35643958150365,
          16.493229428301532,
          12.389273508479107,
          9.967861316477205,
          4.936808776316809,
          3.3628632330013772,
          4.6191100146009205,
          4.030446974160121,
          4.025129322550491,
          9.097123228007973,
          9.73111586538792,
          9.062849354636839,
          10.471319073826294,
          13.56744524126087,
          12.802438735240415,
          11.157196197397738,
          16.749582815558597,
          18.76429019757822,
          21.89182705786368,
          18.00441635195044,
          15.509247282791009,
          17.36856874851695,
          14.231786668655232,
          11.673927528243595,
          8.87843777936284
         ],
         "yaxis": "y"
        },
        {
         "hovertemplate": "path_id=6221<br>Time Steps=%{x}<br>Option Value=%{y}<extra></extra>",
         "legendgroup": "6221",
         "line": {
          "color": "#00cc96",
          "dash": "solid"
         },
         "marker": {
          "symbol": "circle"
         },
         "mode": "lines",
         "name": "6221",
         "orientation": "v",
         "showlegend": true,
         "type": "scatter",
         "x": [
          0,
          1,
          2,
          3,
          4,
          5,
          6,
          7,
          8,
          9,
          10,
          11,
          12,
          13,
          14,
          15,
          16,
          17,
          18,
          19,
          20,
          21,
          22,
          23,
          24,
          25,
          26,
          27,
          28,
          29,
          30,
          31,
          32,
          33,
          34,
          35,
          36,
          37,
          38,
          39,
          40,
          41,
          42,
          43,
          44,
          45,
          46,
          47,
          48,
          49,
          50,
          51,
          52,
          53,
          54,
          55,
          56,
          57,
          58,
          59,
          60,
          61,
          62,
          63
         ],
         "xaxis": "x",
         "y": [
          14.778198401306383,
          16.347061380568988,
          13.004046388294086,
          13.535575905179236,
          15.73414015490463,
          15.633819471561196,
          17.785975417315946,
          18.311531194040164,
          20.257894606456958,
          19.39643264376464,
          19.40217185691617,
          27.168461948618443,
          26.942323353675206,
          22.960589517403264,
          22.22877965532743,
          22.550341687961208,
          25.07625574902451,
          25.546563993179717,
          21.2147706310587,
          25.07244320917107,
          23.826523706207396,
          24.825164415507018,
          21.761045874626376,
          28.01638573152394,
          30.649718189859968,
          29.924472417931682,
          31.612941491998583,
          33.41969891751694,
          32.51691966324586,
          36.22266816078724,
          37.37329835981953,
          37.53746081566182,
          41.281925809169365,
          36.61511481113919,
          34.11991277932624,
          36.09521897645308,
          36.24975655762198,
          41.33064839831566,
          36.96641375932613,
          35.836933472555515,
          30.07247507457818,
          26.13858536930252,
          24.3103817273617,
          21.731802132194588,
          21.924156917170848,
          23.725931319531455,
          20.092379286618197,
          24.593847413983696,
          33.96135439034501,
          33.7140917475632,
          32.38797298302357,
          33.99863178984471,
          35.858671786998,
          33.93064490462163,
          36.3478642933222,
          40.57795540840458,
          42.57559113410291,
          39.53398196970534,
          39.67066297930161,
          39.285931530509885,
          43.48889386929136,
          47.57200761297641,
          48.52097820106309,
          46.62399725390878
         ],
         "yaxis": "y"
        },
        {
         "hovertemplate": "path_id=6616<br>Time Steps=%{x}<br>Option Value=%{y}<extra></extra>",
         "legendgroup": "6616",
         "line": {
          "color": "#ab63fa",
          "dash": "solid"
         },
         "marker": {
          "symbol": "circle"
         },
         "mode": "lines",
         "name": "6616",
         "orientation": "v",
         "showlegend": true,
         "type": "scatter",
         "x": [
          0,
          1,
          2,
          3,
          4,
          5,
          6,
          7,
          8,
          9,
          10,
          11,
          12,
          13,
          14,
          15,
          16,
          17,
          18,
          19,
          20,
          21,
          22,
          23,
          24,
          25,
          26,
          27,
          28,
          29,
          30,
          31,
          32,
          33,
          34,
          35,
          36,
          37,
          38,
          39,
          40,
          41,
          42,
          43,
          44,
          45,
          46,
          47,
          48,
          49,
          50,
          51,
          52,
          53,
          54,
          55,
          56,
          57,
          58,
          59,
          60,
          61,
          62,
          63
         ],
         "xaxis": "x",
         "y": [
          14.778198401306383,
          17.016359470784423,
          19.542850690289725,
          17.293578386359016,
          16.771544408122814,
          15.97459844011236,
          15.173284034168951,
          15.88397421471609,
          18.613570967666035,
          18.518393950449457,
          17.862292387316515,
          17.91300887976852,
          17.784390441974466,
          15.16188573290492,
          19.393236509872338,
          19.440271450303882,
          22.500180330815084,
          27.75198386577074,
          27.621125058825953,
          29.221764013295584,
          37.27756154383957,
          34.98528497580155,
          39.70654336195129,
          37.15450002369796,
          43.43743146760349,
          40.13169559680932,
          34.157284289943064,
          33.885182868446975,
          36.34953897204521,
          39.91316150137024,
          36.47056924030956,
          32.90132444072911,
          30.573280754464946,
          38.910570132591374,
          44.19902829095953,
          44.72650068588328,
          52.03641710493592,
          46.124592494885036,
          49.44766558745191,
          52.83585077094378,
          55.15570901650989,
          58.06022149651798,
          57.22166628106133,
          54.17338979460598,
          52.06127455622827,
          57.249761319141044,
          56.909632469283736,
          43.42206347852792,
          37.60238383057629,
          41.195173588768526,
          43.36517282207372,
          38.07678980378165,
          37.699626520095165,
          33.959246609946035,
          40.27199427590982,
          43.7783816610891,
          41.00387761642179,
          46.303044056079386,
          45.66792546950346,
          43.81521228710787,
          43.982889267582365,
          42.55899933030402,
          40.35644696033589,
          37.66569590290686
         ],
         "yaxis": "y"
        },
        {
         "hovertemplate": "path_id=10000<br>Time Steps=%{x}<br>Option Value=%{y}<extra></extra>",
         "legendgroup": "10000",
         "line": {
          "color": "#FFA15A",
          "dash": "solid"
         },
         "marker": {
          "symbol": "circle"
         },
         "mode": "lines",
         "name": "10000",
         "orientation": "v",
         "showlegend": true,
         "type": "scatter",
         "x": [
          0,
          1,
          2,
          3,
          4,
          5,
          6,
          7,
          8,
          9,
          10,
          11,
          12,
          13,
          14,
          15,
          16,
          17,
          18,
          19,
          20,
          21,
          22,
          23,
          24,
          25,
          26,
          27,
          28,
          29,
          30,
          31,
          32,
          33,
          34,
          35,
          36,
          37,
          38,
          39,
          40,
          41,
          42,
          43,
          44,
          45,
          46,
          47,
          48,
          49,
          50,
          51,
          52,
          53,
          54,
          55,
          56,
          57,
          58,
          59,
          60,
          61,
          62,
          63
         ],
         "xaxis": "x",
         "y": [
          14.778198401306383,
          12.850637408738166,
          16.225510670691584,
          19.72434787586623,
          19.44389017828572,
          21.755852860775462,
          25.90286750280346,
          28.72383546507541,
          29.62819801720913,
          33.08083505711156,
          36.89239107120386,
          36.341080358420484,
          45.430980116500194,
          37.94224777153907,
          42.82249039822703,
          38.25952018486731,
          38.106862190421936,
          44.69545864575258,
          36.51570719897249,
          32.9876828745202,
          36.36570071516262,
          34.24623042279788,
          25.496925951512978,
          22.169435726579934,
          17.75442636508882,
          16.667653906869617,
          14.450459871790606,
          12.680887416932848,
          14.346591504132164,
          14.445315438593596,
          14.072386124817598,
          17.091071868112977,
          14.348973916130305,
          24.218456749059854,
          23.398196753656308,
          29.94188729840495,
          30.51843121522363,
          34.12790162408071,
          32.828003942445974,
          33.87524396242611,
          36.94690207139061,
          36.28599350920736,
          36.74791820094205,
          30.73358365275432,
          26.689704958816904,
          23.884300496957607,
          22.982206263190818,
          29.74886380682156,
          32.38177495874032,
          28.499196425299232,
          30.074373609460864,
          36.23167684712348,
          38.75252617209554,
          44.24666998113726,
          43.97887008625638,
          34.42831691406833,
          31.4571446141902,
          32.657818763833674,
          29.804350676385184,
          26.978057617560395,
          24.173160543668814,
          18.535960253721157,
          20.458599393684835,
          25.656656700314556
         ],
         "yaxis": "y"
        }
       ],
       "layout": {
        "legend": {
         "title": {
          "text": "path_id"
         },
         "tracegroupgap": 0
        },
        "margin": {
         "t": 60
        },
        "template": {
         "data": {
          "bar": [
           {
            "error_x": {
             "color": "#2a3f5f"
            },
            "error_y": {
             "color": "#2a3f5f"
            },
            "marker": {
             "line": {
              "color": "#E5ECF6",
              "width": 0.5
             },
             "pattern": {
              "fillmode": "overlay",
              "size": 10,
              "solidity": 0.2
             }
            },
            "type": "bar"
           }
          ],
          "barpolar": [
           {
            "marker": {
             "line": {
              "color": "#E5ECF6",
              "width": 0.5
             },
             "pattern": {
              "fillmode": "overlay",
              "size": 10,
              "solidity": 0.2
             }
            },
            "type": "barpolar"
           }
          ],
          "carpet": [
           {
            "aaxis": {
             "endlinecolor": "#2a3f5f",
             "gridcolor": "white",
             "linecolor": "white",
             "minorgridcolor": "white",
             "startlinecolor": "#2a3f5f"
            },
            "baxis": {
             "endlinecolor": "#2a3f5f",
             "gridcolor": "white",
             "linecolor": "white",
             "minorgridcolor": "white",
             "startlinecolor": "#2a3f5f"
            },
            "type": "carpet"
           }
          ],
          "choropleth": [
           {
            "colorbar": {
             "outlinewidth": 0,
             "ticks": ""
            },
            "type": "choropleth"
           }
          ],
          "contour": [
           {
            "colorbar": {
             "outlinewidth": 0,
             "ticks": ""
            },
            "colorscale": [
             [
              0,
              "#0d0887"
             ],
             [
              0.1111111111111111,
              "#46039f"
             ],
             [
              0.2222222222222222,
              "#7201a8"
             ],
             [
              0.3333333333333333,
              "#9c179e"
             ],
             [
              0.4444444444444444,
              "#bd3786"
             ],
             [
              0.5555555555555556,
              "#d8576b"
             ],
             [
              0.6666666666666666,
              "#ed7953"
             ],
             [
              0.7777777777777778,
              "#fb9f3a"
             ],
             [
              0.8888888888888888,
              "#fdca26"
             ],
             [
              1,
              "#f0f921"
             ]
            ],
            "type": "contour"
           }
          ],
          "contourcarpet": [
           {
            "colorbar": {
             "outlinewidth": 0,
             "ticks": ""
            },
            "type": "contourcarpet"
           }
          ],
          "heatmap": [
           {
            "colorbar": {
             "outlinewidth": 0,
             "ticks": ""
            },
            "colorscale": [
             [
              0,
              "#0d0887"
             ],
             [
              0.1111111111111111,
              "#46039f"
             ],
             [
              0.2222222222222222,
              "#7201a8"
             ],
             [
              0.3333333333333333,
              "#9c179e"
             ],
             [
              0.4444444444444444,
              "#bd3786"
             ],
             [
              0.5555555555555556,
              "#d8576b"
             ],
             [
              0.6666666666666666,
              "#ed7953"
             ],
             [
              0.7777777777777778,
              "#fb9f3a"
             ],
             [
              0.8888888888888888,
              "#fdca26"
             ],
             [
              1,
              "#f0f921"
             ]
            ],
            "type": "heatmap"
           }
          ],
          "histogram": [
           {
            "marker": {
             "pattern": {
              "fillmode": "overlay",
              "size": 10,
              "solidity": 0.2
             }
            },
            "type": "histogram"
           }
          ],
          "histogram2d": [
           {
            "colorbar": {
             "outlinewidth": 0,
             "ticks": ""
            },
            "colorscale": [
             [
              0,
              "#0d0887"
             ],
             [
              0.1111111111111111,
              "#46039f"
             ],
             [
              0.2222222222222222,
              "#7201a8"
             ],
             [
              0.3333333333333333,
              "#9c179e"
             ],
             [
              0.4444444444444444,
              "#bd3786"
             ],
             [
              0.5555555555555556,
              "#d8576b"
             ],
             [
              0.6666666666666666,
              "#ed7953"
             ],
             [
              0.7777777777777778,
              "#fb9f3a"
             ],
             [
              0.8888888888888888,
              "#fdca26"
             ],
             [
              1,
              "#f0f921"
             ]
            ],
            "type": "histogram2d"
           }
          ],
          "histogram2dcontour": [
           {
            "colorbar": {
             "outlinewidth": 0,
             "ticks": ""
            },
            "colorscale": [
             [
              0,
              "#0d0887"
             ],
             [
              0.1111111111111111,
              "#46039f"
             ],
             [
              0.2222222222222222,
              "#7201a8"
             ],
             [
              0.3333333333333333,
              "#9c179e"
             ],
             [
              0.4444444444444444,
              "#bd3786"
             ],
             [
              0.5555555555555556,
              "#d8576b"
             ],
             [
              0.6666666666666666,
              "#ed7953"
             ],
             [
              0.7777777777777778,
              "#fb9f3a"
             ],
             [
              0.8888888888888888,
              "#fdca26"
             ],
             [
              1,
              "#f0f921"
             ]
            ],
            "type": "histogram2dcontour"
           }
          ],
          "mesh3d": [
           {
            "colorbar": {
             "outlinewidth": 0,
             "ticks": ""
            },
            "type": "mesh3d"
           }
          ],
          "parcoords": [
           {
            "line": {
             "colorbar": {
              "outlinewidth": 0,
              "ticks": ""
             }
            },
            "type": "parcoords"
           }
          ],
          "pie": [
           {
            "automargin": true,
            "type": "pie"
           }
          ],
          "scatter": [
           {
            "fillpattern": {
             "fillmode": "overlay",
             "size": 10,
             "solidity": 0.2
            },
            "type": "scatter"
           }
          ],
          "scatter3d": [
           {
            "line": {
             "colorbar": {
              "outlinewidth": 0,
              "ticks": ""
             }
            },
            "marker": {
             "colorbar": {
              "outlinewidth": 0,
              "ticks": ""
             }
            },
            "type": "scatter3d"
           }
          ],
          "scattercarpet": [
           {
            "marker": {
             "colorbar": {
              "outlinewidth": 0,
              "ticks": ""
             }
            },
            "type": "scattercarpet"
           }
          ],
          "scattergeo": [
           {
            "marker": {
             "colorbar": {
              "outlinewidth": 0,
              "ticks": ""
             }
            },
            "type": "scattergeo"
           }
          ],
          "scattergl": [
           {
            "marker": {
             "colorbar": {
              "outlinewidth": 0,
              "ticks": ""
             }
            },
            "type": "scattergl"
           }
          ],
          "scattermap": [
           {
            "marker": {
             "colorbar": {
              "outlinewidth": 0,
              "ticks": ""
             }
            },
            "type": "scattermap"
           }
          ],
          "scattermapbox": [
           {
            "marker": {
             "colorbar": {
              "outlinewidth": 0,
              "ticks": ""
             }
            },
            "type": "scattermapbox"
           }
          ],
          "scatterpolar": [
           {
            "marker": {
             "colorbar": {
              "outlinewidth": 0,
              "ticks": ""
             }
            },
            "type": "scatterpolar"
           }
          ],
          "scatterpolargl": [
           {
            "marker": {
             "colorbar": {
              "outlinewidth": 0,
              "ticks": ""
             }
            },
            "type": "scatterpolargl"
           }
          ],
          "scatterternary": [
           {
            "marker": {
             "colorbar": {
              "outlinewidth": 0,
              "ticks": ""
             }
            },
            "type": "scatterternary"
           }
          ],
          "surface": [
           {
            "colorbar": {
             "outlinewidth": 0,
             "ticks": ""
            },
            "colorscale": [
             [
              0,
              "#0d0887"
             ],
             [
              0.1111111111111111,
              "#46039f"
             ],
             [
              0.2222222222222222,
              "#7201a8"
             ],
             [
              0.3333333333333333,
              "#9c179e"
             ],
             [
              0.4444444444444444,
              "#bd3786"
             ],
             [
              0.5555555555555556,
              "#d8576b"
             ],
             [
              0.6666666666666666,
              "#ed7953"
             ],
             [
              0.7777777777777778,
              "#fb9f3a"
             ],
             [
              0.8888888888888888,
              "#fdca26"
             ],
             [
              1,
              "#f0f921"
             ]
            ],
            "type": "surface"
           }
          ],
          "table": [
           {
            "cells": {
             "fill": {
              "color": "#EBF0F8"
             },
             "line": {
              "color": "white"
             }
            },
            "header": {
             "fill": {
              "color": "#C8D4E3"
             },
             "line": {
              "color": "white"
             }
            },
            "type": "table"
           }
          ]
         },
         "layout": {
          "annotationdefaults": {
           "arrowcolor": "#2a3f5f",
           "arrowhead": 0,
           "arrowwidth": 1
          },
          "autotypenumbers": "strict",
          "coloraxis": {
           "colorbar": {
            "outlinewidth": 0,
            "ticks": ""
           }
          },
          "colorscale": {
           "diverging": [
            [
             0,
             "#8e0152"
            ],
            [
             0.1,
             "#c51b7d"
            ],
            [
             0.2,
             "#de77ae"
            ],
            [
             0.3,
             "#f1b6da"
            ],
            [
             0.4,
             "#fde0ef"
            ],
            [
             0.5,
             "#f7f7f7"
            ],
            [
             0.6,
             "#e6f5d0"
            ],
            [
             0.7,
             "#b8e186"
            ],
            [
             0.8,
             "#7fbc41"
            ],
            [
             0.9,
             "#4d9221"
            ],
            [
             1,
             "#276419"
            ]
           ],
           "sequential": [
            [
             0,
             "#0d0887"
            ],
            [
             0.1111111111111111,
             "#46039f"
            ],
            [
             0.2222222222222222,
             "#7201a8"
            ],
            [
             0.3333333333333333,
             "#9c179e"
            ],
            [
             0.4444444444444444,
             "#bd3786"
            ],
            [
             0.5555555555555556,
             "#d8576b"
            ],
            [
             0.6666666666666666,
             "#ed7953"
            ],
            [
             0.7777777777777778,
             "#fb9f3a"
            ],
            [
             0.8888888888888888,
             "#fdca26"
            ],
            [
             1,
             "#f0f921"
            ]
           ],
           "sequentialminus": [
            [
             0,
             "#0d0887"
            ],
            [
             0.1111111111111111,
             "#46039f"
            ],
            [
             0.2222222222222222,
             "#7201a8"
            ],
            [
             0.3333333333333333,
             "#9c179e"
            ],
            [
             0.4444444444444444,
             "#bd3786"
            ],
            [
             0.5555555555555556,
             "#d8576b"
            ],
            [
             0.6666666666666666,
             "#ed7953"
            ],
            [
             0.7777777777777778,
             "#fb9f3a"
            ],
            [
             0.8888888888888888,
             "#fdca26"
            ],
            [
             1,
             "#f0f921"
            ]
           ]
          },
          "colorway": [
           "#636efa",
           "#EF553B",
           "#00cc96",
           "#ab63fa",
           "#FFA15A",
           "#19d3f3",
           "#FF6692",
           "#B6E880",
           "#FF97FF",
           "#FECB52"
          ],
          "font": {
           "color": "#2a3f5f"
          },
          "geo": {
           "bgcolor": "white",
           "lakecolor": "white",
           "landcolor": "#E5ECF6",
           "showlakes": true,
           "showland": true,
           "subunitcolor": "white"
          },
          "hoverlabel": {
           "align": "left"
          },
          "hovermode": "closest",
          "mapbox": {
           "style": "light"
          },
          "paper_bgcolor": "white",
          "plot_bgcolor": "#E5ECF6",
          "polar": {
           "angularaxis": {
            "gridcolor": "white",
            "linecolor": "white",
            "ticks": ""
           },
           "bgcolor": "#E5ECF6",
           "radialaxis": {
            "gridcolor": "white",
            "linecolor": "white",
            "ticks": ""
           }
          },
          "scene": {
           "xaxis": {
            "backgroundcolor": "#E5ECF6",
            "gridcolor": "white",
            "gridwidth": 2,
            "linecolor": "white",
            "showbackground": true,
            "ticks": "",
            "zerolinecolor": "white"
           },
           "yaxis": {
            "backgroundcolor": "#E5ECF6",
            "gridcolor": "white",
            "gridwidth": 2,
            "linecolor": "white",
            "showbackground": true,
            "ticks": "",
            "zerolinecolor": "white"
           },
           "zaxis": {
            "backgroundcolor": "#E5ECF6",
            "gridcolor": "white",
            "gridwidth": 2,
            "linecolor": "white",
            "showbackground": true,
            "ticks": "",
            "zerolinecolor": "white"
           }
          },
          "shapedefaults": {
           "line": {
            "color": "#2a3f5f"
           }
          },
          "ternary": {
           "aaxis": {
            "gridcolor": "white",
            "linecolor": "white",
            "ticks": ""
           },
           "baxis": {
            "gridcolor": "white",
            "linecolor": "white",
            "ticks": ""
           },
           "bgcolor": "#E5ECF6",
           "caxis": {
            "gridcolor": "white",
            "linecolor": "white",
            "ticks": ""
           }
          },
          "title": {
           "x": 0.05
          },
          "xaxis": {
           "automargin": true,
           "gridcolor": "white",
           "linecolor": "white",
           "ticks": "",
           "title": {
            "standoff": 15
           },
           "zerolinecolor": "white",
           "zerolinewidth": 2
          },
          "yaxis": {
           "automargin": true,
           "gridcolor": "white",
           "linecolor": "white",
           "ticks": "",
           "title": {
            "standoff": 15
           },
           "zerolinecolor": "white",
           "zerolinewidth": 2
          }
         }
        },
        "xaxis": {
         "anchor": "y",
         "domain": [
          0,
          1
         ],
         "title": {
          "text": "Time Steps"
         }
        },
        "yaxis": {
         "anchor": "x",
         "domain": [
          0,
          1
         ],
         "title": {
          "text": "Option Value"
         }
        }
       }
      },
      "image/png": "[encoded data removed]"
     },
     "metadata": {},
     "output_type": "display_data"
    }
   ],
   "source": [
    "display(dsa_mostra_caminho_venda(option_value_df, sel_path, 'Option Value'))"
   ]
  },
  {
   "cell_type": "markdown",
   "metadata": {},
   "source": [
    "## Pré-Processamento dos Dados Para Modelagem com Reinforcement Learning\n",
    "\n",
    "Para o pré-processamento calculamos diferenças nas séries temporais (delta), normalizamos os dados (ajustando-os pela média) e os dividimos em conjuntos de treino e teste. "
   ]
  },
  {
   "cell_type": "code",
   "execution_count": 40,
   "metadata": {
    "id": "LDKKITDQMq2m"
   },
   "outputs": [],
   "source": [
    "# Cálculo de delta_s (variação no preço do ativo subjacente)\n",
    "delta_s = np.exp(-r * delta_t) * spot_df.loc[:,1:num_of_timestep].values - spot_df.loc[:,0:num_of_timestep-1]"
   ]
  },
  {
   "cell_type": "markdown",
   "metadata": {},
   "source": [
    "Esta linha calcula a variação do preço do ativo subjacente entre os passos de tempo, ajustando pelo fator de desconto, o que é necessário para trazer os valores futuros ao presente. \n",
    "\n",
    "O termo: **np.exp(-r * delta_t)** aplica o desconto pela taxa de juros livre de risco para um único passo de tempo. O cálculo da diferença:\n",
    "\n",
    "**spot_df.loc[:,1:num_of_timestep].values - spot_df.loc[:,0:num_of_timestep-1]**\n",
    "\n",
    "subtrai o preço da ação no passo de tempo anterior do preço no passo de tempo atual, obtendo assim a variação no preço (delta_s)."
   ]
  },
  {
   "cell_type": "code",
   "execution_count": 41,
   "metadata": {},
   "outputs": [],
   "source": [
    "# Cálculo de delta_c (variação no valor da opção)\n",
    "delta_c = np.exp(-r * delta_t) * option_value_df.loc[:,1:num_of_timestep].values - option_value_df.loc[:,0:num_of_timestep-1]"
   ]
  },
  {
   "cell_type": "markdown",
   "metadata": {},
   "source": [
    "O cálculo de delta_c unciona de maneira similar ao cálculo de delta_s, mas neste caso estamos calculando a variação no valor da opção (não no preço da ação). A fórmula subtrai os valores da opção entre passos de tempo consecutivos e ajusta pelo fator de desconto. O resultado é a variação no valor da opção (delta_c)."
   ]
  },
  {
   "cell_type": "code",
   "execution_count": 42,
   "metadata": {},
   "outputs": [],
   "source": [
    "# Índice para divisão dos dados em treino e teste\n",
    "data_cutoff = int(num_of_path * 0.7)  "
   ]
  },
  {
   "cell_type": "markdown",
   "metadata": {},
   "source": [
    "Os dados são divididos com base em um índice de corte (data_cutoff), que é 70% dos caminhos simulados. Aqui, o spot_df e delta_df (contendo os preços das ações e os deltas), bem como delta_s (variações nos preços) e delta_c (variações nos valores das opções) são divididos em conjuntos de treino e teste."
   ]
  },
  {
   "cell_type": "code",
   "execution_count": 43,
   "metadata": {},
   "outputs": [],
   "source": [
    "# Divisão dos dados em treino e teste \n",
    "spot_df_train, spot_df_test = spot_df[:data_cutoff], spot_df[data_cutoff:]"
   ]
  },
  {
   "cell_type": "code",
   "execution_count": 44,
   "metadata": {},
   "outputs": [
    {
     "data": {
      "text/html": [
       "<div>\n",
       "<style scoped>\n",
       "    .dataframe tbody tr th:only-of-type {\n",
       "        vertical-align: middle;\n",
       "    }\n",
       "\n",
       "    .dataframe tbody tr th {\n",
       "        vertical-align: top;\n",
       "    }\n",
       "\n",
       "    .dataframe thead th {\n",
       "        text-align: right;\n",
       "    }\n",
       "</style>\n",
       "<table border=\"1\" class=\"dataframe\">\n",
       "  <thead>\n",
       "    <tr style=\"text-align: right;\">\n",
       "      <th></th>\n",
       "      <th>0</th>\n",
       "      <th>1</th>\n",
       "      <th>2</th>\n",
       "      <th>3</th>\n",
       "      <th>4</th>\n",
       "      <th>5</th>\n",
       "      <th>6</th>\n",
       "      <th>7</th>\n",
       "      <th>8</th>\n",
       "      <th>9</th>\n",
       "      <th>...</th>\n",
       "      <th>54</th>\n",
       "      <th>55</th>\n",
       "      <th>56</th>\n",
       "      <th>57</th>\n",
       "      <th>58</th>\n",
       "      <th>59</th>\n",
       "      <th>60</th>\n",
       "      <th>61</th>\n",
       "      <th>62</th>\n",
       "      <th>63</th>\n",
       "    </tr>\n",
       "  </thead>\n",
       "  <tbody>\n",
       "    <tr>\n",
       "      <th>1</th>\n",
       "      <td>100</td>\n",
       "      <td>94.607893</td>\n",
       "      <td>95.851775</td>\n",
       "      <td>99.722386</td>\n",
       "      <td>99.084450</td>\n",
       "      <td>102.507813</td>\n",
       "      <td>104.440342</td>\n",
       "      <td>105.393510</td>\n",
       "      <td>101.953916</td>\n",
       "      <td>101.510622</td>\n",
       "      <td>...</td>\n",
       "      <td>92.137761</td>\n",
       "      <td>92.637450</td>\n",
       "      <td>94.364099</td>\n",
       "      <td>91.907526</td>\n",
       "      <td>95.921165</td>\n",
       "      <td>95.848230</td>\n",
       "      <td>93.269014</td>\n",
       "      <td>90.782774</td>\n",
       "      <td>91.005951</td>\n",
       "      <td>91.886620</td>\n",
       "    </tr>\n",
       "    <tr>\n",
       "      <th>2</th>\n",
       "      <td>100</td>\n",
       "      <td>100.229134</td>\n",
       "      <td>95.179909</td>\n",
       "      <td>92.151533</td>\n",
       "      <td>94.193009</td>\n",
       "      <td>96.668653</td>\n",
       "      <td>100.157937</td>\n",
       "      <td>95.747461</td>\n",
       "      <td>90.313984</td>\n",
       "      <td>91.571562</td>\n",
       "      <td>...</td>\n",
       "      <td>70.089482</td>\n",
       "      <td>71.830884</td>\n",
       "      <td>67.495876</td>\n",
       "      <td>67.322825</td>\n",
       "      <td>64.130244</td>\n",
       "      <td>68.700450</td>\n",
       "      <td>65.750906</td>\n",
       "      <td>63.548622</td>\n",
       "      <td>63.170463</td>\n",
       "      <td>60.394913</td>\n",
       "    </tr>\n",
       "    <tr>\n",
       "      <th>3</th>\n",
       "      <td>100</td>\n",
       "      <td>103.345619</td>\n",
       "      <td>103.470774</td>\n",
       "      <td>106.742247</td>\n",
       "      <td>109.631973</td>\n",
       "      <td>104.579744</td>\n",
       "      <td>100.757439</td>\n",
       "      <td>105.318745</td>\n",
       "      <td>108.853963</td>\n",
       "      <td>104.795249</td>\n",
       "      <td>...</td>\n",
       "      <td>112.748536</td>\n",
       "      <td>111.070658</td>\n",
       "      <td>110.491608</td>\n",
       "      <td>112.236746</td>\n",
       "      <td>108.488560</td>\n",
       "      <td>113.179752</td>\n",
       "      <td>112.537295</td>\n",
       "      <td>110.175265</td>\n",
       "      <td>108.262666</td>\n",
       "      <td>111.110970</td>\n",
       "    </tr>\n",
       "    <tr>\n",
       "      <th>4</th>\n",
       "      <td>100</td>\n",
       "      <td>101.624285</td>\n",
       "      <td>107.906035</td>\n",
       "      <td>109.936216</td>\n",
       "      <td>114.441076</td>\n",
       "      <td>122.721113</td>\n",
       "      <td>121.126577</td>\n",
       "      <td>123.956476</td>\n",
       "      <td>123.476971</td>\n",
       "      <td>127.893476</td>\n",
       "      <td>...</td>\n",
       "      <td>144.731877</td>\n",
       "      <td>143.700120</td>\n",
       "      <td>149.475609</td>\n",
       "      <td>155.546911</td>\n",
       "      <td>159.457429</td>\n",
       "      <td>153.177376</td>\n",
       "      <td>161.300813</td>\n",
       "      <td>160.649598</td>\n",
       "      <td>158.976836</td>\n",
       "      <td>161.688592</td>\n",
       "    </tr>\n",
       "    <tr>\n",
       "      <th>5</th>\n",
       "      <td>100</td>\n",
       "      <td>105.072992</td>\n",
       "      <td>106.102508</td>\n",
       "      <td>106.167495</td>\n",
       "      <td>109.298376</td>\n",
       "      <td>118.059803</td>\n",
       "      <td>114.695505</td>\n",
       "      <td>115.328701</td>\n",
       "      <td>125.556265</td>\n",
       "      <td>127.460955</td>\n",
       "      <td>...</td>\n",
       "      <td>188.081461</td>\n",
       "      <td>200.155908</td>\n",
       "      <td>198.331319</td>\n",
       "      <td>201.968075</td>\n",
       "      <td>195.326933</td>\n",
       "      <td>199.418289</td>\n",
       "      <td>200.353239</td>\n",
       "      <td>203.260759</td>\n",
       "      <td>212.730102</td>\n",
       "      <td>225.110566</td>\n",
       "    </tr>\n",
       "  </tbody>\n",
       "</table>\n",
       "<p>5 rows × 64 columns</p>\n",
       "</div>"
      ],
      "text/plain": [
       "    0           1           2           3           4           5   \\\n",
       "1  100   94.607893   95.851775   99.722386   99.084450  102.507813   \n",
       "2  100  100.229134   95.179909   92.151533   94.193009   96.668653   \n",
       "3  100  103.345619  103.470774  106.742247  109.631973  104.579744   \n",
       "4  100  101.624285  107.906035  109.936216  114.441076  122.721113   \n",
       "5  100  105.072992  106.102508  106.167495  109.298376  118.059803   \n",
       "\n",
       "           6           7           8           9   ...          54  \\\n",
       "1  104.440342  105.393510  101.953916  101.510622  ...   92.137761   \n",
       "2  100.157937   95.747461   90.313984   91.571562  ...   70.089482   \n",
       "3  100.757439  105.318745  108.853963  104.795249  ...  112.748536   \n",
       "4  121.126577  123.956476  123.476971  127.893476  ...  144.731877   \n",
       "5  114.695505  115.328701  125.556265  127.460955  ...  188.081461   \n",
       "\n",
       "           55          56          57          58          59          60  \\\n",
       "1   92.637450   94.364099   91.907526   95.921165   95.848230   93.269014   \n",
       "2   71.830884   67.495876   67.322825   64.130244   68.700450   65.750906   \n",
       "3  111.070658  110.491608  112.236746  108.488560  113.179752  112.537295   \n",
       "4  143.700120  149.475609  155.546911  159.457429  153.177376  161.300813   \n",
       "5  200.155908  198.331319  201.968075  195.326933  199.418289  200.353239   \n",
       "\n",
       "           61          62          63  \n",
       "1   90.782774   91.005951   91.886620  \n",
       "2   63.548622   63.170463   60.394913  \n",
       "3  110.175265  108.262666  111.110970  \n",
       "4  160.649598  158.976836  161.688592  \n",
       "5  203.260759  212.730102  225.110566  \n",
       "\n",
       "[5 rows x 64 columns]"
      ]
     },
     "execution_count": 44,
     "metadata": {},
     "output_type": "execute_result"
    }
   ],
   "source": [
    "spot_df_train.head()"
   ]
  },
  {
   "cell_type": "code",
   "execution_count": 45,
   "metadata": {},
   "outputs": [],
   "source": [
    "# Divisão dos dados em treino e teste\n",
    "delta_df_train, delta_df_test = delta_df[:data_cutoff], delta_df[data_cutoff:]"
   ]
  },
  {
   "cell_type": "code",
   "execution_count": 46,
   "metadata": {},
   "outputs": [
    {
     "data": {
      "text/html": [
       "<div>\n",
       "<style scoped>\n",
       "    .dataframe tbody tr th:only-of-type {\n",
       "        vertical-align: middle;\n",
       "    }\n",
       "\n",
       "    .dataframe tbody tr th {\n",
       "        vertical-align: top;\n",
       "    }\n",
       "\n",
       "    .dataframe thead th {\n",
       "        text-align: right;\n",
       "    }\n",
       "</style>\n",
       "<table border=\"1\" class=\"dataframe\">\n",
       "  <thead>\n",
       "    <tr style=\"text-align: right;\">\n",
       "      <th></th>\n",
       "      <th>0</th>\n",
       "      <th>1</th>\n",
       "      <th>2</th>\n",
       "      <th>3</th>\n",
       "      <th>4</th>\n",
       "      <th>5</th>\n",
       "      <th>6</th>\n",
       "      <th>7</th>\n",
       "      <th>8</th>\n",
       "      <th>9</th>\n",
       "      <th>...</th>\n",
       "      <th>54</th>\n",
       "      <th>55</th>\n",
       "      <th>56</th>\n",
       "      <th>57</th>\n",
       "      <th>58</th>\n",
       "      <th>59</th>\n",
       "      <th>60</th>\n",
       "      <th>61</th>\n",
       "      <th>62</th>\n",
       "      <th>63</th>\n",
       "    </tr>\n",
       "  </thead>\n",
       "  <tbody>\n",
       "    <tr>\n",
       "      <th>1</th>\n",
       "      <td>0.683075</td>\n",
       "      <td>0.601587</td>\n",
       "      <td>0.619043</td>\n",
       "      <td>0.675039</td>\n",
       "      <td>0.664349</td>\n",
       "      <td>0.711025</td>\n",
       "      <td>0.735283</td>\n",
       "      <td>0.746504</td>\n",
       "      <td>0.700125</td>\n",
       "      <td>0.692628</td>\n",
       "      <td>...</td>\n",
       "      <td>0.256604</td>\n",
       "      <td>0.255813</td>\n",
       "      <td>0.304653</td>\n",
       "      <td>0.1826</td>\n",
       "      <td>0.331864</td>\n",
       "      <td>0.298849</td>\n",
       "      <td>0.130265</td>\n",
       "      <td>0.022529</td>\n",
       "      <td>0.002407</td>\n",
       "      <td>0.0</td>\n",
       "    </tr>\n",
       "    <tr>\n",
       "      <th>2</th>\n",
       "      <td>0.683075</td>\n",
       "      <td>0.684883</td>\n",
       "      <td>0.608517</td>\n",
       "      <td>0.556643</td>\n",
       "      <td>0.588234</td>\n",
       "      <td>0.625936</td>\n",
       "      <td>0.677045</td>\n",
       "      <td>0.60706</td>\n",
       "      <td>0.510119</td>\n",
       "      <td>0.529863</td>\n",
       "      <td>...</td>\n",
       "      <td>0.000292</td>\n",
       "      <td>0.000332</td>\n",
       "      <td>0.000006</td>\n",
       "      <td>0.000001</td>\n",
       "      <td>0.0</td>\n",
       "      <td>0.0</td>\n",
       "      <td>0.0</td>\n",
       "      <td>0.0</td>\n",
       "      <td>0.0</td>\n",
       "      <td>0.0</td>\n",
       "    </tr>\n",
       "    <tr>\n",
       "      <th>3</th>\n",
       "      <td>0.683075</td>\n",
       "      <td>0.725814</td>\n",
       "      <td>0.726464</td>\n",
       "      <td>0.764906</td>\n",
       "      <td>0.795795</td>\n",
       "      <td>0.737825</td>\n",
       "      <td>0.685665</td>\n",
       "      <td>0.745576</td>\n",
       "      <td>0.786555</td>\n",
       "      <td>0.737516</td>\n",
       "      <td>...</td>\n",
       "      <td>0.919534</td>\n",
       "      <td>0.903853</td>\n",
       "      <td>0.905039</td>\n",
       "      <td>0.94372</td>\n",
       "      <td>0.893864</td>\n",
       "      <td>0.977848</td>\n",
       "      <td>0.985639</td>\n",
       "      <td>0.985304</td>\n",
       "      <td>0.99353</td>\n",
       "      <td>1.0</td>\n",
       "    </tr>\n",
       "    <tr>\n",
       "      <th>4</th>\n",
       "      <td>0.683075</td>\n",
       "      <td>0.703687</td>\n",
       "      <td>0.778259</td>\n",
       "      <td>0.799113</td>\n",
       "      <td>0.840726</td>\n",
       "      <td>0.899437</td>\n",
       "      <td>0.890397</td>\n",
       "      <td>0.907552</td>\n",
       "      <td>0.905538</td>\n",
       "      <td>0.928378</td>\n",
       "      <td>...</td>\n",
       "      <td>0.99996</td>\n",
       "      <td>0.999978</td>\n",
       "      <td>0.999999</td>\n",
       "      <td>1.0</td>\n",
       "      <td>1.0</td>\n",
       "      <td>1.0</td>\n",
       "      <td>1.0</td>\n",
       "      <td>1.0</td>\n",
       "      <td>1.0</td>\n",
       "      <td>1.0</td>\n",
       "    </tr>\n",
       "    <tr>\n",
       "      <th>5</th>\n",
       "      <td>0.683075</td>\n",
       "      <td>0.74682</td>\n",
       "      <td>0.75816</td>\n",
       "      <td>0.75831</td>\n",
       "      <td>0.792342</td>\n",
       "      <td>0.869284</td>\n",
       "      <td>0.843245</td>\n",
       "      <td>0.8488</td>\n",
       "      <td>0.9166</td>\n",
       "      <td>0.926433</td>\n",
       "      <td>...</td>\n",
       "      <td>1.0</td>\n",
       "      <td>1.0</td>\n",
       "      <td>1.0</td>\n",
       "      <td>1.0</td>\n",
       "      <td>1.0</td>\n",
       "      <td>1.0</td>\n",
       "      <td>1.0</td>\n",
       "      <td>1.0</td>\n",
       "      <td>1.0</td>\n",
       "      <td>1.0</td>\n",
       "    </tr>\n",
       "  </tbody>\n",
       "</table>\n",
       "<p>5 rows × 64 columns</p>\n",
       "</div>"
      ],
      "text/plain": [
       "         0         1         2         3         4         5         6   \\\n",
       "1  0.683075  0.601587  0.619043  0.675039  0.664349  0.711025  0.735283   \n",
       "2  0.683075  0.684883  0.608517  0.556643  0.588234  0.625936  0.677045   \n",
       "3  0.683075  0.725814  0.726464  0.764906  0.795795  0.737825  0.685665   \n",
       "4  0.683075  0.703687  0.778259  0.799113  0.840726  0.899437  0.890397   \n",
       "5  0.683075   0.74682   0.75816   0.75831  0.792342  0.869284  0.843245   \n",
       "\n",
       "         7         8         9   ...        54        55        56        57  \\\n",
       "1  0.746504  0.700125  0.692628  ...  0.256604  0.255813  0.304653    0.1826   \n",
       "2   0.60706  0.510119  0.529863  ...  0.000292  0.000332  0.000006  0.000001   \n",
       "3  0.745576  0.786555  0.737516  ...  0.919534  0.903853  0.905039   0.94372   \n",
       "4  0.907552  0.905538  0.928378  ...   0.99996  0.999978  0.999999       1.0   \n",
       "5    0.8488    0.9166  0.926433  ...       1.0       1.0       1.0       1.0   \n",
       "\n",
       "         58        59        60        61        62   63  \n",
       "1  0.331864  0.298849  0.130265  0.022529  0.002407  0.0  \n",
       "2       0.0       0.0       0.0       0.0       0.0  0.0  \n",
       "3  0.893864  0.977848  0.985639  0.985304   0.99353  1.0  \n",
       "4       1.0       1.0       1.0       1.0       1.0  1.0  \n",
       "5       1.0       1.0       1.0       1.0       1.0  1.0  \n",
       "\n",
       "[5 rows x 64 columns]"
      ]
     },
     "execution_count": 46,
     "metadata": {},
     "output_type": "execute_result"
    }
   ],
   "source": [
    "delta_df_train.head()"
   ]
  },
  {
   "cell_type": "code",
   "execution_count": 47,
   "metadata": {},
   "outputs": [],
   "source": [
    "# Divisão dos dados em treino e teste\n",
    "delta_s_train, delta_s_test = delta_s[:data_cutoff], delta_s[data_cutoff:]"
   ]
  },
  {
   "cell_type": "code",
   "execution_count": 48,
   "metadata": {},
   "outputs": [
    {
     "data": {
      "text/html": [
       "<div>\n",
       "<style scoped>\n",
       "    .dataframe tbody tr th:only-of-type {\n",
       "        vertical-align: middle;\n",
       "    }\n",
       "\n",
       "    .dataframe tbody tr th {\n",
       "        vertical-align: top;\n",
       "    }\n",
       "\n",
       "    .dataframe thead th {\n",
       "        text-align: right;\n",
       "    }\n",
       "</style>\n",
       "<table border=\"1\" class=\"dataframe\">\n",
       "  <thead>\n",
       "    <tr style=\"text-align: right;\">\n",
       "      <th></th>\n",
       "      <th>0</th>\n",
       "      <th>1</th>\n",
       "      <th>2</th>\n",
       "      <th>3</th>\n",
       "      <th>4</th>\n",
       "      <th>5</th>\n",
       "      <th>6</th>\n",
       "      <th>7</th>\n",
       "      <th>8</th>\n",
       "      <th>9</th>\n",
       "      <th>...</th>\n",
       "      <th>53</th>\n",
       "      <th>54</th>\n",
       "      <th>55</th>\n",
       "      <th>56</th>\n",
       "      <th>57</th>\n",
       "      <th>58</th>\n",
       "      <th>59</th>\n",
       "      <th>60</th>\n",
       "      <th>61</th>\n",
       "      <th>62</th>\n",
       "    </tr>\n",
       "  </thead>\n",
       "  <tbody>\n",
       "    <tr>\n",
       "      <th>1</th>\n",
       "      <td>-5.527165</td>\n",
       "      <td>1.107049</td>\n",
       "      <td>3.728252</td>\n",
       "      <td>-0.779384</td>\n",
       "      <td>3.277028</td>\n",
       "      <td>1.783435</td>\n",
       "      <td>0.802713</td>\n",
       "      <td>-3.585138</td>\n",
       "      <td>-0.588206</td>\n",
       "      <td>0.893503</td>\n",
       "      <td>...</td>\n",
       "      <td>-2.488123</td>\n",
       "      <td>0.367445</td>\n",
       "      <td>1.591940</td>\n",
       "      <td>-2.587776</td>\n",
       "      <td>3.876706</td>\n",
       "      <td>-0.209763</td>\n",
       "      <td>-2.712362</td>\n",
       "      <td>-2.615837</td>\n",
       "      <td>0.093261</td>\n",
       "      <td>0.749497</td>\n",
       "    </tr>\n",
       "    <tr>\n",
       "      <th>2</th>\n",
       "      <td>0.086052</td>\n",
       "      <td>-5.185099</td>\n",
       "      <td>-3.159926</td>\n",
       "      <td>1.907011</td>\n",
       "      <td>2.337644</td>\n",
       "      <td>3.346304</td>\n",
       "      <td>-4.547161</td>\n",
       "      <td>-5.562404</td>\n",
       "      <td>1.126855</td>\n",
       "      <td>-0.951332</td>\n",
       "      <td>...</td>\n",
       "      <td>3.568784</td>\n",
       "      <td>1.638859</td>\n",
       "      <td>-4.431361</td>\n",
       "      <td>-0.269158</td>\n",
       "      <td>-3.284131</td>\n",
       "      <td>4.472133</td>\n",
       "      <td>-3.043407</td>\n",
       "      <td>-2.293003</td>\n",
       "      <td>-0.468338</td>\n",
       "      <td>-2.861767</td>\n",
       "    </tr>\n",
       "    <tr>\n",
       "      <th>3</th>\n",
       "      <td>3.198088</td>\n",
       "      <td>-0.022555</td>\n",
       "      <td>3.119093</td>\n",
       "      <td>2.733220</td>\n",
       "      <td>-5.201521</td>\n",
       "      <td>-3.966142</td>\n",
       "      <td>4.410959</td>\n",
       "      <td>3.379823</td>\n",
       "      <td>-4.208314</td>\n",
       "      <td>-0.494620</td>\n",
       "      <td>...</td>\n",
       "      <td>-5.070429</td>\n",
       "      <td>-1.836437</td>\n",
       "      <td>-0.736783</td>\n",
       "      <td>1.584915</td>\n",
       "      <td>-3.903060</td>\n",
       "      <td>4.529622</td>\n",
       "      <td>-0.803109</td>\n",
       "      <td>-2.519311</td>\n",
       "      <td>-2.067150</td>\n",
       "      <td>2.689688</td>\n",
       "    </tr>\n",
       "    <tr>\n",
       "      <th>4</th>\n",
       "      <td>1.479211</td>\n",
       "      <td>6.127709</td>\n",
       "      <td>1.873241</td>\n",
       "      <td>4.341489</td>\n",
       "      <td>8.104846</td>\n",
       "      <td>-1.767450</td>\n",
       "      <td>2.652944</td>\n",
       "      <td>-0.655774</td>\n",
       "      <td>4.233931</td>\n",
       "      <td>-2.434940</td>\n",
       "      <td>...</td>\n",
       "      <td>-2.934636</td>\n",
       "      <td>-1.236897</td>\n",
       "      <td>5.562105</td>\n",
       "      <td>5.849251</td>\n",
       "      <td>3.682885</td>\n",
       "      <td>-6.498721</td>\n",
       "      <td>7.893172</td>\n",
       "      <td>-0.880551</td>\n",
       "      <td>-1.899709</td>\n",
       "      <td>2.480936</td>\n",
       "    </tr>\n",
       "    <tr>\n",
       "      <th>5</th>\n",
       "      <td>4.922995</td>\n",
       "      <td>0.878049</td>\n",
       "      <td>-0.086572</td>\n",
       "      <td>2.974852</td>\n",
       "      <td>8.592891</td>\n",
       "      <td>-3.528032</td>\n",
       "      <td>0.468559</td>\n",
       "      <td>10.048326</td>\n",
       "      <td>1.722733</td>\n",
       "      <td>-7.576181</td>\n",
       "      <td>...</td>\n",
       "      <td>6.200497</td>\n",
       "      <td>11.788714</td>\n",
       "      <td>-2.107718</td>\n",
       "      <td>3.348436</td>\n",
       "      <td>-6.919980</td>\n",
       "      <td>3.806676</td>\n",
       "      <td>0.648935</td>\n",
       "      <td>2.617355</td>\n",
       "      <td>9.165661</td>\n",
       "      <td>12.059107</td>\n",
       "    </tr>\n",
       "  </tbody>\n",
       "</table>\n",
       "<p>5 rows × 63 columns</p>\n",
       "</div>"
      ],
      "text/plain": [
       "         0         1         2         3         4         5         6   \\\n",
       "1 -5.527165  1.107049  3.728252 -0.779384  3.277028  1.783435  0.802713   \n",
       "2  0.086052 -5.185099 -3.159926  1.907011  2.337644  3.346304 -4.547161   \n",
       "3  3.198088 -0.022555  3.119093  2.733220 -5.201521 -3.966142  4.410959   \n",
       "4  1.479211  6.127709  1.873241  4.341489  8.104846 -1.767450  2.652944   \n",
       "5  4.922995  0.878049 -0.086572  2.974852  8.592891 -3.528032  0.468559   \n",
       "\n",
       "          7         8         9   ...        53         54        55  \\\n",
       "1  -3.585138 -0.588206  0.893503  ... -2.488123   0.367445  1.591940   \n",
       "2  -5.562404  1.126855 -0.951332  ...  3.568784   1.638859 -4.431361   \n",
       "3   3.379823 -4.208314 -0.494620  ... -5.070429  -1.836437 -0.736783   \n",
       "4  -0.655774  4.233931 -2.434940  ... -2.934636  -1.236897  5.562105   \n",
       "5  10.048326  1.722733 -7.576181  ...  6.200497  11.788714 -2.107718   \n",
       "\n",
       "         56        57        58        59        60        61         62  \n",
       "1 -2.587776  3.876706 -0.209763 -2.712362 -2.615837  0.093261   0.749497  \n",
       "2 -0.269158 -3.284131  4.472133 -3.043407 -2.293003 -0.468338  -2.861767  \n",
       "3  1.584915 -3.903060  4.529622 -0.803109 -2.519311 -2.067150   2.689688  \n",
       "4  5.849251  3.682885 -6.498721  7.893172 -0.880551 -1.899709   2.480936  \n",
       "5  3.348436 -6.919980  3.806676  0.648935  2.617355  9.165661  12.059107  \n",
       "\n",
       "[5 rows x 63 columns]"
      ]
     },
     "execution_count": 48,
     "metadata": {},
     "output_type": "execute_result"
    }
   ],
   "source": [
    "delta_s_train.head()"
   ]
  },
  {
   "cell_type": "code",
   "execution_count": 49,
   "metadata": {},
   "outputs": [],
   "source": [
    "# Divisão dos dados em treino e teste\n",
    "delta_c_train, delta_c_test = delta_c[:data_cutoff], delta_c[data_cutoff:]"
   ]
  },
  {
   "cell_type": "code",
   "execution_count": 50,
   "metadata": {},
   "outputs": [
    {
     "data": {
      "text/html": [
       "<div>\n",
       "<style scoped>\n",
       "    .dataframe tbody tr th:only-of-type {\n",
       "        vertical-align: middle;\n",
       "    }\n",
       "\n",
       "    .dataframe tbody tr th {\n",
       "        vertical-align: top;\n",
       "    }\n",
       "\n",
       "    .dataframe thead th {\n",
       "        text-align: right;\n",
       "    }\n",
       "</style>\n",
       "<table border=\"1\" class=\"dataframe\">\n",
       "  <thead>\n",
       "    <tr style=\"text-align: right;\">\n",
       "      <th></th>\n",
       "      <th>0</th>\n",
       "      <th>1</th>\n",
       "      <th>2</th>\n",
       "      <th>3</th>\n",
       "      <th>4</th>\n",
       "      <th>5</th>\n",
       "      <th>6</th>\n",
       "      <th>7</th>\n",
       "      <th>8</th>\n",
       "      <th>9</th>\n",
       "      <th>...</th>\n",
       "      <th>53</th>\n",
       "      <th>54</th>\n",
       "      <th>55</th>\n",
       "      <th>56</th>\n",
       "      <th>57</th>\n",
       "      <th>58</th>\n",
       "      <th>59</th>\n",
       "      <th>60</th>\n",
       "      <th>61</th>\n",
       "      <th>62</th>\n",
       "    </tr>\n",
       "  </thead>\n",
       "  <tbody>\n",
       "    <tr>\n",
       "      <th>1</th>\n",
       "      <td>-3.630905</td>\n",
       "      <td>0.599489</td>\n",
       "      <td>2.33742</td>\n",
       "      <td>-0.598324</td>\n",
       "      <td>2.178402</td>\n",
       "      <td>1.215169</td>\n",
       "      <td>0.520825</td>\n",
       "      <td>-2.671085</td>\n",
       "      <td>-0.488407</td>\n",
       "      <td>0.545597</td>\n",
       "      <td>...</td>\n",
       "      <td>-0.940925</td>\n",
       "      <td>-0.072758</td>\n",
       "      <td>0.257091</td>\n",
       "      <td>-0.813684</td>\n",
       "      <td>0.768186</td>\n",
       "      <td>-0.329462</td>\n",
       "      <td>-0.812288</td>\n",
       "      <td>-0.30215</td>\n",
       "      <td>-0.032642</td>\n",
       "      <td>-0.002106</td>\n",
       "    </tr>\n",
       "    <tr>\n",
       "      <th>2</th>\n",
       "      <td>-0.014818</td>\n",
       "      <td>-3.433566</td>\n",
       "      <td>-1.918779</td>\n",
       "      <td>1.014256</td>\n",
       "      <td>1.340982</td>\n",
       "      <td>2.102687</td>\n",
       "      <td>-3.00242</td>\n",
       "      <td>-3.192582</td>\n",
       "      <td>0.505681</td>\n",
       "      <td>-0.576722</td>\n",
       "      <td>...</td>\n",
       "      <td>0.000366</td>\n",
       "      <td>0.000054</td>\n",
       "      <td>-0.000548</td>\n",
       "      <td>-0.000006</td>\n",
       "      <td>-0.000001</td>\n",
       "      <td>0.0</td>\n",
       "      <td>-0.0</td>\n",
       "      <td>-0.0</td>\n",
       "      <td>-0.0</td>\n",
       "      <td>-0.0</td>\n",
       "    </tr>\n",
       "    <tr>\n",
       "      <th>3</th>\n",
       "      <td>2.18126</td>\n",
       "      <td>-0.088189</td>\n",
       "      <td>2.256008</td>\n",
       "      <td>2.065717</td>\n",
       "      <td>-4.063513</td>\n",
       "      <td>-2.900748</td>\n",
       "      <td>3.08351</td>\n",
       "      <td>2.518508</td>\n",
       "      <td>-3.282853</td>\n",
       "      <td>-0.44013</td>\n",
       "      <td>...</td>\n",
       "      <td>-4.849526</td>\n",
       "      <td>-1.775122</td>\n",
       "      <td>-0.778742</td>\n",
       "      <td>1.365701</td>\n",
       "      <td>-3.709498</td>\n",
       "      <td>4.175281</td>\n",
       "      <td>-0.832655</td>\n",
       "      <td>-2.525361</td>\n",
       "      <td>-2.086576</td>\n",
       "      <td>2.682184</td>\n",
       "    </tr>\n",
       "    <tr>\n",
       "      <th>4</th>\n",
       "      <td>0.952521</td>\n",
       "      <td>4.477409</td>\n",
       "      <td>1.411377</td>\n",
       "      <td>3.499961</td>\n",
       "      <td>7.013626</td>\n",
       "      <td>-1.629661</td>\n",
       "      <td>2.338355</td>\n",
       "      <td>-0.639844</td>\n",
       "      <td>3.841768</td>\n",
       "      <td>-2.289435</td>\n",
       "      <td>...</td>\n",
       "      <td>-2.934648</td>\n",
       "      <td>-1.236963</td>\n",
       "      <td>5.562041</td>\n",
       "      <td>5.849249</td>\n",
       "      <td>3.682885</td>\n",
       "      <td>-6.498721</td>\n",
       "      <td>7.893172</td>\n",
       "      <td>-0.880551</td>\n",
       "      <td>-1.899709</td>\n",
       "      <td>2.480936</td>\n",
       "    </tr>\n",
       "    <tr>\n",
       "      <th>5</th>\n",
       "      <td>3.451511</td>\n",
       "      <td>0.59114</td>\n",
       "      <td>-0.135295</td>\n",
       "      <td>2.238937</td>\n",
       "      <td>7.098178</td>\n",
       "      <td>-3.07897</td>\n",
       "      <td>0.337046</td>\n",
       "      <td>8.846382</td>\n",
       "      <td>1.546626</td>\n",
       "      <td>-6.920665</td>\n",
       "      <td>...</td>\n",
       "      <td>6.200497</td>\n",
       "      <td>11.788714</td>\n",
       "      <td>-2.107718</td>\n",
       "      <td>3.348436</td>\n",
       "      <td>-6.91998</td>\n",
       "      <td>3.806676</td>\n",
       "      <td>0.648935</td>\n",
       "      <td>2.617355</td>\n",
       "      <td>9.165661</td>\n",
       "      <td>12.059107</td>\n",
       "    </tr>\n",
       "  </tbody>\n",
       "</table>\n",
       "<p>5 rows × 63 columns</p>\n",
       "</div>"
      ],
      "text/plain": [
       "         0         1         2         3         4         5         6   \\\n",
       "1 -3.630905  0.599489   2.33742 -0.598324  2.178402  1.215169  0.520825   \n",
       "2 -0.014818 -3.433566 -1.918779  1.014256  1.340982  2.102687  -3.00242   \n",
       "3   2.18126 -0.088189  2.256008  2.065717 -4.063513 -2.900748   3.08351   \n",
       "4  0.952521  4.477409  1.411377  3.499961  7.013626 -1.629661  2.338355   \n",
       "5  3.451511   0.59114 -0.135295  2.238937  7.098178  -3.07897  0.337046   \n",
       "\n",
       "         7         8         9   ...        53         54        55        56  \\\n",
       "1 -2.671085 -0.488407  0.545597  ... -0.940925  -0.072758  0.257091 -0.813684   \n",
       "2 -3.192582  0.505681 -0.576722  ...  0.000366   0.000054 -0.000548 -0.000006   \n",
       "3  2.518508 -3.282853  -0.44013  ... -4.849526  -1.775122 -0.778742  1.365701   \n",
       "4 -0.639844  3.841768 -2.289435  ... -2.934648  -1.236963  5.562041  5.849249   \n",
       "5  8.846382  1.546626 -6.920665  ...  6.200497  11.788714 -2.107718  3.348436   \n",
       "\n",
       "         57        58        59        60        61         62  \n",
       "1  0.768186 -0.329462 -0.812288  -0.30215 -0.032642  -0.002106  \n",
       "2 -0.000001       0.0      -0.0      -0.0      -0.0       -0.0  \n",
       "3 -3.709498  4.175281 -0.832655 -2.525361 -2.086576   2.682184  \n",
       "4  3.682885 -6.498721  7.893172 -0.880551 -1.899709   2.480936  \n",
       "5  -6.91998  3.806676  0.648935  2.617355  9.165661  12.059107  \n",
       "\n",
       "[5 rows x 63 columns]"
      ]
     },
     "execution_count": 50,
     "metadata": {},
     "output_type": "execute_result"
    }
   ],
   "source": [
    "delta_c_train.head()"
   ]
  },
  {
   "cell_type": "markdown",
   "metadata": {},
   "source": [
    "A normalização ajuda a tornar os dados mais adequados para modelagem, removendo a média de cada passo de tempo. Isso coloca os dados em uma escala centrada em zero, o que pode ser importante para alguns algoritmos de aprendizado de máquina ou análise estatística.\n",
    "\n",
    "Aqui, delta_s_final_train e delta_c_final_train são os dados de treino normalizados, enquanto delta_s_final_test e delta_c_final_test são os dados de teste normalizados. A função .mean(axis = 0) calcula a média para cada passo de tempo (coluna)."
   ]
  },
  {
   "cell_type": "code",
   "execution_count": 51,
   "metadata": {},
   "outputs": [],
   "source": [
    "# Normalização dos dados (remoção da média)\n",
    "delta_s_final_train = delta_s_train - delta_s_train.mean(axis = 0)\n",
    "delta_s_final_test = delta_s_test - delta_s_test.mean(axis = 0)\n",
    "delta_c_final_train = delta_c_train - delta_c_train.mean(axis = 0)\n",
    "delta_c_final_test = delta_c_test - delta_c_test.mean(axis = 0)"
   ]
  },
  {
   "cell_type": "code",
   "execution_count": 52,
   "metadata": {},
   "outputs": [
    {
     "data": {
      "text/plain": [
       "(11468, 63)"
      ]
     },
     "execution_count": 52,
     "metadata": {},
     "output_type": "execute_result"
    }
   ],
   "source": [
    "# Shape\n",
    "delta_c_final_train.shape"
   ]
  },
  {
   "cell_type": "code",
   "execution_count": 53,
   "metadata": {},
   "outputs": [
    {
     "data": {
      "text/html": [
       "<div>\n",
       "<style scoped>\n",
       "    .dataframe tbody tr th:only-of-type {\n",
       "        vertical-align: middle;\n",
       "    }\n",
       "\n",
       "    .dataframe tbody tr th {\n",
       "        vertical-align: top;\n",
       "    }\n",
       "\n",
       "    .dataframe thead th {\n",
       "        text-align: right;\n",
       "    }\n",
       "</style>\n",
       "<table border=\"1\" class=\"dataframe\">\n",
       "  <thead>\n",
       "    <tr style=\"text-align: right;\">\n",
       "      <th></th>\n",
       "      <th>0</th>\n",
       "      <th>1</th>\n",
       "      <th>2</th>\n",
       "      <th>3</th>\n",
       "      <th>4</th>\n",
       "      <th>5</th>\n",
       "      <th>6</th>\n",
       "      <th>7</th>\n",
       "      <th>8</th>\n",
       "      <th>9</th>\n",
       "      <th>...</th>\n",
       "      <th>53</th>\n",
       "      <th>54</th>\n",
       "      <th>55</th>\n",
       "      <th>56</th>\n",
       "      <th>57</th>\n",
       "      <th>58</th>\n",
       "      <th>59</th>\n",
       "      <th>60</th>\n",
       "      <th>61</th>\n",
       "      <th>62</th>\n",
       "    </tr>\n",
       "  </thead>\n",
       "  <tbody>\n",
       "    <tr>\n",
       "      <th>1</th>\n",
       "      <td>-3.7398</td>\n",
       "      <td>0.519053</td>\n",
       "      <td>2.297728</td>\n",
       "      <td>-0.67976</td>\n",
       "      <td>2.135133</td>\n",
       "      <td>1.160797</td>\n",
       "      <td>0.438969</td>\n",
       "      <td>-2.724129</td>\n",
       "      <td>-0.577843</td>\n",
       "      <td>0.486186</td>\n",
       "      <td>...</td>\n",
       "      <td>-1.046932</td>\n",
       "      <td>-0.129949</td>\n",
       "      <td>0.190615</td>\n",
       "      <td>-0.906174</td>\n",
       "      <td>0.696319</td>\n",
       "      <td>-0.424638</td>\n",
       "      <td>-0.919073</td>\n",
       "      <td>-0.406111</td>\n",
       "      <td>-0.108861</td>\n",
       "      <td>-0.124213</td>\n",
       "    </tr>\n",
       "    <tr>\n",
       "      <th>2</th>\n",
       "      <td>-0.123713</td>\n",
       "      <td>-3.514002</td>\n",
       "      <td>-1.95847</td>\n",
       "      <td>0.93282</td>\n",
       "      <td>1.297713</td>\n",
       "      <td>2.048314</td>\n",
       "      <td>-3.084276</td>\n",
       "      <td>-3.245627</td>\n",
       "      <td>0.416245</td>\n",
       "      <td>-0.636134</td>\n",
       "      <td>...</td>\n",
       "      <td>-0.105642</td>\n",
       "      <td>-0.057136</td>\n",
       "      <td>-0.067025</td>\n",
       "      <td>-0.092497</td>\n",
       "      <td>-0.071868</td>\n",
       "      <td>-0.095176</td>\n",
       "      <td>-0.106784</td>\n",
       "      <td>-0.103961</td>\n",
       "      <td>-0.076219</td>\n",
       "      <td>-0.122107</td>\n",
       "    </tr>\n",
       "    <tr>\n",
       "      <th>3</th>\n",
       "      <td>2.072365</td>\n",
       "      <td>-0.168625</td>\n",
       "      <td>2.216317</td>\n",
       "      <td>1.984281</td>\n",
       "      <td>-4.106782</td>\n",
       "      <td>-2.955121</td>\n",
       "      <td>3.001653</td>\n",
       "      <td>2.465463</td>\n",
       "      <td>-3.372289</td>\n",
       "      <td>-0.499541</td>\n",
       "      <td>...</td>\n",
       "      <td>-4.955533</td>\n",
       "      <td>-1.832313</td>\n",
       "      <td>-0.845219</td>\n",
       "      <td>1.27321</td>\n",
       "      <td>-3.781365</td>\n",
       "      <td>4.080105</td>\n",
       "      <td>-0.939439</td>\n",
       "      <td>-2.629323</td>\n",
       "      <td>-2.162795</td>\n",
       "      <td>2.560077</td>\n",
       "    </tr>\n",
       "    <tr>\n",
       "      <th>4</th>\n",
       "      <td>0.843626</td>\n",
       "      <td>4.396973</td>\n",
       "      <td>1.371685</td>\n",
       "      <td>3.418525</td>\n",
       "      <td>6.970357</td>\n",
       "      <td>-1.684034</td>\n",
       "      <td>2.256498</td>\n",
       "      <td>-0.692888</td>\n",
       "      <td>3.752332</td>\n",
       "      <td>-2.348846</td>\n",
       "      <td>...</td>\n",
       "      <td>-3.040655</td>\n",
       "      <td>-1.294154</td>\n",
       "      <td>5.495564</td>\n",
       "      <td>5.756758</td>\n",
       "      <td>3.611017</td>\n",
       "      <td>-6.593898</td>\n",
       "      <td>7.786388</td>\n",
       "      <td>-0.984512</td>\n",
       "      <td>-1.975929</td>\n",
       "      <td>2.35883</td>\n",
       "    </tr>\n",
       "    <tr>\n",
       "      <th>5</th>\n",
       "      <td>3.342616</td>\n",
       "      <td>0.510704</td>\n",
       "      <td>-0.174987</td>\n",
       "      <td>2.157501</td>\n",
       "      <td>7.054909</td>\n",
       "      <td>-3.133343</td>\n",
       "      <td>0.25519</td>\n",
       "      <td>8.793337</td>\n",
       "      <td>1.45719</td>\n",
       "      <td>-6.980077</td>\n",
       "      <td>...</td>\n",
       "      <td>6.094489</td>\n",
       "      <td>11.731524</td>\n",
       "      <td>-2.174194</td>\n",
       "      <td>3.255946</td>\n",
       "      <td>-6.991848</td>\n",
       "      <td>3.7115</td>\n",
       "      <td>0.542151</td>\n",
       "      <td>2.513393</td>\n",
       "      <td>9.089441</td>\n",
       "      <td>11.937</td>\n",
       "    </tr>\n",
       "  </tbody>\n",
       "</table>\n",
       "<p>5 rows × 63 columns</p>\n",
       "</div>"
      ],
      "text/plain": [
       "         0         1         2         3         4         5         6   \\\n",
       "1   -3.7398  0.519053  2.297728  -0.67976  2.135133  1.160797  0.438969   \n",
       "2 -0.123713 -3.514002  -1.95847   0.93282  1.297713  2.048314 -3.084276   \n",
       "3  2.072365 -0.168625  2.216317  1.984281 -4.106782 -2.955121  3.001653   \n",
       "4  0.843626  4.396973  1.371685  3.418525  6.970357 -1.684034  2.256498   \n",
       "5  3.342616  0.510704 -0.174987  2.157501  7.054909 -3.133343   0.25519   \n",
       "\n",
       "         7         8         9   ...        53         54        55        56  \\\n",
       "1 -2.724129 -0.577843  0.486186  ... -1.046932  -0.129949  0.190615 -0.906174   \n",
       "2 -3.245627  0.416245 -0.636134  ... -0.105642  -0.057136 -0.067025 -0.092497   \n",
       "3  2.465463 -3.372289 -0.499541  ... -4.955533  -1.832313 -0.845219   1.27321   \n",
       "4 -0.692888  3.752332 -2.348846  ... -3.040655  -1.294154  5.495564  5.756758   \n",
       "5  8.793337   1.45719 -6.980077  ...  6.094489  11.731524 -2.174194  3.255946   \n",
       "\n",
       "         57        58        59        60        61        62  \n",
       "1  0.696319 -0.424638 -0.919073 -0.406111 -0.108861 -0.124213  \n",
       "2 -0.071868 -0.095176 -0.106784 -0.103961 -0.076219 -0.122107  \n",
       "3 -3.781365  4.080105 -0.939439 -2.629323 -2.162795  2.560077  \n",
       "4  3.611017 -6.593898  7.786388 -0.984512 -1.975929   2.35883  \n",
       "5 -6.991848    3.7115  0.542151  2.513393  9.089441    11.937  \n",
       "\n",
       "[5 rows x 63 columns]"
      ]
     },
     "execution_count": 53,
     "metadata": {},
     "output_type": "execute_result"
    }
   ],
   "source": [
    "delta_c_final_train.head()"
   ]
  },
  {
   "cell_type": "code",
   "execution_count": 54,
   "metadata": {
    "colab": {
     "base_uri": "https://localhost:8080/"
    },
    "id": "FfoPtj-tKXsE",
    "outputId": "2eecc095-77ec-4c29-8bf6-89eb08927fa4"
   },
   "outputs": [
    {
     "data": {
      "text/plain": [
       "(4915, 63)"
      ]
     },
     "execution_count": 54,
     "metadata": {},
     "output_type": "execute_result"
    }
   ],
   "source": [
    "# Shape\n",
    "delta_c_final_test.shape"
   ]
  },
  {
   "cell_type": "code",
   "execution_count": 55,
   "metadata": {},
   "outputs": [
    {
     "data": {
      "text/html": [
       "<div>\n",
       "<style scoped>\n",
       "    .dataframe tbody tr th:only-of-type {\n",
       "        vertical-align: middle;\n",
       "    }\n",
       "\n",
       "    .dataframe tbody tr th {\n",
       "        vertical-align: top;\n",
       "    }\n",
       "\n",
       "    .dataframe thead th {\n",
       "        text-align: right;\n",
       "    }\n",
       "</style>\n",
       "<table border=\"1\" class=\"dataframe\">\n",
       "  <thead>\n",
       "    <tr style=\"text-align: right;\">\n",
       "      <th></th>\n",
       "      <th>0</th>\n",
       "      <th>1</th>\n",
       "      <th>2</th>\n",
       "      <th>3</th>\n",
       "      <th>4</th>\n",
       "      <th>5</th>\n",
       "      <th>6</th>\n",
       "      <th>7</th>\n",
       "      <th>8</th>\n",
       "      <th>9</th>\n",
       "      <th>...</th>\n",
       "      <th>53</th>\n",
       "      <th>54</th>\n",
       "      <th>55</th>\n",
       "      <th>56</th>\n",
       "      <th>57</th>\n",
       "      <th>58</th>\n",
       "      <th>59</th>\n",
       "      <th>60</th>\n",
       "      <th>61</th>\n",
       "      <th>62</th>\n",
       "    </tr>\n",
       "  </thead>\n",
       "  <tbody>\n",
       "    <tr>\n",
       "      <th>11469</th>\n",
       "      <td>-3.117381</td>\n",
       "      <td>0.675456</td>\n",
       "      <td>4.051305</td>\n",
       "      <td>1.481371</td>\n",
       "      <td>2.030352</td>\n",
       "      <td>2.044811</td>\n",
       "      <td>-1.207683</td>\n",
       "      <td>2.220301</td>\n",
       "      <td>-6.37048</td>\n",
       "      <td>1.455374</td>\n",
       "      <td>...</td>\n",
       "      <td>0.239497</td>\n",
       "      <td>-0.848569</td>\n",
       "      <td>0.614292</td>\n",
       "      <td>1.364839</td>\n",
       "      <td>0.447626</td>\n",
       "      <td>-2.363216</td>\n",
       "      <td>-0.248236</td>\n",
       "      <td>-0.77135</td>\n",
       "      <td>-0.005117</td>\n",
       "      <td>-0.071782</td>\n",
       "    </tr>\n",
       "    <tr>\n",
       "      <th>11470</th>\n",
       "      <td>0.582757</td>\n",
       "      <td>-0.647597</td>\n",
       "      <td>0.279307</td>\n",
       "      <td>1.54856</td>\n",
       "      <td>-1.406485</td>\n",
       "      <td>-0.128564</td>\n",
       "      <td>-2.437978</td>\n",
       "      <td>-2.923216</td>\n",
       "      <td>4.152993</td>\n",
       "      <td>0.701863</td>\n",
       "      <td>...</td>\n",
       "      <td>-3.260584</td>\n",
       "      <td>-0.875863</td>\n",
       "      <td>1.711134</td>\n",
       "      <td>1.340869</td>\n",
       "      <td>8.355315</td>\n",
       "      <td>4.51574</td>\n",
       "      <td>-3.799356</td>\n",
       "      <td>-1.330992</td>\n",
       "      <td>6.444881</td>\n",
       "      <td>-2.932077</td>\n",
       "    </tr>\n",
       "    <tr>\n",
       "      <th>11471</th>\n",
       "      <td>0.19404</td>\n",
       "      <td>-0.917669</td>\n",
       "      <td>0.434774</td>\n",
       "      <td>-3.044019</td>\n",
       "      <td>1.189664</td>\n",
       "      <td>-0.455416</td>\n",
       "      <td>-1.19438</td>\n",
       "      <td>-3.441821</td>\n",
       "      <td>-2.249759</td>\n",
       "      <td>1.209211</td>\n",
       "      <td>...</td>\n",
       "      <td>0.035602</td>\n",
       "      <td>-0.208954</td>\n",
       "      <td>-0.130004</td>\n",
       "      <td>-0.068043</td>\n",
       "      <td>-0.057062</td>\n",
       "      <td>-0.062833</td>\n",
       "      <td>-0.027948</td>\n",
       "      <td>-0.12683</td>\n",
       "      <td>0.052562</td>\n",
       "      <td>-0.066781</td>\n",
       "    </tr>\n",
       "    <tr>\n",
       "      <th>11472</th>\n",
       "      <td>-2.23575</td>\n",
       "      <td>-2.251847</td>\n",
       "      <td>5.155594</td>\n",
       "      <td>0.006852</td>\n",
       "      <td>1.405772</td>\n",
       "      <td>-0.526127</td>\n",
       "      <td>1.94296</td>\n",
       "      <td>-2.307649</td>\n",
       "      <td>3.5406</td>\n",
       "      <td>0.231882</td>\n",
       "      <td>...</td>\n",
       "      <td>-1.96289</td>\n",
       "      <td>7.758537</td>\n",
       "      <td>-9.623566</td>\n",
       "      <td>2.760556</td>\n",
       "      <td>5.018841</td>\n",
       "      <td>-0.406569</td>\n",
       "      <td>10.808792</td>\n",
       "      <td>-1.067535</td>\n",
       "      <td>-1.557568</td>\n",
       "      <td>-0.738083</td>\n",
       "    </tr>\n",
       "    <tr>\n",
       "      <th>11473</th>\n",
       "      <td>-1.093182</td>\n",
       "      <td>-3.48111</td>\n",
       "      <td>-0.179379</td>\n",
       "      <td>-0.043662</td>\n",
       "      <td>1.669782</td>\n",
       "      <td>-2.913467</td>\n",
       "      <td>-2.314805</td>\n",
       "      <td>-1.228886</td>\n",
       "      <td>-0.315689</td>\n",
       "      <td>0.218107</td>\n",
       "      <td>...</td>\n",
       "      <td>-0.529328</td>\n",
       "      <td>-0.617528</td>\n",
       "      <td>4.15777</td>\n",
       "      <td>-0.01613</td>\n",
       "      <td>6.702757</td>\n",
       "      <td>-7.528591</td>\n",
       "      <td>1.116129</td>\n",
       "      <td>-0.703365</td>\n",
       "      <td>-4.632181</td>\n",
       "      <td>-3.705803</td>\n",
       "    </tr>\n",
       "  </tbody>\n",
       "</table>\n",
       "<p>5 rows × 63 columns</p>\n",
       "</div>"
      ],
      "text/plain": [
       "             0         1         2         3         4         5         6   \\\n",
       "11469 -3.117381  0.675456  4.051305  1.481371  2.030352  2.044811 -1.207683   \n",
       "11470  0.582757 -0.647597  0.279307   1.54856 -1.406485 -0.128564 -2.437978   \n",
       "11471   0.19404 -0.917669  0.434774 -3.044019  1.189664 -0.455416  -1.19438   \n",
       "11472  -2.23575 -2.251847  5.155594  0.006852  1.405772 -0.526127   1.94296   \n",
       "11473 -1.093182  -3.48111 -0.179379 -0.043662  1.669782 -2.913467 -2.314805   \n",
       "\n",
       "             7         8         9   ...        53        54        55  \\\n",
       "11469  2.220301  -6.37048  1.455374  ...  0.239497 -0.848569  0.614292   \n",
       "11470 -2.923216  4.152993  0.701863  ... -3.260584 -0.875863  1.711134   \n",
       "11471 -3.441821 -2.249759  1.209211  ...  0.035602 -0.208954 -0.130004   \n",
       "11472 -2.307649    3.5406  0.231882  ...  -1.96289  7.758537 -9.623566   \n",
       "11473 -1.228886 -0.315689  0.218107  ... -0.529328 -0.617528   4.15777   \n",
       "\n",
       "             56        57        58         59        60        61        62  \n",
       "11469  1.364839  0.447626 -2.363216  -0.248236  -0.77135 -0.005117 -0.071782  \n",
       "11470  1.340869  8.355315   4.51574  -3.799356 -1.330992  6.444881 -2.932077  \n",
       "11471 -0.068043 -0.057062 -0.062833  -0.027948  -0.12683  0.052562 -0.066781  \n",
       "11472  2.760556  5.018841 -0.406569  10.808792 -1.067535 -1.557568 -0.738083  \n",
       "11473  -0.01613  6.702757 -7.528591   1.116129 -0.703365 -4.632181 -3.705803  \n",
       "\n",
       "[5 rows x 63 columns]"
      ]
     },
     "execution_count": 55,
     "metadata": {},
     "output_type": "execute_result"
    }
   ],
   "source": [
    "delta_c_final_test.head()"
   ]
  },
  {
   "cell_type": "markdown",
   "metadata": {},
   "source": [
    "## Fase 2 - Modelagem com Reinforcement Learning"
   ]
  },
  {
   "cell_type": "markdown",
   "metadata": {},
   "source": [
    "## Modelando Uma Opção Financeira\n",
    "\n",
    "A classe abaixo será usada para modelar uma opção financeira, que é um tipo de derivativo. Uma opção dá ao seu titular o direito, mas não a obrigação, de comprar ou vender um ativo subjacente (como uma ação) a um preço predeterminado (conhecido como preço de exercício ou \"strike\") em uma data futura específica (data de vencimento ou \"expiry\").\n",
    "<!-- Projeto Desenvolvido na Data Science Academy - www.datascienceacademy.com.br -->\n",
    "Esta classe representa os principais parâmetros de uma opção, como o preço inicial da ação, a volatilidade, a taxa de juros livre de risco e o tempo até o vencimento. Ela também contém um método chamado compute_value, que calcula o valor teórico da opção utilizando o modelo de Black-Scholes, uma fórmula amplamente usada para precificar opções.\n",
    "\n",
    "Essa classe permite criar objetos que representam opções financeiras, armazenando seus parâmetros e fornecendo uma maneira de calcular o valor da opção com base em diferentes preços da ação ao longo do tempo."
   ]
  },
  {
   "cell_type": "code",
   "execution_count": 56,
   "metadata": {},
   "outputs": [],
   "source": [
    "# Classe Python\n",
    "class Option:\n",
    "    \n",
    "    # Método de inicialização (construtor) da classe Option\n",
    "    def __init__(self, \n",
    "                 s0 = 100,              # Preço inicial da ação\n",
    "                 mu = 0.05,             # Taxa de retorno esperada da ação\n",
    "                 sigma = 0.15,          # Volatilidade da ação\n",
    "                 r = 0.03,              # Taxa de juros livre de risco\n",
    "                 expiry = 3,            # Prazo até a expiração da opção (em anos)\n",
    "                 num_of_timestep = 63,  # Número de intervalos de tempo a serem considerados\n",
    "                 exercise_type = 'c'):  # Tipo de opção: 'c' para call (compra) e 'p' para put (venda)\n",
    "        \n",
    "        # Atribui o preço inicial da ação à variável de instância s0\n",
    "        self.s0 = s0  \n",
    "        \n",
    "        # Atribui a taxa de retorno esperada à variável de instância mu\n",
    "        self.mu = mu  \n",
    "        \n",
    "        # Atribui a volatilidade à variável de instância sigma\n",
    "        self.sigma = sigma  \n",
    "        \n",
    "        # Atribui a taxa de juros livre de risco à variável de instância r\n",
    "        self.r = r  \n",
    "        \n",
    "        # Atribui o tempo até o vencimento à variável de instância expiry\n",
    "        self.expiry = expiry  \n",
    "        \n",
    "        # Atribui o número de passos de tempo à variável de instância num_of_timestep\n",
    "        self.num_of_timestep = num_of_timestep  \n",
    "        \n",
    "        # Calcula e atribui o tamanho de cada intervalo de tempo (delta_t)\n",
    "        self.delta_t = expiry / num_of_timestep  \n",
    "        \n",
    "        # Atribui o preço de exercício (strike) da opção como igual ao preço inicial da ação\n",
    "        self.strike = s0  \n",
    "        \n",
    "        # Atribui o tipo de exercício da opção ('c' para call, 'p' para put)\n",
    "        self.exercise_type = exercise_type  \n",
    "\n",
    "    # Método para calcular o valor da opção com base no preço da ação\n",
    "    def compute_value(self, stock_price):\n",
    "        \n",
    "        # Usa a função black_scholes para calcular o valor da opção e retorna o resultado\n",
    "        return black_scholes(stock_price, self.strike, self.expiry, self.r, self.sigma, self.exercise_type)"
   ]
  },
  {
   "cell_type": "markdown",
   "metadata": {},
   "source": [
    "## Modelando o Problema de Hedge (Proteção) em Opções\n",
    "\n",
    "A classe abaixo serve para modelar um problema de hedge (proteção) em opções, simulando diferentes cenários de preços de ações e controlando a variação do valor de uma carteira de opções ao longo do tempo. O objetivo é gerenciar o risco associado às flutuações no preço das ações, ajustando a exposição do portfólio de acordo com o preço e a volatilidade das ações.\n",
    "\n",
    "Essa classe permite:\n",
    "\n",
    "**Inicializar os parâmetros do problema**: Ela recebe variações de preços de ações (ds), variações no valor da carteira (dc), um parâmetro delta para o ajuste da exposição (greekd) os preços das ações ao longo do tempo, e outras variáveis para controlar o ajuste fino dos cálculos.\n",
    "\n",
    "**Simular o comportamento da ação e da opção**: O método T simula o preço da ação no próximo intervalo de tempo e ajusta o vencimento (maturidade) da opção, até o ponto em que a opção expira.\n",
    "<!-- Projeto Desenvolvido na Data Science Academy - www.datascienceacademy.com.br -->\n",
    "**Calcular o retorno (reward)**: O método R calcula o retorno para uma dada simulação, levando em conta a variação dos preços das ações e o impacto da ação tomada (por exemplo, ajustar a posição no mercado). Ele também considera o risco envolvido, penalizando decisões arriscadas com base em uma medida de aversão ao risco.\n",
    "\n",
    "Essa classe será usada no modelo de proteção (hedging) de uma carteira de opções, para testar e simular estratégias que minimizam o risco das flutuações dos preços das ações. Ela permite ajustar a exposição da carteira para evitar perdas potenciais em mercados voláteis, considerando o comportamento futuro dos preços das ações."
   ]
  },
  {
   "cell_type": "code",
   "execution_count": 57,
   "metadata": {},
   "outputs": [],
   "source": [
    "# Classe Python\n",
    "class Hedging:\n",
    "    \n",
    "    # Construtor\n",
    "    def __init__(self, ds, dc, greekd, stock_prices, num_of_timestep, dstilde, dctilde, option = None):\n",
    "        \n",
    "        # Inicializa a opção, caso não seja fornecida, cria uma nova instância de Option\n",
    "        self.option = option or Option()\n",
    "        \n",
    "        # Define o espaço de ações como uma matriz de valores de -1.1 a 0.1, com incrementos de 0.1\n",
    "        self.A = np.arange(-1.1, 0.1, 0.1)   \n",
    "        \n",
    "        # Inicializa as variações de preço das ações (ds)\n",
    "        self.ds = ds\n",
    "        \n",
    "        # Inicializa as variações no valor da carteira de opções (dc)\n",
    "        self.dc = dc\n",
    "        \n",
    "        # Inicializa as variações ajustadas de preço das ações (dstilde)\n",
    "        self.dstilde = dstilde\n",
    "        \n",
    "        # Inicializa as variações ajustadas no valor da carteira (dctilde)\n",
    "        self.dctilde = dctilde\n",
    "        \n",
    "        # Inicializa o parâmetro grego delta (greekd)\n",
    "        self.greekd = greekd\n",
    "        \n",
    "        # Inicializa os preços das ações para cada simulação\n",
    "        self.stock_prices = stock_prices\n",
    "        \n",
    "        # Define o número de simulações com base no tamanho do conjunto de dados ds\n",
    "        self.num_simulations = len(self.ds)\n",
    "        \n",
    "        # Define o número de passos de tempo\n",
    "        self.num_of_timestep = num_of_timestep\n",
    "\n",
    "    # Método T\n",
    "    def T(self, simulation, current_date, maturity):\n",
    "        \n",
    "        # Se a data atual for maior ou igual ao número de passos de tempo, a opção expira e a simulação termina\n",
    "        if current_date >= self.num_of_timestep:\n",
    "            return (None, None)  # A opção expira, simulação termina\n",
    "        \n",
    "        # Obtém o próximo preço da ação para esta simulação e data atual\n",
    "        next_stock_price = self.stock_prices.iloc[simulation, current_date + 1]\n",
    "        \n",
    "        # Calcula a nova maturidade, subtraindo o delta_t da opção\n",
    "        next_maturity = maturity - self.option.delta_t\n",
    "        \n",
    "        # Retorna o próximo preço da ação e a nova maturidade\n",
    "        return (next_stock_price, next_maturity)\n",
    "\n",
    "    # Método R\n",
    "    def R(self, simulation, current_date, action):\n",
    "        \n",
    "        # Se a data atual for maior ou igual ao número de passos de tempo, o retorno é zero\n",
    "        if current_date >= self.num_of_timestep:\n",
    "            return 0\n",
    "        \n",
    "        # Obtém o valor de ds para esta simulação e data atual\n",
    "        dst = self.ds.iloc[simulation, current_date]  \n",
    "        \n",
    "        # Obtém o valor de dc para esta simulação e data atual\n",
    "        dct = self.dc.iloc[simulation, current_date]  \n",
    "        \n",
    "        # Calcula o valor de dw, considerando a ação tomada e as variações de ds e dc\n",
    "        dw = (action * dst) + dct  \n",
    "\n",
    "        # Calcula o retorno (reward), levando em consideração o risco (risk_aversion) e a variação ajustada\n",
    "        reward = dw - (risk_aversion / 2) * ((action * self.dstilde.iloc[simulation, current_date] +\n",
    "                                          self.dctilde.iloc[simulation, current_date]) ** 2)\n",
    "        # Retorna o valor do retorno calculado\n",
    "        return reward"
   ]
  },
  {
   "cell_type": "markdown",
   "metadata": {},
   "source": [
    "## Construindo o Módulo de Memória do Agente\n",
    "\n",
    "A classe abaixo é usada para armazenar e gerenciar dados de forma eficiente, especialmente em cenários onde uma \"memória\" ou histórico de experiências é necessário, como no aprendizado por reforço (Reinforcement Learning). Ela permite o armazenamento e a amostragem de experiências passadas, o que é útil para treinar modelos de IA, especialmente agentes que aprendem com interações com o ambiente.\n",
    "\n",
    "Principais funcionalidades:\n",
    "\n",
    "**Armazenamento de dados**: A classe utiliza uma estrutura de dados chamada deque, que permite armazenar dados de forma eficiente. Se for definido um comprimento máximo (max_length), a deque funcionará como uma fila circular, descartando os elementos mais antigos quando atingir o limite.\n",
    "\n",
    "**Armazenamento incremental**: O método store adiciona novos dados à memória. Se o limite de comprimento for atingido, os dados mais antigos serão removidos automaticamente.\n",
    "\n",
    "**Amostragem aleatória**: O método _sample permite selecionar uma amostra aleatória de um tamanho definido (k) da memória armazenada. Isso é útil para evitar correlações entre os dados durante o treinamento de modelos, especialmente em redes neurais, promovendo melhor generalização.\n",
    "\n",
    "**Amostragem estruturada**: O método structured_sample organiza os dados amostrados em um formato específico. Ele extrai diferentes partes da experiência armazenada (como estado, ação, recompensa, etc.) e os retorna em um dicionário estruturado, o que é comum em algoritmos de aprendizado por reforço.\n",
    "\n",
    "**Controle de tamanho da memória**: O método __len__ permite verificar quantos elementos estão armazenados na memória no momento.\n",
    "\n",
    "Essa classe é útil para agentes de aprendizado por reforço, onde o armazenamento de experiências passadas (transições entre estados e recompensas) e a capacidade de reprocessá-las para aprendizado são essenciais para o treinamento eficiente do modelo."
   ]
  },
  {
   "cell_type": "code",
   "execution_count": 58,
   "metadata": {},
   "outputs": [],
   "source": [
    "# Classe Python\n",
    "class ReplayMemory:\n",
    "    \n",
    "    # Construtor\n",
    "    def __init__(self, max_length = None):\n",
    "        \n",
    "        # Inicializa o comprimento máximo da memória \n",
    "        self.max_length = max_length\n",
    "        \n",
    "        # Cria uma deque (fila de dois lados) para armazenar os dados, com comprimento máximo definido\n",
    "        self.memory = deque(maxlen = max_length)\n",
    "\n",
    "    def store(self, data):\n",
    "        \n",
    "        # Armazena os dados na memória (adiciona ao final da deque)\n",
    "        self.memory.append(data)\n",
    "\n",
    "    def _sample(self, k):\n",
    "        \n",
    "        # Retorna uma amostra aleatória de k elementos da memória\n",
    "        return random.sample(self.memory, k)\n",
    "\n",
    "    def structured_sample(self, k):\n",
    "        \n",
    "        # Obtém uma amostra estruturada de k elementos da memória\n",
    "        batch = self._sample(k)\n",
    "        \n",
    "        # Inicializa um dicionário vazio para armazenar o resultado\n",
    "        result = {}\n",
    "        \n",
    "        # Para cada parte da memória (definida em memory_parts), armazena a amostra correspondente\n",
    "        for i, part in enumerate(memory_parts):\n",
    "            result[part] = np.array([row[i] for row in batch])\n",
    "\n",
    "        # Retorna o dicionário resultante com as amostras estruturadas\n",
    "        return result\n",
    "\n",
    "    def __len__(self):\n",
    "        \n",
    "        # Retorna o comprimento atual da memória (quantidade de elementos armazenados)\n",
    "        return len(self.memory)"
   ]
  },
  {
   "cell_type": "code",
   "execution_count": 59,
   "metadata": {},
   "outputs": [],
   "source": [
    "# Elementos da memória\n",
    "memory_parts = [\"spot\", \"maturity\", \"action\", \"next_spot\", \"next_maturity\", \"reward\"]"
   ]
  },
  {
   "cell_type": "code",
   "execution_count": 60,
   "metadata": {},
   "outputs": [],
   "source": [
    "# Cria uma namedtuple chamada Memory, uma estrutura de dados semelhante a uma tupla, \n",
    "# mas com a vantagem de permitir acesso aos elementos por nome, como se fossem atributos de um objeto, \n",
    "# além do acesso por índice, como nas tuplas comuns.\n",
    "Memory = namedtuple(\"Memory\", memory_parts) "
   ]
  },
  {
   "cell_type": "code",
   "execution_count": 61,
   "metadata": {},
   "outputs": [],
   "source": [
    "# Cria instância da classe\n",
    "dsa_hedge = Hedging(ds = delta_s_train, \n",
    "                    dc = delta_c_train, \n",
    "                    greekd = delta_df_train, \n",
    "                    stock_prices = spot_df_train, \n",
    "                    num_of_timestep = num_of_timestep,\n",
    "                    dstilde = delta_s_final_train, \n",
    "                    dctilde = delta_c_final_train)  "
   ]
  },
  {
   "cell_type": "markdown",
   "metadata": {},
   "source": [
    "## Construção do Modelo Deep Q-Network\n",
    "<!-- Projeto Desenvolvido na Data Science Academy - www.datascienceacademy.com.br -->\n",
    "O Modelo DQN (Deep Q-Network) é um algoritmo de aprendizado por reforço profundo (Deep Reinforcement Learning) que combina redes neurais com a técnica de Q-Learning para treinar agentes a tomar decisões ótimas em ambientes complexos. Foi introduzido pela primeira vez pela equipe do Google DeepMind em 2015, sendo famoso por superar seres humanos em jogos de Atari."
   ]
  },
  {
   "cell_type": "code",
   "execution_count": 62,
   "metadata": {},
   "outputs": [],
   "source": [
    "# Hiperparâmetros\n",
    "eps = 0.4\n",
    "eps_decay = 0.95\n",
    "min_eps = 0.1\n",
    "lr = 0.01\n",
    "loss_func = 'mean_squared_error'"
   ]
  },
  {
   "cell_type": "code",
   "execution_count": 63,
   "metadata": {},
   "outputs": [],
   "source": [
    "# Cria o modelo\n",
    "dsa_qmodel = Sequential()"
   ]
  },
  {
   "cell_type": "code",
   "execution_count": 64,
   "metadata": {},
   "outputs": [],
   "source": [
    "# Adiciona as camadas\n",
    "dsa_qmodel.add(Dense(units = 8, input_dim = 3, activation = 'relu'))\n",
    "dsa_qmodel.add(Dense(units = 16, activation = 'relu'))\n",
    "dsa_qmodel.add(Dense(units = 8, activation = 'tanh'))\n",
    "dsa_qmodel.add(Dense(units = 1, activation = 'linear'))"
   ]
  },
  {
   "cell_type": "code",
   "execution_count": 65,
   "metadata": {},
   "outputs": [],
   "source": [
    "# Compila o modelo\n",
    "dsa_qmodel.compile(optimizer = keras.optimizers.Adam(learning_rate = lr), loss = loss_func)"
   ]
  },
  {
   "cell_type": "code",
   "execution_count": 66,
   "metadata": {},
   "outputs": [
    {
     "data": {
      "text/html": [
       "<pre style=\"white-space:pre;overflow-x:auto;line-height:normal;font-family:Menlo,'DejaVu Sans Mono',consolas,'Courier New',monospace\"><span style=\"font-weight: bold\">Model: \"sequential\"</span>\n",
       "</pre>\n"
      ],
      "text/plain": [
       "\u001b[1mModel: \"sequential\"\u001b[0m\n"
      ]
     },
     "metadata": {},
     "output_type": "display_data"
    },
    {
     "data": {
      "text/html": [
       "<pre style=\"white-space:pre;overflow-x:auto;line-height:normal;font-family:Menlo,'DejaVu Sans Mono',consolas,'Courier New',monospace\">┏━━━━━━━━━━━━━━━━━━━━━━━━━━━━━━━━━━━━━━┳━━━━━━━━━━━━━━━━━━━━━━━━━━━━━┳━━━━━━━━━━━━━━━━━┓\n",
       "┃<span style=\"font-weight: bold\"> Layer (type)                         </span>┃<span style=\"font-weight: bold\"> Output Shape                </span>┃<span style=\"font-weight: bold\">         Param # </span>┃\n",
       "┡━━━━━━━━━━━━━━━━━━━━━━━━━━━━━━━━━━━━━━╇━━━━━━━━━━━━━━━━━━━━━━━━━━━━━╇━━━━━━━━━━━━━━━━━┩\n",
       "│ dense (<span style=\"color: #0087ff; text-decoration-color: #0087ff\">Dense</span>)                        │ (<span style=\"color: #00d7ff; text-decoration-color: #00d7ff\">None</span>, <span style=\"color: #00af00; text-decoration-color: #00af00\">8</span>)                   │              <span style=\"color: #00af00; text-decoration-color: #00af00\">32</span> │\n",
       "├──────────────────────────────────────┼─────────────────────────────┼─────────────────┤\n",
       "│ dense_1 (<span style=\"color: #0087ff; text-decoration-color: #0087ff\">Dense</span>)                      │ (<span style=\"color: #00d7ff; text-decoration-color: #00d7ff\">None</span>, <span style=\"color: #00af00; text-decoration-color: #00af00\">16</span>)                  │             <span style=\"color: #00af00; text-decoration-color: #00af00\">144</span> │\n",
       "├──────────────────────────────────────┼─────────────────────────────┼─────────────────┤\n",
       "│ dense_2 (<span style=\"color: #0087ff; text-decoration-color: #0087ff\">Dense</span>)                      │ (<span style=\"color: #00d7ff; text-decoration-color: #00d7ff\">None</span>, <span style=\"color: #00af00; text-decoration-color: #00af00\">8</span>)                   │             <span style=\"color: #00af00; text-decoration-color: #00af00\">136</span> │\n",
       "├──────────────────────────────────────┼─────────────────────────────┼─────────────────┤\n",
       "│ dense_3 (<span style=\"color: #0087ff; text-decoration-color: #0087ff\">Dense</span>)                      │ (<span style=\"color: #00d7ff; text-decoration-color: #00d7ff\">None</span>, <span style=\"color: #00af00; text-decoration-color: #00af00\">1</span>)                   │               <span style=\"color: #00af00; text-decoration-color: #00af00\">9</span> │\n",
       "└──────────────────────────────────────┴─────────────────────────────┴─────────────────┘\n",
       "</pre>\n"
      ],
      "text/plain": [
       "┏━━━━━━━━━━━━━━━━━━━━━━━━━━━━━━━━━━━━━━┳━━━━━━━━━━━━━━━━━━━━━━━━━━━━━┳━━━━━━━━━━━━━━━━━┓\n",
       "┃\u001b[1m \u001b[0m\u001b[1mLayer (type)                        \u001b[0m\u001b[1m \u001b[0m┃\u001b[1m \u001b[0m\u001b[1mOutput Shape               \u001b[0m\u001b[1m \u001b[0m┃\u001b[1m \u001b[0m\u001b[1m        Param #\u001b[0m\u001b[1m \u001b[0m┃\n",
       "┡━━━━━━━━━━━━━━━━━━━━━━━━━━━━━━━━━━━━━━╇━━━━━━━━━━━━━━━━━━━━━━━━━━━━━╇━━━━━━━━━━━━━━━━━┩\n",
       "│ dense (\u001b[38;5;33mDense\u001b[0m)                        │ (\u001b[38;5;45mNone\u001b[0m, \u001b[38;5;34m8\u001b[0m)                   │              \u001b[38;5;34m32\u001b[0m │\n",
       "├──────────────────────────────────────┼─────────────────────────────┼─────────────────┤\n",
       "│ dense_1 (\u001b[38;5;33mDense\u001b[0m)                      │ (\u001b[38;5;45mNone\u001b[0m, \u001b[38;5;34m16\u001b[0m)                  │             \u001b[38;5;34m144\u001b[0m │\n",
       "├──────────────────────────────────────┼─────────────────────────────┼─────────────────┤\n",
       "│ dense_2 (\u001b[38;5;33mDense\u001b[0m)                      │ (\u001b[38;5;45mNone\u001b[0m, \u001b[38;5;34m8\u001b[0m)                   │             \u001b[38;5;34m136\u001b[0m │\n",
       "├──────────────────────────────────────┼─────────────────────────────┼─────────────────┤\n",
       "│ dense_3 (\u001b[38;5;33mDense\u001b[0m)                      │ (\u001b[38;5;45mNone\u001b[0m, \u001b[38;5;34m1\u001b[0m)                   │               \u001b[38;5;34m9\u001b[0m │\n",
       "└──────────────────────────────────────┴─────────────────────────────┴─────────────────┘\n"
      ]
     },
     "metadata": {},
     "output_type": "display_data"
    },
    {
     "data": {
      "text/html": [
       "<pre style=\"white-space:pre;overflow-x:auto;line-height:normal;font-family:Menlo,'DejaVu Sans Mono',consolas,'Courier New',monospace\"><span style=\"font-weight: bold\"> Total params: </span><span style=\"color: #00af00; text-decoration-color: #00af00\">321</span> (1.25 KB)\n",
       "</pre>\n"
      ],
      "text/plain": [
       "\u001b[1m Total params: \u001b[0m\u001b[38;5;34m321\u001b[0m (1.25 KB)\n"
      ]
     },
     "metadata": {},
     "output_type": "display_data"
    },
    {
     "data": {
      "text/html": [
       "<pre style=\"white-space:pre;overflow-x:auto;line-height:normal;font-family:Menlo,'DejaVu Sans Mono',consolas,'Courier New',monospace\"><span style=\"font-weight: bold\"> Trainable params: </span><span style=\"color: #00af00; text-decoration-color: #00af00\">321</span> (1.25 KB)\n",
       "</pre>\n"
      ],
      "text/plain": [
       "\u001b[1m Trainable params: \u001b[0m\u001b[38;5;34m321\u001b[0m (1.25 KB)\n"
      ]
     },
     "metadata": {},
     "output_type": "display_data"
    },
    {
     "data": {
      "text/html": [
       "<pre style=\"white-space:pre;overflow-x:auto;line-height:normal;font-family:Menlo,'DejaVu Sans Mono',consolas,'Courier New',monospace\"><span style=\"font-weight: bold\"> Non-trainable params: </span><span style=\"color: #00af00; text-decoration-color: #00af00\">0</span> (0.00 B)\n",
       "</pre>\n"
      ],
      "text/plain": [
       "\u001b[1m Non-trainable params: \u001b[0m\u001b[38;5;34m0\u001b[0m (0.00 B)\n"
      ]
     },
     "metadata": {},
     "output_type": "display_data"
    }
   ],
   "source": [
    "# Sumário\n",
    "dsa_qmodel.summary()"
   ]
  },
  {
   "cell_type": "markdown",
   "metadata": {},
   "source": [
    "## Definindo a Política\n",
    "\n",
    "Essa política implementa uma função de decisão para o agente que utiliza uma abordagem de aprendizado por reforço para escolher a melhor ação (greedy action) com base em um modelo de valor Q. O modelo Q avalia o valor de recompensa esperada ao tomar certas ações sob diferentes condições de mercado.\n",
    "\n",
    "Aqui está uma explicação do processo:\n",
    "\n",
    "**Verificação de maturidade**: Se o valor da maturidade for praticamente zero, isso significa que a opção expirou e não há mais necessidade de calcular uma ação, então a função retorna None para a ação e 0 como valor de recompensa.\n",
    "<!-- Projeto Desenvolvido na Data Science Academy - www.datascienceacademy.com.br -->\n",
    "**Inicialização**: A função inicializa a variável greedy_action como None e best_Q como menos infinito, garantindo que qualquer valor de Q calculado posteriormente será maior que esse valor inicial.\n",
    "\n",
    "**Iteração sobre as ações**: O laço percorre todas as ações possíveis definidas no conjunto de ações (hedge.A). Para cada ação, a função cria um conjunto de dados de entrada que inclui o preço do ativo (spot), a maturidade e a ação.\n",
    "\n",
    "**Previsão do modelo Q**: O modelo Qmodel faz uma previsão do valor de Q para o conjunto de dados de entrada. O valor de Q representa a qualidade da ação escolhida com base nas condições atuais.\n",
    "\n",
    "**Seleção da melhor ação**: Se o valor de Q atual for maior que o valor armazenado em best_Q, a ação e o valor de Q são atualizados.\n",
    "<!-- Projeto Desenvolvido na Data Science Academy - www.datascienceacademy.com.br -->\n",
    "**Retorno**: A função retorna a melhor ação encontrada de forma gulosa (greedy) e o respectivo valor de Q associado a essa ação."
   ]
  },
  {
   "cell_type": "code",
   "execution_count": 67,
   "metadata": {},
   "outputs": [],
   "source": [
    "# Função\n",
    "def dsa_policy(spot, maturity, Qmodel, hedge):\n",
    "    \n",
    "    # Se a maturidade for muito pequena (ou zero), a opção expira e não há ação a ser tomada\n",
    "    if abs(maturity) < 0.001:\n",
    "        return (None, 0)\n",
    "    \n",
    "    # Inicializa a variável para armazenar a melhor ação gulosa (greedy) como None\n",
    "    greedy_action = None\n",
    "    \n",
    "    # Define o melhor valor de Q inicial como o menor valor possível (menos infinito)\n",
    "    best_Q = float('-inf')\n",
    "    \n",
    "    # Itera sobre todas as ações possíveis no conjunto hedge.A\n",
    "    for action in hedge.A:\n",
    "        \n",
    "        # Cria os dados de entrada para o modelo Q, incluindo o preço do ativo (spot), a maturidade e a ação\n",
    "        input_data = tf.constant([[spot, maturity, action]])\n",
    "        \n",
    "        # Calcula o valor de Q para essa ação usando o modelo Q\n",
    "        Qvalue = Qmodel.predict(input_data, verbose = 0)[0, 0]\n",
    "\n",
    "        # Se o valor de Q atual for melhor que o melhor valor de Q encontrado até agora\n",
    "        if Qvalue > best_Q:\n",
    "            \n",
    "            # Atualiza a melhor ação gulosa com a ação atual\n",
    "            greedy_action = action\n",
    "            \n",
    "            # Atualiza o melhor valor de Q com o valor atual de Q\n",
    "            best_Q = Qvalue\n",
    "\n",
    "    # Retorna a melhor ação gulosa encontrada e seu respectivo valor de Q\n",
    "    return (greedy_action, best_Q)"
   ]
  },
  {
   "cell_type": "markdown",
   "metadata": {},
   "source": [
    "## Executando o Treinamento do Modelo (Agente)"
   ]
  },
  {
   "cell_type": "code",
   "execution_count": 68,
   "metadata": {},
   "outputs": [],
   "source": [
    "# Cria o objeto\n",
    "replay_memory = ReplayMemory(max_length = 10000)"
   ]
  },
  {
   "cell_type": "code",
   "execution_count": 69,
   "metadata": {},
   "outputs": [],
   "source": [
    "# Número de amostras a serem extraídas para repetição da experiência\n",
    "batch_size = 50  "
   ]
  },
  {
   "cell_type": "code",
   "execution_count": 70,
   "metadata": {},
   "outputs": [],
   "source": [
    "# Comprimento mínimo da memória de repetição antes do início do treinamento\n",
    "min_length = 500  "
   ]
  },
  {
   "cell_type": "code",
   "execution_count": 71,
   "metadata": {},
   "outputs": [],
   "source": [
    "# Se a memória de replay for pequena, utilizaremos uma aproximação baseada no delta para escolher a ação\n",
    "def find_nearest(array, value):\n",
    "    array = np.asarray(array)\n",
    "    idx = (np.abs(array - value)).argmin()\n",
    "    return array[idx]"
   ]
  },
  {
   "cell_type": "markdown",
   "metadata": {},
   "source": [
    "Pontos Principais do Loop de Simulação:\n",
    "\n",
    "**Simulação e ponto de verificação**: A primeira parte do código cria um loop que executa simulações e salva pontos de verificação do modelo em arquivos .keras a cada 5 iterações. O callback ModelCheckpoint é configurado para salvar o modelo após o treinamento de cada lote.\n",
    "\n",
    "**Inicialização de variáveis**: Para cada simulação, o preço inicial da ação (spot) e a maturidade da opção são definidos a partir dos parâmetros do objeto hedge.\n",
    "\n",
    "**Escolha da ação**: Se a memória de replay tiver um tamanho adequado, uma ação é escolhida com base em uma política epsilon-greedy: com uma probabilidade eps, uma ação aleatória é selecionada, e com a probabilidade complementar, a ação é escolhida usando a função gulosa (greedy) baseada no modelo Q. Caso a memória seja pequena, a escolha da ação é feita com base em um valor aproximado do delta.\n",
    "<!-- Projeto Desenvolvido na Data Science Academy - www.datascienceacademy.com.br -->\n",
    "**Cálculo da recompensa**: O valor de recompensa é calculado usando o método R da classe hedge.\n",
    "\n",
    "**Armazenamento na memória de replay**: A transição (estado atual, ação, estado futuro, recompensa) é armazenada na memória de replay.\n",
    "\n",
    "**Amostragem e treinamento**: Se a memória de replay for grande o suficiente, o modelo Q é treinado. Um lote de amostras estruturadas é retirado da memória, os valores de Q* são calculados para essas amostras e o modelo é treinado usando esses valores.\n",
    "\n",
    "**Decaimento de epsilon**: Após cada simulação, o valor de eps é decaído para reduzir gradualmente a exploração (ações aleatórias) e aumentar a exploração (ações baseadas no modelo) ao longo do tempo."
   ]
  },
  {
   "cell_type": "code",
   "execution_count": null,
   "metadata": {},
   "outputs": [
    {
     "data": {
      "application/vnd.jupyter.widget-view+json": {
       "model_id": "31bfd758237b41518ffe3b7b5aa52619",
       "version_major": 2,
       "version_minor": 0
      },
      "text/plain": [
       "  0%|          | 0/15 [00:00<?, ?it/s]"
      ]
     },
     "metadata": {},
     "output_type": "display_data"
    },
    {
     "name": "stdout",
     "output_type": "stream",
     "text": [
      "Iniciando simulação 0\n",
      "Simulação 0 concluída\n",
      "Iniciando simulação 1\n",
      "Simulação 1 concluída\n",
      "Iniciando simulação 2\n",
      "Simulação 2 concluída\n",
      "Iniciando simulação 3\n",
      "Simulação 3 concluída\n",
      "Iniciando simulação 4\n",
      "Simulação 4 concluída\n",
      "Iniciando simulação 5\n",
      "Simulação 5 concluída\n",
      "Iniciando simulação 6\n",
      "Simulação 6 concluída\n",
      "Iniciando simulação 7\n"
     ]
    },
    {
     "name": "stdout",
     "output_type": "stream",
     "text": [
      "\u001b[1m1/1\u001b[0m \u001b[32m━━━━━━━━━━━━━━━━━━━━\u001b[0m\u001b[37m\u001b[0m \u001b[1m0s\u001b[0m 5ms/step - loss: 0.1808\n",
      "-1.1\n",
      "\u001b[1m1/1\u001b[0m \u001b[32m━━━━━━━━━━━━━━━━━━━━\u001b[0m\u001b[37m\u001b[0m \u001b[1m0s\u001b[0m 5ms/step - loss: 0.1726\n",
      "-1.1\n",
      "\u001b[1m1/1\u001b[0m \u001b[32m━━━━━━━━━━━━━━━━━━━━\u001b[0m\u001b[37m\u001b[0m \u001b[1m0s\u001b[0m 6ms/step - loss: 0.0809\n",
      "-1.1\n",
      "\n",
      "Epoch 1: saving model to modelos/dsa9.keras\n",
      "\u001b[1m1/1\u001b[0m \u001b[32m━━━━━━━━━━━━━━━━━━━━\u001b[0m\u001b[37m\u001b[0m \u001b[1m0s\u001b[0m 12ms/step - loss: 0.0833\n",
      "-1.1\n",
      "\u001b[1m1/1\u001b[0m \u001b[32m━━━━━━━━━━━━━━━━━━━━\u001b[0m\u001b[37m\u001b[0m \u001b[1m0s\u001b[0m 5ms/step - loss: 0.5514\n",
      "-1.1\n",
      "\u001b[1m1/1\u001b[0m \u001b[32m━━━━━━━━━━━━━━━━━━━━\u001b[0m\u001b[37m\u001b[0m \u001b[1m0s\u001b[0m 6ms/step - loss: 0.4787\n",
      "-1.1\n",
      "\u001b[1m1/1\u001b[0m \u001b[32m━━━━━━━━━━━━━━━━━━━━\u001b[0m\u001b[37m\u001b[0m \u001b[1m0s\u001b[0m 6ms/step - loss: 0.3927\n",
      "-1.1\n",
      "\u001b[1m1/1\u001b[0m \u001b[32m━━━━━━━━━━━━━━━━━━━━\u001b[0m\u001b[37m\u001b[0m \u001b[1m0s\u001b[0m 6ms/step - loss: 0.5117\n",
      "\n",
      "Epoch 1: saving model to modelos/dsa9.keras\n",
      "\u001b[1m1/1\u001b[0m \u001b[32m━━━━━━━━━━━━━━━━━━━━\u001b[0m\u001b[37m\u001b[0m \u001b[1m0s\u001b[0m 12ms/step - loss: 0.2014\n",
      "-1.1\n",
      "\u001b[1m1/1\u001b[0m \u001b[32m━━━━━━━━━━━━━━━━━━━━\u001b[0m\u001b[37m\u001b[0m \u001b[1m0s\u001b[0m 6ms/step - loss: 0.0709\n",
      "-1.1\n",
      "\u001b[1m1/1\u001b[0m \u001b[32m━━━━━━━━━━━━━━━━━━━━\u001b[0m\u001b[37m\u001b[0m \u001b[1m0s\u001b[0m 5ms/step - loss: 0.4202\n",
      "-1.1\n",
      "\u001b[1m1/1\u001b[0m \u001b[32m━━━━━━━━━━━━━━━━━━━━\u001b[0m\u001b[37m\u001b[0m \u001b[1m0s\u001b[0m 6ms/step - loss: 0.0445\n",
      "\u001b[1m1/1\u001b[0m \u001b[32m━━━━━━━━━━━━━━━━━━━━\u001b[0m\u001b[37m\u001b[0m \u001b[1m0s\u001b[0m 5ms/step - loss: 0.1935\n",
      "-1.1\n",
      "\n",
      "Epoch 1: saving model to modelos/dsa9.keras\n",
      "\u001b[1m1/1\u001b[0m \u001b[32m━━━━━━━━━━━━━━━━━━━━\u001b[0m\u001b[37m\u001b[0m \u001b[1m0s\u001b[0m 12ms/step - loss: 0.0634\n",
      "-1.1\n",
      "\u001b[1m1/1\u001b[0m \u001b[32m━━━━━━━━━━━━━━━━━━━━\u001b[0m\u001b[37m\u001b[0m \u001b[1m0s\u001b[0m 5ms/step - loss: 0.1069\n",
      "-1.1\n",
      "\u001b[1m1/1\u001b[0m \u001b[32m━━━━━━━━━━━━━━━━━━━━\u001b[0m\u001b[37m\u001b[0m \u001b[1m0s\u001b[0m 5ms/step - loss: 0.7342\n",
      "-1.1\n",
      "\u001b[1m1/1\u001b[0m \u001b[32m━━━━━━━━━━━━━━━━━━━━\u001b[0m\u001b[37m\u001b[0m \u001b[1m0s\u001b[0m 5ms/step - loss: 0.0672\n",
      "-1.1\n",
      "\u001b[1m1/1\u001b[0m \u001b[32m━━━━━━━━━━━━━━━━━━━━\u001b[0m\u001b[37m\u001b[0m \u001b[1m0s\u001b[0m 5ms/step - loss: 0.3685\n",
      "-1.1\n",
      "\n",
      "Epoch 1: saving model to modelos/dsa9.keras\n",
      "\u001b[1m1/1\u001b[0m \u001b[32m━━━━━━━━━━━━━━━━━━━━\u001b[0m\u001b[37m\u001b[0m \u001b[1m0s\u001b[0m 12ms/step - loss: 0.1465\n",
      "\u001b[1m1/1\u001b[0m \u001b[32m━━━━━━━━━━━━━━━━━━━━\u001b[0m\u001b[37m\u001b[0m \u001b[1m0s\u001b[0m 5ms/step - loss: 0.1207\n",
      "-1.1\n",
      "\u001b[1m1/1\u001b[0m \u001b[32m━━━━━━━━━━━━━━━━━━━━\u001b[0m\u001b[37m\u001b[0m \u001b[1m0s\u001b[0m 5ms/step - loss: 0.1939\n",
      "-1.1\n",
      "\u001b[1m1/1\u001b[0m \u001b[32m━━━━━━━━━━━━━━━━━━━━\u001b[0m\u001b[37m\u001b[0m \u001b[1m0s\u001b[0m 5ms/step - loss: 0.4222\n",
      "-1.1\n",
      "\u001b[1m1/1\u001b[0m \u001b[32m━━━━━━━━━━━━━━━━━━━━\u001b[0m\u001b[37m\u001b[0m \u001b[1m0s\u001b[0m 5ms/step - loss: 0.5641\n",
      "\n",
      "Epoch 1: saving model to modelos/dsa9.keras\n",
      "\u001b[1m1/1\u001b[0m \u001b[32m━━━━━━━━━━━━━━━━━━━━\u001b[0m\u001b[37m\u001b[0m \u001b[1m0s\u001b[0m 12ms/step - loss: 0.0596\n",
      "-1.1\n",
      "\u001b[1m1/1\u001b[0m \u001b[32m━━━━━━━━━━━━━━━━━━━━\u001b[0m\u001b[37m\u001b[0m \u001b[1m0s\u001b[0m 5ms/step - loss: 0.6978\n",
      "-1.1\n",
      "\u001b[1m1/1\u001b[0m \u001b[32m━━━━━━━━━━━━━━━━━━━━\u001b[0m\u001b[37m\u001b[0m \u001b[1m0s\u001b[0m 6ms/step - loss: 0.2022\n",
      "-1.1\n",
      "\u001b[1m1/1\u001b[0m \u001b[32m━━━━━━━━━━━━━━━━━━━━\u001b[0m\u001b[37m\u001b[0m \u001b[1m0s\u001b[0m 6ms/step - loss: 0.6813\n",
      "-1.1\n",
      "\u001b[1m1/1\u001b[0m \u001b[32m━━━━━━━━━━━━━━━━━━━━\u001b[0m\u001b[37m\u001b[0m \u001b[1m0s\u001b[0m 6ms/step - loss: 0.2609\n",
      "-1.1\n",
      "\n",
      "Epoch 1: saving model to modelos/dsa9.keras\n",
      "\u001b[1m1/1\u001b[0m \u001b[32m━━━━━━━━━━━━━━━━━━━━\u001b[0m\u001b[37m\u001b[0m \u001b[1m0s\u001b[0m 11ms/step - loss: 0.5118\n",
      "-1.1\n",
      "\u001b[1m1/1\u001b[0m \u001b[32m━━━━━━━━━━━━━━━━━━━━\u001b[0m\u001b[37m\u001b[0m \u001b[1m0s\u001b[0m 6ms/step - loss: 0.2344\n",
      "-1.1\n",
      "\u001b[1m1/1\u001b[0m \u001b[32m━━━━━━━━━━━━━━━━━━━━\u001b[0m\u001b[37m\u001b[0m \u001b[1m0s\u001b[0m 6ms/step - loss: 0.2991\n",
      "-1.1\n",
      "\u001b[1m1/1\u001b[0m \u001b[32m━━━━━━━━━━━━━━━━━━━━\u001b[0m\u001b[37m\u001b[0m \u001b[1m0s\u001b[0m 5ms/step - loss: 0.2721\n",
      "\u001b[1m1/1\u001b[0m \u001b[32m━━━━━━━━━━━━━━━━━━━━\u001b[0m\u001b[37m\u001b[0m \u001b[1m0s\u001b[0m 5ms/step - loss: 0.3689\n",
      "-1.1\n",
      "\n",
      "Epoch 1: saving model to modelos/dsa9.keras\n",
      "\u001b[1m1/1\u001b[0m \u001b[32m━━━━━━━━━━━━━━━━━━━━\u001b[0m\u001b[37m\u001b[0m \u001b[1m0s\u001b[0m 12ms/step - loss: 0.2205\n",
      "-1.1\n",
      "\u001b[1m1/1\u001b[0m \u001b[32m━━━━━━━━━━━━━━━━━━━━\u001b[0m\u001b[37m\u001b[0m \u001b[1m0s\u001b[0m 5ms/step - loss: 0.1794\n",
      "\u001b[1m1/1\u001b[0m \u001b[32m━━━━━━━━━━━━━━━━━━━━\u001b[0m\u001b[37m\u001b[0m \u001b[1m0s\u001b[0m 6ms/step - loss: 0.8616\n",
      "\u001b[1m1/1\u001b[0m \u001b[32m━━━━━━━━━━━━━━━━━━━━\u001b[0m\u001b[37m\u001b[0m \u001b[1m0s\u001b[0m 5ms/step - loss: 0.4683\n",
      "-1.1\n",
      "\u001b[1m1/1\u001b[0m \u001b[32m━━━━━━━━━━━━━━━━━━━━\u001b[0m\u001b[37m\u001b[0m \u001b[1m0s\u001b[0m 5ms/step - loss: 0.1385\n",
      "-1.1\n",
      "\n",
      "Epoch 1: saving model to modelos/dsa9.keras\n",
      "\u001b[1m1/1\u001b[0m \u001b[32m━━━━━━━━━━━━━━━━━━━━\u001b[0m\u001b[37m\u001b[0m \u001b[1m0s\u001b[0m 12ms/step - loss: 0.4940\n",
      "-1.1\n",
      "\u001b[1m1/1\u001b[0m \u001b[32m━━━━━━━━━━━━━━━━━━━━\u001b[0m\u001b[37m\u001b[0m \u001b[1m0s\u001b[0m 5ms/step - loss: 0.4197\n",
      "\u001b[1m1/1\u001b[0m \u001b[32m━━━━━━━━━━━━━━━━━━━━\u001b[0m\u001b[37m\u001b[0m \u001b[1m0s\u001b[0m 6ms/step - loss: 0.4562\n",
      "-1.1\n",
      "\u001b[1m1/1\u001b[0m \u001b[32m━━━━━━━━━━━━━━━━━━━━\u001b[0m\u001b[37m\u001b[0m \u001b[1m0s\u001b[0m 5ms/step - loss: 0.2964\n",
      "\u001b[1m1/1\u001b[0m \u001b[32m━━━━━━━━━━━━━━━━━━━━\u001b[0m\u001b[37m\u001b[0m \u001b[1m0s\u001b[0m 5ms/step - loss: 0.1909\n",
      "-1.1\n",
      "\n",
      "Epoch 1: saving model to modelos/dsa9.keras\n",
      "\u001b[1m1/1\u001b[0m \u001b[32m━━━━━━━━━━━━━━━━━━━━\u001b[0m\u001b[37m\u001b[0m \u001b[1m0s\u001b[0m 12ms/step - loss: 0.1289\n",
      "-1.1\n",
      "\u001b[1m1/1\u001b[0m \u001b[32m━━━━━━━━━━━━━━━━━━━━\u001b[0m\u001b[37m\u001b[0m \u001b[1m0s\u001b[0m 5ms/step - loss: 0.1435\n",
      "-1.1\n",
      "\u001b[1m1/1\u001b[0m \u001b[32m━━━━━━━━━━━━━━━━━━━━\u001b[0m\u001b[37m\u001b[0m \u001b[1m0s\u001b[0m 5ms/step - loss: 0.2564\n",
      "-1.1\n",
      "\u001b[1m1/1\u001b[0m \u001b[32m━━━━━━━━━━━━━━━━━━━━\u001b[0m\u001b[37m\u001b[0m \u001b[1m0s\u001b[0m 5ms/step - loss: 0.3471\n",
      "\u001b[1m1/1\u001b[0m \u001b[32m━━━━━━━━━━━━━━━━━━━━\u001b[0m\u001b[37m\u001b[0m \u001b[1m0s\u001b[0m 5ms/step - loss: 0.7196\n",
      "-1.1\n",
      "\n",
      "Epoch 1: saving model to modelos/dsa9.keras\n",
      "\u001b[1m1/1\u001b[0m \u001b[32m━━━━━━━━━━━━━━━━━━━━\u001b[0m\u001b[37m\u001b[0m \u001b[1m0s\u001b[0m 12ms/step - loss: 0.1020\n",
      "-1.1\n",
      "\u001b[1m1/1\u001b[0m \u001b[32m━━━━━━━━━━━━━━━━━━━━\u001b[0m\u001b[37m\u001b[0m \u001b[1m0s\u001b[0m 6ms/step - loss: 0.0594\n",
      "-1.1\n",
      "\u001b[1m1/1\u001b[0m \u001b[32m━━━━━━━━━━━━━━━━━━━━\u001b[0m\u001b[37m\u001b[0m \u001b[1m0s\u001b[0m 5ms/step - loss: 0.0706\n",
      "\u001b[1m1/1\u001b[0m \u001b[32m━━━━━━━━━━━━━━━━━━━━\u001b[0m\u001b[37m\u001b[0m \u001b[1m0s\u001b[0m 5ms/step - loss: 0.4082\n",
      "Simulação 9 concluída\n",
      "Iniciando simulação 10\n",
      "-1.1\n",
      "\u001b[1m1/1\u001b[0m \u001b[32m━━━━━━━━━━━━━━━━━━━━\u001b[0m\u001b[37m\u001b[0m \u001b[1m0s\u001b[0m 5ms/step - loss: 0.3418\n",
      "\u001b[1m1/1\u001b[0m \u001b[32m━━━━━━━━━━━━━━━━━━━━\u001b[0m\u001b[37m\u001b[0m \u001b[1m0s\u001b[0m 7ms/step - loss: 0.3752\n",
      "\u001b[1m1/1\u001b[0m \u001b[32m━━━━━━━━━━━━━━━━━━━━\u001b[0m\u001b[37m\u001b[0m \u001b[1m0s\u001b[0m 6ms/step - loss: 0.4020\n",
      "\u001b[1m1/1\u001b[0m \u001b[32m━━━━━━━━━━━━━━━━━━━━\u001b[0m\u001b[37m\u001b[0m \u001b[1m0s\u001b[0m 6ms/step - loss: 0.9561\n",
      "-1.1\n",
      "\n",
      "Epoch 1: saving model to modelos/dsa10.keras\n",
      "\u001b[1m1/1\u001b[0m \u001b[32m━━━━━━━━━━━━━━━━━━━━\u001b[0m\u001b[37m\u001b[0m \u001b[1m0s\u001b[0m 12ms/step - loss: 0.4881\n",
      "-1.1\n",
      "\u001b[1m1/1\u001b[0m \u001b[32m━━━━━━━━━━━━━━━━━━━━\u001b[0m\u001b[37m\u001b[0m \u001b[1m0s\u001b[0m 5ms/step - loss: 0.2825\n",
      "-1.1\n",
      "\u001b[1m1/1\u001b[0m \u001b[32m━━━━━━━━━━━━━━━━━━━━\u001b[0m\u001b[37m\u001b[0m \u001b[1m0s\u001b[0m 5ms/step - loss: 1.0660\n",
      "-1.1\n",
      "\u001b[1m1/1\u001b[0m \u001b[32m━━━━━━━━━━━━━━━━━━━━\u001b[0m\u001b[37m\u001b[0m \u001b[1m0s\u001b[0m 5ms/step - loss: 0.1433\n",
      "-1.1\n",
      "\u001b[1m1/1\u001b[0m \u001b[32m━━━━━━━━━━━━━━━━━━━━\u001b[0m\u001b[37m\u001b[0m \u001b[1m0s\u001b[0m 6ms/step - loss: 0.1741\n",
      "-1.1\n",
      "\n",
      "Epoch 1: saving model to modelos/dsa10.keras\n",
      "\u001b[1m1/1\u001b[0m \u001b[32m━━━━━━━━━━━━━━━━━━━━\u001b[0m\u001b[37m\u001b[0m \u001b[1m0s\u001b[0m 13ms/step - loss: 0.1367\n",
      "\u001b[1m1/1\u001b[0m \u001b[32m━━━━━━━━━━━━━━━━━━━━\u001b[0m\u001b[37m\u001b[0m \u001b[1m0s\u001b[0m 5ms/step - loss: 0.2472\n",
      "\u001b[1m1/1\u001b[0m \u001b[32m━━━━━━━━━━━━━━━━━━━━\u001b[0m\u001b[37m\u001b[0m \u001b[1m0s\u001b[0m 5ms/step - loss: 0.9129\n",
      "\u001b[1m1/1\u001b[0m \u001b[32m━━━━━━━━━━━━━━━━━━━━\u001b[0m\u001b[37m\u001b[0m \u001b[1m0s\u001b[0m 5ms/step - loss: 0.1894\n",
      "-1.1\n",
      "\u001b[1m1/1\u001b[0m \u001b[32m━━━━━━━━━━━━━━━━━━━━\u001b[0m\u001b[37m\u001b[0m \u001b[1m0s\u001b[0m 6ms/step - loss: 0.3404\n",
      "-1.1\n",
      "\n",
      "Epoch 1: saving model to modelos/dsa10.keras\n",
      "\u001b[1m1/1\u001b[0m \u001b[32m━━━━━━━━━━━━━━━━━━━━\u001b[0m\u001b[37m\u001b[0m \u001b[1m0s\u001b[0m 12ms/step - loss: 0.6912\n",
      "\u001b[1m1/1\u001b[0m \u001b[32m━━━━━━━━━━━━━━━━━━━━\u001b[0m\u001b[37m\u001b[0m \u001b[1m0s\u001b[0m 5ms/step - loss: 0.3816\n",
      "\u001b[1m1/1\u001b[0m \u001b[32m━━━━━━━━━━━━━━━━━━━━\u001b[0m\u001b[37m\u001b[0m \u001b[1m0s\u001b[0m 5ms/step - loss: 0.5021\n",
      "\u001b[1m1/1\u001b[0m \u001b[32m━━━━━━━━━━━━━━━━━━━━\u001b[0m\u001b[37m\u001b[0m \u001b[1m0s\u001b[0m 5ms/step - loss: 0.8305\n",
      "\u001b[1m1/1\u001b[0m \u001b[32m━━━━━━━━━━━━━━━━━━━━\u001b[0m\u001b[37m\u001b[0m \u001b[1m0s\u001b[0m 6ms/step - loss: 1.2507\n",
      "-1.1\n",
      "\n",
      "Epoch 1: saving model to modelos/dsa10.keras\n",
      "\u001b[1m1/1\u001b[0m \u001b[32m━━━━━━━━━━━━━━━━━━━━\u001b[0m\u001b[37m\u001b[0m \u001b[1m0s\u001b[0m 12ms/step - loss: 0.3757\n",
      "\u001b[1m1/1\u001b[0m \u001b[32m━━━━━━━━━━━━━━━━━━━━\u001b[0m\u001b[37m\u001b[0m \u001b[1m0s\u001b[0m 6ms/step - loss: 0.6077\n",
      "\u001b[1m1/1\u001b[0m \u001b[32m━━━━━━━━━━━━━━━━━━━━\u001b[0m\u001b[37m\u001b[0m \u001b[1m0s\u001b[0m 5ms/step - loss: 0.2666\n",
      "\u001b[1m1/1\u001b[0m \u001b[32m━━━━━━━━━━━━━━━━━━━━\u001b[0m\u001b[37m\u001b[0m \u001b[1m0s\u001b[0m 5ms/step - loss: 0.3087\n",
      "-1.1\n",
      "\u001b[1m1/1\u001b[0m \u001b[32m━━━━━━━━━━━━━━━━━━━━\u001b[0m\u001b[37m\u001b[0m \u001b[1m0s\u001b[0m 6ms/step - loss: 0.2459\n",
      "-0.6999999999999997\n",
      "\n",
      "Epoch 1: saving model to modelos/dsa10.keras\n",
      "\u001b[1m1/1\u001b[0m \u001b[32m━━━━━━━━━━━━━━━━━━━━\u001b[0m\u001b[37m\u001b[0m \u001b[1m0s\u001b[0m 12ms/step - loss: 0.5961\n",
      "-0.8999999999999999\n",
      "\u001b[1m1/1\u001b[0m \u001b[32m━━━━━━━━━━━━━━━━━━━━\u001b[0m\u001b[37m\u001b[0m \u001b[1m0s\u001b[0m 5ms/step - loss: 0.7546\n",
      "-1.1\n",
      "\u001b[1m1/1\u001b[0m \u001b[32m━━━━━━━━━━━━━━━━━━━━\u001b[0m\u001b[37m\u001b[0m \u001b[1m0s\u001b[0m 5ms/step - loss: 0.1025\n",
      "-1.1\n",
      "\u001b[1m1/1\u001b[0m \u001b[32m━━━━━━━━━━━━━━━━━━━━\u001b[0m\u001b[37m\u001b[0m \u001b[1m0s\u001b[0m 6ms/step - loss: 0.5385\n",
      "\u001b[1m1/1\u001b[0m \u001b[32m━━━━━━━━━━━━━━━━━━━━\u001b[0m\u001b[37m\u001b[0m \u001b[1m0s\u001b[0m 6ms/step - loss: 0.0680\n",
      "-1.1\n",
      "\n",
      "Epoch 1: saving model to modelos/dsa10.keras\n",
      "\u001b[1m1/1\u001b[0m \u001b[32m━━━━━━━━━━━━━━━━━━━━\u001b[0m\u001b[37m\u001b[0m \u001b[1m0s\u001b[0m 12ms/step - loss: 0.9293\n",
      "-1.1\n"
     ]
    },
    {
     "name": "stdout",
     "output_type": "stream",
     "text": [
      "\u001b[1m1/1\u001b[0m \u001b[32m━━━━━━━━━━━━━━━━━━━━\u001b[0m\u001b[37m\u001b[0m \u001b[1m0s\u001b[0m 5ms/step - loss: 0.4075\n",
      "-1.1\n",
      "\u001b[1m1/1\u001b[0m \u001b[32m━━━━━━━━━━━━━━━━━━━━\u001b[0m\u001b[37m\u001b[0m \u001b[1m0s\u001b[0m 6ms/step - loss: 0.1790\n",
      "\u001b[1m1/1\u001b[0m \u001b[32m━━━━━━━━━━━━━━━━━━━━\u001b[0m\u001b[37m\u001b[0m \u001b[1m0s\u001b[0m 6ms/step - loss: 0.3003\n",
      "\u001b[1m1/1\u001b[0m \u001b[32m━━━━━━━━━━━━━━━━━━━━\u001b[0m\u001b[37m\u001b[0m \u001b[1m0s\u001b[0m 5ms/step - loss: 0.4982\n",
      "-1.1\n",
      "\n",
      "Epoch 1: saving model to modelos/dsa10.keras\n",
      "\u001b[1m1/1\u001b[0m \u001b[32m━━━━━━━━━━━━━━━━━━━━\u001b[0m\u001b[37m\u001b[0m \u001b[1m0s\u001b[0m 11ms/step - loss: 0.7671\n",
      "-1.1\n",
      "\u001b[1m1/1\u001b[0m \u001b[32m━━━━━━━━━━━━━━━━━━━━\u001b[0m\u001b[37m\u001b[0m \u001b[1m0s\u001b[0m 6ms/step - loss: 0.0521\n",
      "\u001b[1m1/1\u001b[0m \u001b[32m━━━━━━━━━━━━━━━━━━━━\u001b[0m\u001b[37m\u001b[0m \u001b[1m0s\u001b[0m 6ms/step - loss: 0.6102\n",
      "-1.1\n",
      "\u001b[1m1/1\u001b[0m \u001b[32m━━━━━━━━━━━━━━━━━━━━\u001b[0m\u001b[37m\u001b[0m \u001b[1m0s\u001b[0m 6ms/step - loss: 0.4732\n",
      "-1.1\n",
      "\u001b[1m1/1\u001b[0m \u001b[32m━━━━━━━━━━━━━━━━━━━━\u001b[0m\u001b[37m\u001b[0m \u001b[1m0s\u001b[0m 5ms/step - loss: 0.9502\n",
      "-1.1\n",
      "\n",
      "Epoch 1: saving model to modelos/dsa10.keras\n",
      "\u001b[1m1/1\u001b[0m \u001b[32m━━━━━━━━━━━━━━━━━━━━\u001b[0m\u001b[37m\u001b[0m \u001b[1m0s\u001b[0m 13ms/step - loss: 0.7354\n",
      "\u001b[1m1/1\u001b[0m \u001b[32m━━━━━━━━━━━━━━━━━━━━\u001b[0m\u001b[37m\u001b[0m \u001b[1m0s\u001b[0m 7ms/step - loss: 0.6110\n",
      "-1.1\n",
      "\u001b[1m1/1\u001b[0m \u001b[32m━━━━━━━━━━━━━━━━━━━━\u001b[0m\u001b[37m\u001b[0m \u001b[1m0s\u001b[0m 7ms/step - loss: 0.2813\n",
      "-1.1\n",
      "\u001b[1m1/1\u001b[0m \u001b[32m━━━━━━━━━━━━━━━━━━━━\u001b[0m\u001b[37m\u001b[0m \u001b[1m0s\u001b[0m 5ms/step - loss: 0.2690\n",
      "-1.1\n",
      "\u001b[1m1/1\u001b[0m \u001b[32m━━━━━━━━━━━━━━━━━━━━\u001b[0m\u001b[37m\u001b[0m \u001b[1m0s\u001b[0m 5ms/step - loss: 0.6110\n",
      "-1.1\n",
      "\n",
      "Epoch 1: saving model to modelos/dsa10.keras\n",
      "\u001b[1m1/1\u001b[0m \u001b[32m━━━━━━━━━━━━━━━━━━━━\u001b[0m\u001b[37m\u001b[0m \u001b[1m0s\u001b[0m 12ms/step - loss: 0.6433\n",
      "-1.1\n",
      "\u001b[1m1/1\u001b[0m \u001b[32m━━━━━━━━━━━━━━━━━━━━\u001b[0m\u001b[37m\u001b[0m \u001b[1m0s\u001b[0m 5ms/step - loss: 0.9555\n",
      "-1.1\n",
      "\u001b[1m1/1\u001b[0m \u001b[32m━━━━━━━━━━━━━━━━━━━━\u001b[0m\u001b[37m\u001b[0m \u001b[1m0s\u001b[0m 5ms/step - loss: 0.2202\n",
      "-1.1\n",
      "\u001b[1m1/1\u001b[0m \u001b[32m━━━━━━━━━━━━━━━━━━━━\u001b[0m\u001b[37m\u001b[0m \u001b[1m0s\u001b[0m 6ms/step - loss: 0.9365\n",
      "-1.1\n",
      "\u001b[1m1/1\u001b[0m \u001b[32m━━━━━━━━━━━━━━━━━━━━\u001b[0m\u001b[37m\u001b[0m \u001b[1m0s\u001b[0m 6ms/step - loss: 1.0187\n",
      "\n",
      "Epoch 1: saving model to modelos/dsa10.keras\n",
      "\u001b[1m1/1\u001b[0m \u001b[32m━━━━━━━━━━━━━━━━━━━━\u001b[0m\u001b[37m\u001b[0m \u001b[1m0s\u001b[0m 12ms/step - loss: 0.6824\n",
      "-1.1\n",
      "\u001b[1m1/1\u001b[0m \u001b[32m━━━━━━━━━━━━━━━━━━━━\u001b[0m\u001b[37m\u001b[0m \u001b[1m0s\u001b[0m 5ms/step - loss: 0.5082\n",
      "-1.1\n",
      "\u001b[1m1/1\u001b[0m \u001b[32m━━━━━━━━━━━━━━━━━━━━\u001b[0m\u001b[37m\u001b[0m \u001b[1m0s\u001b[0m 6ms/step - loss: 0.2490\n",
      "\u001b[1m1/1\u001b[0m \u001b[32m━━━━━━━━━━━━━━━━━━━━\u001b[0m\u001b[37m\u001b[0m \u001b[1m0s\u001b[0m 6ms/step - loss: 0.8193\n",
      "-1.1\n",
      "\u001b[1m1/1\u001b[0m \u001b[32m━━━━━━━━━━━━━━━━━━━━\u001b[0m\u001b[37m\u001b[0m \u001b[1m0s\u001b[0m 6ms/step - loss: 0.3948\n",
      "\n",
      "Epoch 1: saving model to modelos/dsa10.keras\n",
      "\u001b[1m1/1\u001b[0m \u001b[32m━━━━━━━━━━━━━━━━━━━━\u001b[0m\u001b[37m\u001b[0m \u001b[1m0s\u001b[0m 14ms/step - loss: 0.6700\n",
      "-1.1\n",
      "\u001b[1m1/1\u001b[0m \u001b[32m━━━━━━━━━━━━━━━━━━━━\u001b[0m\u001b[37m\u001b[0m \u001b[1m0s\u001b[0m 6ms/step - loss: 0.5730\n",
      "\u001b[1m1/1\u001b[0m \u001b[32m━━━━━━━━━━━━━━━━━━━━\u001b[0m\u001b[37m\u001b[0m \u001b[1m0s\u001b[0m 6ms/step - loss: 0.5575\n",
      "-1.1\n",
      "\u001b[1m1/1\u001b[0m \u001b[32m━━━━━━━━━━━━━━━━━━━━\u001b[0m\u001b[37m\u001b[0m \u001b[1m0s\u001b[0m 8ms/step - loss: 0.1342\n",
      "-1.1\n",
      "\u001b[1m1/1\u001b[0m \u001b[32m━━━━━━━━━━━━━━━━━━━━\u001b[0m\u001b[37m\u001b[0m \u001b[1m0s\u001b[0m 5ms/step - loss: 0.3204\n",
      "-1.1\n",
      "\n",
      "Epoch 1: saving model to modelos/dsa10.keras\n",
      "\u001b[1m1/1\u001b[0m \u001b[32m━━━━━━━━━━━━━━━━━━━━\u001b[0m\u001b[37m\u001b[0m \u001b[1m0s\u001b[0m 12ms/step - loss: 0.8952\n",
      "\u001b[1m1/1\u001b[0m \u001b[32m━━━━━━━━━━━━━━━━━━━━\u001b[0m\u001b[37m\u001b[0m \u001b[1m0s\u001b[0m 6ms/step - loss: 0.5791\n",
      "\u001b[1m1/1\u001b[0m \u001b[32m━━━━━━━━━━━━━━━━━━━━\u001b[0m\u001b[37m\u001b[0m \u001b[1m0s\u001b[0m 6ms/step - loss: 0.8827\n",
      "\u001b[1m1/1\u001b[0m \u001b[32m━━━━━━━━━━━━━━━━━━━━\u001b[0m\u001b[37m\u001b[0m \u001b[1m0s\u001b[0m 5ms/step - loss: 0.3142\n",
      "Simulação 10 concluída\n",
      "Iniciando simulação 11\n",
      "-1.1\n",
      "\u001b[1m1/1\u001b[0m \u001b[32m━━━━━━━━━━━━━━━━━━━━\u001b[0m\u001b[37m\u001b[0m \u001b[1m0s\u001b[0m 7ms/step - loss: 0.5370\n",
      "-1.1\n",
      "\u001b[1m1/1\u001b[0m \u001b[32m━━━━━━━━━━━━━━━━━━━━\u001b[0m\u001b[37m\u001b[0m \u001b[1m0s\u001b[0m 6ms/step - loss: 0.2603\n",
      "-1.1\n",
      "\u001b[1m1/1\u001b[0m \u001b[32m━━━━━━━━━━━━━━━━━━━━\u001b[0m\u001b[37m\u001b[0m \u001b[1m0s\u001b[0m 5ms/step - loss: 0.3862\n",
      "-1.1\n",
      "\u001b[1m1/1\u001b[0m \u001b[32m━━━━━━━━━━━━━━━━━━━━\u001b[0m\u001b[37m\u001b[0m \u001b[1m0s\u001b[0m 6ms/step - loss: 0.6140\n",
      "-1.1\n",
      "\n",
      "Epoch 1: saving model to modelos/dsa11.keras\n",
      "\u001b[1m1/1\u001b[0m \u001b[32m━━━━━━━━━━━━━━━━━━━━\u001b[0m\u001b[37m\u001b[0m \u001b[1m0s\u001b[0m 13ms/step - loss: 0.4359\n",
      "-1.1\n",
      "\u001b[1m1/1\u001b[0m \u001b[32m━━━━━━━━━━━━━━━━━━━━\u001b[0m\u001b[37m\u001b[0m \u001b[1m0s\u001b[0m 7ms/step - loss: 1.6576\n",
      "\u001b[1m1/1\u001b[0m \u001b[32m━━━━━━━━━━━━━━━━━━━━\u001b[0m\u001b[37m\u001b[0m \u001b[1m0s\u001b[0m 7ms/step - loss: 0.4803\n",
      "-1.1\n",
      "\u001b[1m1/1\u001b[0m \u001b[32m━━━━━━━━━━━━━━━━━━━━\u001b[0m\u001b[37m\u001b[0m \u001b[1m0s\u001b[0m 6ms/step - loss: 1.4604\n",
      "-1.1\n",
      "\u001b[1m1/1\u001b[0m \u001b[32m━━━━━━━━━━━━━━━━━━━━\u001b[0m\u001b[37m\u001b[0m \u001b[1m0s\u001b[0m 6ms/step - loss: 0.4027\n",
      "-1.1\n",
      "\n",
      "Epoch 1: saving model to modelos/dsa11.keras\n",
      "\u001b[1m1/1\u001b[0m \u001b[32m━━━━━━━━━━━━━━━━━━━━\u001b[0m\u001b[37m\u001b[0m \u001b[1m0s\u001b[0m 12ms/step - loss: 0.7511\n",
      "-1.1\n",
      "\u001b[1m1/1\u001b[0m \u001b[32m━━━━━━━━━━━━━━━━━━━━\u001b[0m\u001b[37m\u001b[0m \u001b[1m0s\u001b[0m 6ms/step - loss: 0.5111\n",
      "\u001b[1m1/1\u001b[0m \u001b[32m━━━━━━━━━━━━━━━━━━━━\u001b[0m\u001b[37m\u001b[0m \u001b[1m0s\u001b[0m 5ms/step - loss: 1.2364\n",
      "\u001b[1m1/1\u001b[0m \u001b[32m━━━━━━━━━━━━━━━━━━━━\u001b[0m\u001b[37m\u001b[0m \u001b[1m0s\u001b[0m 6ms/step - loss: 0.9513\n",
      "-1.1\n",
      "\u001b[1m1/1\u001b[0m \u001b[32m━━━━━━━━━━━━━━━━━━━━\u001b[0m\u001b[37m\u001b[0m \u001b[1m0s\u001b[0m 5ms/step - loss: 1.3058\n",
      "-1.1\n",
      "\n",
      "Epoch 1: saving model to modelos/dsa11.keras\n",
      "\u001b[1m1/1\u001b[0m \u001b[32m━━━━━━━━━━━━━━━━━━━━\u001b[0m\u001b[37m\u001b[0m \u001b[1m0s\u001b[0m 15ms/step - loss: 0.8402\n",
      "-1.1\n",
      "\u001b[1m1/1\u001b[0m \u001b[32m━━━━━━━━━━━━━━━━━━━━\u001b[0m\u001b[37m\u001b[0m \u001b[1m0s\u001b[0m 6ms/step - loss: 0.6368\n",
      "\u001b[1m1/1\u001b[0m \u001b[32m━━━━━━━━━━━━━━━━━━━━\u001b[0m\u001b[37m\u001b[0m \u001b[1m0s\u001b[0m 5ms/step - loss: 0.4156\n",
      "-1.1\n",
      "\u001b[1m1/1\u001b[0m \u001b[32m━━━━━━━━━━━━━━━━━━━━\u001b[0m\u001b[37m\u001b[0m \u001b[1m0s\u001b[0m 6ms/step - loss: 0.9570\n",
      "-1.1\n",
      "\u001b[1m1/1\u001b[0m \u001b[32m━━━━━━━━━━━━━━━━━━━━\u001b[0m\u001b[37m\u001b[0m \u001b[1m0s\u001b[0m 5ms/step - loss: 1.2456\n",
      "-1.1\n",
      "\n",
      "Epoch 1: saving model to modelos/dsa11.keras\n",
      "\u001b[1m1/1\u001b[0m \u001b[32m━━━━━━━━━━━━━━━━━━━━\u001b[0m\u001b[37m\u001b[0m \u001b[1m0s\u001b[0m 14ms/step - loss: 1.4940\n",
      "-1.1\n",
      "\u001b[1m1/1\u001b[0m \u001b[32m━━━━━━━━━━━━━━━━━━━━\u001b[0m\u001b[37m\u001b[0m \u001b[1m0s\u001b[0m 6ms/step - loss: 1.1007\n",
      "-1.1\n",
      "\u001b[1m1/1\u001b[0m \u001b[32m━━━━━━━━━━━━━━━━━━━━\u001b[0m\u001b[37m\u001b[0m \u001b[1m0s\u001b[0m 5ms/step - loss: 1.6335\n",
      "-1.1\n",
      "\u001b[1m1/1\u001b[0m \u001b[32m━━━━━━━━━━━━━━━━━━━━\u001b[0m\u001b[37m\u001b[0m \u001b[1m0s\u001b[0m 7ms/step - loss: 0.7415\n",
      "\u001b[1m1/1\u001b[0m \u001b[32m━━━━━━━━━━━━━━━━━━━━\u001b[0m\u001b[37m\u001b[0m \u001b[1m0s\u001b[0m 6ms/step - loss: 0.7453\n",
      "-1.1\n",
      "\n",
      "Epoch 1: saving model to modelos/dsa11.keras\n",
      "\u001b[1m1/1\u001b[0m \u001b[32m━━━━━━━━━━━━━━━━━━━━\u001b[0m\u001b[37m\u001b[0m \u001b[1m0s\u001b[0m 12ms/step - loss: 1.0621\n",
      "-1.1\n",
      "\u001b[1m1/1\u001b[0m \u001b[32m━━━━━━━━━━━━━━━━━━━━\u001b[0m\u001b[37m\u001b[0m \u001b[1m0s\u001b[0m 5ms/step - loss: 1.5575\n",
      "\u001b[1m1/1\u001b[0m \u001b[32m━━━━━━━━━━━━━━━━━━━━\u001b[0m\u001b[37m\u001b[0m \u001b[1m0s\u001b[0m 5ms/step - loss: 0.3140\n",
      "-1.1\n",
      "\u001b[1m1/1\u001b[0m \u001b[32m━━━━━━━━━━━━━━━━━━━━\u001b[0m\u001b[37m\u001b[0m \u001b[1m0s\u001b[0m 7ms/step - loss: 0.5752\n",
      "-1.1\n",
      "\u001b[1m1/1\u001b[0m \u001b[32m━━━━━━━━━━━━━━━━━━━━\u001b[0m\u001b[37m\u001b[0m \u001b[1m0s\u001b[0m 6ms/step - loss: 0.7421\n",
      "-1.1\n",
      "\n",
      "Epoch 1: saving model to modelos/dsa11.keras\n",
      "\u001b[1m1/1\u001b[0m \u001b[32m━━━━━━━━━━━━━━━━━━━━\u001b[0m\u001b[37m\u001b[0m \u001b[1m0s\u001b[0m 14ms/step - loss: 1.4091\n",
      "\u001b[1m1/1\u001b[0m \u001b[32m━━━━━━━━━━━━━━━━━━━━\u001b[0m\u001b[37m\u001b[0m \u001b[1m0s\u001b[0m 6ms/step - loss: 1.1148\n",
      "-1.1\n",
      "\u001b[1m1/1\u001b[0m \u001b[32m━━━━━━━━━━━━━━━━━━━━\u001b[0m\u001b[37m\u001b[0m \u001b[1m0s\u001b[0m 8ms/step - loss: 1.4468\n",
      "\u001b[1m1/1\u001b[0m \u001b[32m━━━━━━━━━━━━━━━━━━━━\u001b[0m\u001b[37m\u001b[0m \u001b[1m0s\u001b[0m 7ms/step - loss: 1.4935\n",
      "\u001b[1m1/1\u001b[0m \u001b[32m━━━━━━━━━━━━━━━━━━━━\u001b[0m\u001b[37m\u001b[0m \u001b[1m0s\u001b[0m 5ms/step - loss: 0.6454\n",
      "-1.1\n",
      "\n",
      "Epoch 1: saving model to modelos/dsa11.keras\n",
      "\u001b[1m1/1\u001b[0m \u001b[32m━━━━━━━━━━━━━━━━━━━━\u001b[0m\u001b[37m\u001b[0m \u001b[1m0s\u001b[0m 12ms/step - loss: 0.4685\n",
      "-1.1\n",
      "\u001b[1m1/1\u001b[0m \u001b[32m━━━━━━━━━━━━━━━━━━━━\u001b[0m\u001b[37m\u001b[0m \u001b[1m0s\u001b[0m 7ms/step - loss: 0.6319\n",
      "-1.1\n",
      "\u001b[1m1/1\u001b[0m \u001b[32m━━━━━━━━━━━━━━━━━━━━\u001b[0m\u001b[37m\u001b[0m \u001b[1m0s\u001b[0m 6ms/step - loss: 1.3853\n",
      "\u001b[1m1/1\u001b[0m \u001b[32m━━━━━━━━━━━━━━━━━━━━\u001b[0m\u001b[37m\u001b[0m \u001b[1m0s\u001b[0m 5ms/step - loss: 0.1989\n",
      "-1.1\n",
      "\u001b[1m1/1\u001b[0m \u001b[32m━━━━━━━━━━━━━━━━━━━━\u001b[0m\u001b[37m\u001b[0m \u001b[1m0s\u001b[0m 5ms/step - loss: 0.5020\n",
      "-1.1\n",
      "\n",
      "Epoch 1: saving model to modelos/dsa11.keras\n",
      "\u001b[1m1/1\u001b[0m \u001b[32m━━━━━━━━━━━━━━━━━━━━\u001b[0m\u001b[37m\u001b[0m \u001b[1m0s\u001b[0m 15ms/step - loss: 0.9514\n",
      "\u001b[1m1/1\u001b[0m \u001b[32m━━━━━━━━━━━━━━━━━━━━\u001b[0m\u001b[37m\u001b[0m \u001b[1m0s\u001b[0m 6ms/step - loss: 0.6668\n",
      "-1.1\n",
      "\u001b[1m1/1\u001b[0m \u001b[32m━━━━━━━━━━━━━━━━━━━━\u001b[0m\u001b[37m\u001b[0m \u001b[1m0s\u001b[0m 6ms/step - loss: 0.6375\n",
      "-1.1\n",
      "\u001b[1m1/1\u001b[0m \u001b[32m━━━━━━━━━━━━━━━━━━━━\u001b[0m\u001b[37m\u001b[0m \u001b[1m0s\u001b[0m 5ms/step - loss: 1.3154\n",
      "-1.1\n",
      "\u001b[1m1/1\u001b[0m \u001b[32m━━━━━━━━━━━━━━━━━━━━\u001b[0m\u001b[37m\u001b[0m \u001b[1m0s\u001b[0m 6ms/step - loss: 0.9217\n",
      "-1.1\n",
      "\n",
      "Epoch 1: saving model to modelos/dsa11.keras\n",
      "\u001b[1m1/1\u001b[0m \u001b[32m━━━━━━━━━━━━━━━━━━━━\u001b[0m\u001b[37m\u001b[0m \u001b[1m0s\u001b[0m 15ms/step - loss: 1.5951\n",
      "-1.1\n",
      "\u001b[1m1/1\u001b[0m \u001b[32m━━━━━━━━━━━━━━━━━━━━\u001b[0m\u001b[37m\u001b[0m \u001b[1m0s\u001b[0m 5ms/step - loss: 0.6071\n",
      "\u001b[1m1/1\u001b[0m \u001b[32m━━━━━━━━━━━━━━━━━━━━\u001b[0m\u001b[37m\u001b[0m \u001b[1m0s\u001b[0m 5ms/step - loss: 0.7763\n",
      "-1.1\n",
      "\u001b[1m1/1\u001b[0m \u001b[32m━━━━━━━━━━━━━━━━━━━━\u001b[0m\u001b[37m\u001b[0m \u001b[1m0s\u001b[0m 7ms/step - loss: 0.4132\n",
      "-1.1\n",
      "\u001b[1m1/1\u001b[0m \u001b[32m━━━━━━━━━━━━━━━━━━━━\u001b[0m\u001b[37m\u001b[0m \u001b[1m0s\u001b[0m 6ms/step - loss: 0.4325\n",
      "-1.1\n",
      "\n",
      "Epoch 1: saving model to modelos/dsa11.keras\n"
     ]
    },
    {
     "name": "stdout",
     "output_type": "stream",
     "text": [
      "\u001b[1m1/1\u001b[0m \u001b[32m━━━━━━━━━━━━━━━━━━━━\u001b[0m\u001b[37m\u001b[0m \u001b[1m0s\u001b[0m 13ms/step - loss: 0.9751\n",
      "\u001b[1m1/1\u001b[0m \u001b[32m━━━━━━━━━━━━━━━━━━━━\u001b[0m\u001b[37m\u001b[0m \u001b[1m0s\u001b[0m 6ms/step - loss: 1.0276\n",
      "-1.1\n",
      "\u001b[1m1/1\u001b[0m \u001b[32m━━━━━━━━━━━━━━━━━━━━\u001b[0m\u001b[37m\u001b[0m \u001b[1m0s\u001b[0m 7ms/step - loss: 1.0364\n",
      "-1.1\n",
      "\u001b[1m1/1\u001b[0m \u001b[32m━━━━━━━━━━━━━━━━━━━━\u001b[0m\u001b[37m\u001b[0m \u001b[1m0s\u001b[0m 6ms/step - loss: 0.8215\n",
      "-1.1\n",
      "\u001b[1m1/1\u001b[0m \u001b[32m━━━━━━━━━━━━━━━━━━━━\u001b[0m\u001b[37m\u001b[0m \u001b[1m0s\u001b[0m 6ms/step - loss: 0.7931\n",
      "-1.1\n",
      "\n",
      "Epoch 1: saving model to modelos/dsa11.keras\n",
      "\u001b[1m1/1\u001b[0m \u001b[32m━━━━━━━━━━━━━━━━━━━━\u001b[0m\u001b[37m\u001b[0m \u001b[1m0s\u001b[0m 12ms/step - loss: 1.1091\n",
      "-1.1\n",
      "\u001b[1m1/1\u001b[0m \u001b[32m━━━━━━━━━━━━━━━━━━━━\u001b[0m\u001b[37m\u001b[0m \u001b[1m0s\u001b[0m 5ms/step - loss: 1.4837\n",
      "-1.1\n",
      "\u001b[1m1/1\u001b[0m \u001b[32m━━━━━━━━━━━━━━━━━━━━\u001b[0m\u001b[37m\u001b[0m \u001b[1m0s\u001b[0m 5ms/step - loss: 1.5981\n",
      "-1.1\n",
      "\u001b[1m1/1\u001b[0m \u001b[32m━━━━━━━━━━━━━━━━━━━━\u001b[0m\u001b[37m\u001b[0m \u001b[1m0s\u001b[0m 8ms/step - loss: 1.1132\n",
      "\u001b[1m1/1\u001b[0m \u001b[32m━━━━━━━━━━━━━━━━━━━━\u001b[0m\u001b[37m\u001b[0m \u001b[1m0s\u001b[0m 7ms/step - loss: 1.0613\n",
      "-1.1\n",
      "\n",
      "Epoch 1: saving model to modelos/dsa11.keras\n",
      "\u001b[1m1/1\u001b[0m \u001b[32m━━━━━━━━━━━━━━━━━━━━\u001b[0m\u001b[37m\u001b[0m \u001b[1m0s\u001b[0m 12ms/step - loss: 0.5729\n",
      "-1.1\n",
      "\u001b[1m1/1\u001b[0m \u001b[32m━━━━━━━━━━━━━━━━━━━━\u001b[0m\u001b[37m\u001b[0m \u001b[1m0s\u001b[0m 6ms/step - loss: 1.0033\n",
      "\u001b[1m1/1\u001b[0m \u001b[32m━━━━━━━━━━━━━━━━━━━━\u001b[0m\u001b[37m\u001b[0m \u001b[1m0s\u001b[0m 5ms/step - loss: 0.4080\n",
      "-1.1\n",
      "\u001b[1m1/1\u001b[0m \u001b[32m━━━━━━━━━━━━━━━━━━━━\u001b[0m\u001b[37m\u001b[0m \u001b[1m0s\u001b[0m 6ms/step - loss: 0.7426\n",
      "Simulação 11 concluída\n",
      "Iniciando simulação 12\n",
      "-1.1\n",
      "\u001b[1m1/1\u001b[0m \u001b[32m━━━━━━━━━━━━━━━━━━━━\u001b[0m\u001b[37m\u001b[0m \u001b[1m0s\u001b[0m 7ms/step - loss: 1.1807\n",
      "-1.1\n",
      "\u001b[1m1/1\u001b[0m \u001b[32m━━━━━━━━━━━━━━━━━━━━\u001b[0m\u001b[37m\u001b[0m \u001b[1m0s\u001b[0m 6ms/step - loss: 0.5343\n",
      "-1.1\n",
      "\u001b[1m1/1\u001b[0m \u001b[32m━━━━━━━━━━━━━━━━━━━━\u001b[0m\u001b[37m\u001b[0m \u001b[1m0s\u001b[0m 5ms/step - loss: 1.3983\n",
      "-1.1\n",
      "\u001b[1m1/1\u001b[0m \u001b[32m━━━━━━━━━━━━━━━━━━━━\u001b[0m\u001b[37m\u001b[0m \u001b[1m0s\u001b[0m 7ms/step - loss: 0.2874\n",
      "\n",
      "Epoch 1: saving model to modelos/dsa12.keras\n",
      "\u001b[1m1/1\u001b[0m \u001b[32m━━━━━━━━━━━━━━━━━━━━\u001b[0m\u001b[37m\u001b[0m \u001b[1m0s\u001b[0m 13ms/step - loss: 0.7263\n",
      "-1.1\n",
      "\u001b[1m1/1\u001b[0m \u001b[32m━━━━━━━━━━━━━━━━━━━━\u001b[0m\u001b[37m\u001b[0m \u001b[1m0s\u001b[0m 5ms/step - loss: 0.8740\n",
      "-1.1\n",
      "\u001b[1m1/1\u001b[0m \u001b[32m━━━━━━━━━━━━━━━━━━━━\u001b[0m\u001b[37m\u001b[0m \u001b[1m0s\u001b[0m 6ms/step - loss: 1.3377\n",
      "-1.1\n",
      "\u001b[1m1/1\u001b[0m \u001b[32m━━━━━━━━━━━━━━━━━━━━\u001b[0m\u001b[37m\u001b[0m \u001b[1m0s\u001b[0m 6ms/step - loss: 1.1645\n",
      "-1.1\n",
      "\u001b[1m1/1\u001b[0m \u001b[32m━━━━━━━━━━━━━━━━━━━━\u001b[0m\u001b[37m\u001b[0m \u001b[1m0s\u001b[0m 5ms/step - loss: 1.0460\n",
      "-1.1\n",
      "\n",
      "Epoch 1: saving model to modelos/dsa12.keras\n",
      "\u001b[1m1/1\u001b[0m \u001b[32m━━━━━━━━━━━━━━━━━━━━\u001b[0m\u001b[37m\u001b[0m \u001b[1m0s\u001b[0m 12ms/step - loss: 0.5318\n",
      "-1.1\n",
      "\u001b[1m1/1\u001b[0m \u001b[32m━━━━━━━━━━━━━━━━━━━━\u001b[0m\u001b[37m\u001b[0m \u001b[1m0s\u001b[0m 8ms/step - loss: 0.7344\n",
      "-1.1\n",
      "\u001b[1m1/1\u001b[0m \u001b[32m━━━━━━━━━━━━━━━━━━━━\u001b[0m\u001b[37m\u001b[0m \u001b[1m0s\u001b[0m 6ms/step - loss: 1.0097\n",
      "-1.1\n",
      "\u001b[1m1/1\u001b[0m \u001b[32m━━━━━━━━━━━━━━━━━━━━\u001b[0m\u001b[37m\u001b[0m \u001b[1m0s\u001b[0m 5ms/step - loss: 0.3064\n",
      "-1.1\n",
      "\u001b[1m1/1\u001b[0m \u001b[32m━━━━━━━━━━━━━━━━━━━━\u001b[0m\u001b[37m\u001b[0m \u001b[1m0s\u001b[0m 5ms/step - loss: 0.6915\n",
      "\n",
      "Epoch 1: saving model to modelos/dsa12.keras\n",
      "\u001b[1m1/1\u001b[0m \u001b[32m━━━━━━━━━━━━━━━━━━━━\u001b[0m\u001b[37m\u001b[0m \u001b[1m0s\u001b[0m 12ms/step - loss: 1.0183\n",
      "-1.1\n",
      "\u001b[1m1/1\u001b[0m \u001b[32m━━━━━━━━━━━━━━━━━━━━\u001b[0m\u001b[37m\u001b[0m \u001b[1m0s\u001b[0m 5ms/step - loss: 2.3487\n",
      "-1.1\n",
      "\u001b[1m1/1\u001b[0m \u001b[32m━━━━━━━━━━━━━━━━━━━━\u001b[0m\u001b[37m\u001b[0m \u001b[1m0s\u001b[0m 5ms/step - loss: 1.1161\n",
      "-1.1\n",
      "\u001b[1m1/1\u001b[0m \u001b[32m━━━━━━━━━━━━━━━━━━━━\u001b[0m\u001b[37m\u001b[0m \u001b[1m0s\u001b[0m 5ms/step - loss: 0.4501\n",
      "-1.1\n",
      "\u001b[1m1/1\u001b[0m \u001b[32m━━━━━━━━━━━━━━━━━━━━\u001b[0m\u001b[37m\u001b[0m \u001b[1m0s\u001b[0m 6ms/step - loss: 1.1637\n",
      "\n",
      "Epoch 1: saving model to modelos/dsa12.keras\n",
      "\u001b[1m1/1\u001b[0m \u001b[32m━━━━━━━━━━━━━━━━━━━━\u001b[0m\u001b[37m\u001b[0m \u001b[1m0s\u001b[0m 12ms/step - loss: 1.1490\n",
      "-1.1\n",
      "\u001b[1m1/1\u001b[0m \u001b[32m━━━━━━━━━━━━━━━━━━━━\u001b[0m\u001b[37m\u001b[0m \u001b[1m0s\u001b[0m 6ms/step - loss: 1.2970\n",
      "-1.1\n",
      "\u001b[1m1/1\u001b[0m \u001b[32m━━━━━━━━━━━━━━━━━━━━\u001b[0m\u001b[37m\u001b[0m \u001b[1m0s\u001b[0m 5ms/step - loss: 2.2070\n",
      "-1.1\n",
      "\u001b[1m1/1\u001b[0m \u001b[32m━━━━━━━━━━━━━━━━━━━━\u001b[0m\u001b[37m\u001b[0m \u001b[1m0s\u001b[0m 6ms/step - loss: 0.3429\n",
      "-1.1\n",
      "\u001b[1m1/1\u001b[0m \u001b[32m━━━━━━━━━━━━━━━━━━━━\u001b[0m\u001b[37m\u001b[0m \u001b[1m0s\u001b[0m 5ms/step - loss: 0.9076\n",
      "\n",
      "Epoch 1: saving model to modelos/dsa12.keras\n",
      "\u001b[1m1/1\u001b[0m \u001b[32m━━━━━━━━━━━━━━━━━━━━\u001b[0m\u001b[37m\u001b[0m \u001b[1m0s\u001b[0m 12ms/step - loss: 0.5892\n",
      "\u001b[1m1/1\u001b[0m \u001b[32m━━━━━━━━━━━━━━━━━━━━\u001b[0m\u001b[37m\u001b[0m \u001b[1m0s\u001b[0m 5ms/step - loss: 0.7918\n",
      "-1.1\n",
      "\u001b[1m1/1\u001b[0m \u001b[32m━━━━━━━━━━━━━━━━━━━━\u001b[0m\u001b[37m\u001b[0m \u001b[1m0s\u001b[0m 5ms/step - loss: 1.3601\n",
      "\u001b[1m1/1\u001b[0m \u001b[32m━━━━━━━━━━━━━━━━━━━━\u001b[0m\u001b[37m\u001b[0m \u001b[1m0s\u001b[0m 5ms/step - loss: 1.7366\n",
      "-1.1\n",
      "\u001b[1m1/1\u001b[0m \u001b[32m━━━━━━━━━━━━━━━━━━━━\u001b[0m\u001b[37m\u001b[0m \u001b[1m0s\u001b[0m 6ms/step - loss: 1.3185\n",
      "-1.1\n",
      "\n",
      "Epoch 1: saving model to modelos/dsa12.keras\n",
      "\u001b[1m1/1\u001b[0m \u001b[32m━━━━━━━━━━━━━━━━━━━━\u001b[0m\u001b[37m\u001b[0m \u001b[1m0s\u001b[0m 12ms/step - loss: 0.4859\n",
      "-1.1\n",
      "\u001b[1m1/1\u001b[0m \u001b[32m━━━━━━━━━━━━━━━━━━━━\u001b[0m\u001b[37m\u001b[0m \u001b[1m0s\u001b[0m 5ms/step - loss: 1.1822\n",
      "-1.1\n",
      "\u001b[1m1/1\u001b[0m \u001b[32m━━━━━━━━━━━━━━━━━━━━\u001b[0m\u001b[37m\u001b[0m \u001b[1m0s\u001b[0m 5ms/step - loss: 0.7941\n",
      "-1.1\n",
      "\u001b[1m1/1\u001b[0m \u001b[32m━━━━━━━━━━━━━━━━━━━━\u001b[0m\u001b[37m\u001b[0m \u001b[1m0s\u001b[0m 5ms/step - loss: 1.1114\n",
      "-1.1\n",
      "\u001b[1m1/1\u001b[0m \u001b[32m━━━━━━━━━━━━━━━━━━━━\u001b[0m\u001b[37m\u001b[0m \u001b[1m0s\u001b[0m 5ms/step - loss: 0.9973\n",
      "-1.1\n",
      "\n",
      "Epoch 1: saving model to modelos/dsa12.keras\n",
      "\u001b[1m1/1\u001b[0m \u001b[32m━━━━━━━━━━━━━━━━━━━━\u001b[0m\u001b[37m\u001b[0m \u001b[1m0s\u001b[0m 13ms/step - loss: 1.2306\n",
      "-1.1\n",
      "\u001b[1m1/1\u001b[0m \u001b[32m━━━━━━━━━━━━━━━━━━━━\u001b[0m\u001b[37m\u001b[0m \u001b[1m0s\u001b[0m 6ms/step - loss: 0.5690\n",
      "-1.1\n",
      "\u001b[1m1/1\u001b[0m \u001b[32m━━━━━━━━━━━━━━━━━━━━\u001b[0m\u001b[37m\u001b[0m \u001b[1m0s\u001b[0m 6ms/step - loss: 1.2556\n",
      "-1.1\n",
      "\u001b[1m1/1\u001b[0m \u001b[32m━━━━━━━━━━━━━━━━━━━━\u001b[0m\u001b[37m\u001b[0m \u001b[1m0s\u001b[0m 6ms/step - loss: 1.7207\n",
      "\u001b[1m1/1\u001b[0m \u001b[32m━━━━━━━━━━━━━━━━━━━━\u001b[0m\u001b[37m\u001b[0m \u001b[1m0s\u001b[0m 5ms/step - loss: 0.6996\n",
      "-1.1\n",
      "\n",
      "Epoch 1: saving model to modelos/dsa12.keras\n",
      "\u001b[1m1/1\u001b[0m \u001b[32m━━━━━━━━━━━━━━━━━━━━\u001b[0m\u001b[37m\u001b[0m \u001b[1m0s\u001b[0m 13ms/step - loss: 1.0143\n",
      "-1.1\n",
      "\u001b[1m1/1\u001b[0m \u001b[32m━━━━━━━━━━━━━━━━━━━━\u001b[0m\u001b[37m\u001b[0m \u001b[1m0s\u001b[0m 6ms/step - loss: 0.3786\n",
      "\u001b[1m1/1\u001b[0m \u001b[32m━━━━━━━━━━━━━━━━━━━━\u001b[0m\u001b[37m\u001b[0m \u001b[1m0s\u001b[0m 5ms/step - loss: 1.5002\n",
      "-1.1\n",
      "\u001b[1m1/1\u001b[0m \u001b[32m━━━━━━━━━━━━━━━━━━━━\u001b[0m\u001b[37m\u001b[0m \u001b[1m0s\u001b[0m 5ms/step - loss: 0.7516\n",
      "-1.1\n",
      "\u001b[1m1/1\u001b[0m \u001b[32m━━━━━━━━━━━━━━━━━━━━\u001b[0m\u001b[37m\u001b[0m \u001b[1m0s\u001b[0m 5ms/step - loss: 1.6602\n",
      "-1.1\n",
      "\n",
      "Epoch 1: saving model to modelos/dsa12.keras\n",
      "\u001b[1m1/1\u001b[0m \u001b[32m━━━━━━━━━━━━━━━━━━━━\u001b[0m\u001b[37m\u001b[0m \u001b[1m0s\u001b[0m 12ms/step - loss: 1.4208\n",
      "-1.1\n",
      "\u001b[1m1/1\u001b[0m \u001b[32m━━━━━━━━━━━━━━━━━━━━\u001b[0m\u001b[37m\u001b[0m \u001b[1m0s\u001b[0m 6ms/step - loss: 1.4070\n",
      "-1.1\n",
      "\u001b[1m1/1\u001b[0m \u001b[32m━━━━━━━━━━━━━━━━━━━━\u001b[0m\u001b[37m\u001b[0m \u001b[1m0s\u001b[0m 6ms/step - loss: 1.2305\n",
      "-1.1\n",
      "\u001b[1m1/1\u001b[0m \u001b[32m━━━━━━━━━━━━━━━━━━━━\u001b[0m\u001b[37m\u001b[0m \u001b[1m0s\u001b[0m 5ms/step - loss: 0.6177\n",
      "\u001b[1m1/1\u001b[0m \u001b[32m━━━━━━━━━━━━━━━━━━━━\u001b[0m\u001b[37m\u001b[0m \u001b[1m0s\u001b[0m 6ms/step - loss: 0.7275\n",
      "\n",
      "Epoch 1: saving model to modelos/dsa12.keras\n",
      "\u001b[1m1/1\u001b[0m \u001b[32m━━━━━━━━━━━━━━━━━━━━\u001b[0m\u001b[37m\u001b[0m \u001b[1m0s\u001b[0m 13ms/step - loss: 1.0794\n",
      "-1.1\n",
      "\u001b[1m1/1\u001b[0m \u001b[32m━━━━━━━━━━━━━━━━━━━━\u001b[0m\u001b[37m\u001b[0m \u001b[1m0s\u001b[0m 6ms/step - loss: 1.1312\n",
      "-1.1\n",
      "\u001b[1m1/1\u001b[0m \u001b[32m━━━━━━━━━━━━━━━━━━━━\u001b[0m\u001b[37m\u001b[0m \u001b[1m0s\u001b[0m 7ms/step - loss: 0.7609\n",
      "-1.1\n",
      "\u001b[1m1/1\u001b[0m \u001b[32m━━━━━━━━━━━━━━━━━━━━\u001b[0m\u001b[37m\u001b[0m \u001b[1m0s\u001b[0m 5ms/step - loss: 1.4056\n",
      "-1.1\n",
      "\u001b[1m1/1\u001b[0m \u001b[32m━━━━━━━━━━━━━━━━━━━━\u001b[0m\u001b[37m\u001b[0m \u001b[1m0s\u001b[0m 6ms/step - loss: 1.4248\n",
      "-1.1\n",
      "\n",
      "Epoch 1: saving model to modelos/dsa12.keras\n",
      "\u001b[1m1/1\u001b[0m \u001b[32m━━━━━━━━━━━━━━━━━━━━\u001b[0m\u001b[37m\u001b[0m \u001b[1m0s\u001b[0m 14ms/step - loss: 1.3414\n",
      "-1.1\n",
      "\u001b[1m1/1\u001b[0m \u001b[32m━━━━━━━━━━━━━━━━━━━━\u001b[0m\u001b[37m\u001b[0m \u001b[1m0s\u001b[0m 5ms/step - loss: 0.5129\n",
      "-1.1\n",
      "\u001b[1m1/1\u001b[0m \u001b[32m━━━━━━━━━━━━━━━━━━━━\u001b[0m\u001b[37m\u001b[0m \u001b[1m0s\u001b[0m 5ms/step - loss: 0.7838\n",
      "\u001b[1m1/1\u001b[0m \u001b[32m━━━━━━━━━━━━━━━━━━━━\u001b[0m\u001b[37m\u001b[0m \u001b[1m0s\u001b[0m 5ms/step - loss: 0.9164\n",
      "-1.1\n",
      "\u001b[1m1/1\u001b[0m \u001b[32m━━━━━━━━━━━━━━━━━━━━\u001b[0m\u001b[37m\u001b[0m \u001b[1m0s\u001b[0m 5ms/step - loss: 0.6347\n",
      "-1.1\n",
      "\n",
      "Epoch 1: saving model to modelos/dsa12.keras\n",
      "\u001b[1m1/1\u001b[0m \u001b[32m━━━━━━━━━━━━━━━━━━━━\u001b[0m\u001b[37m\u001b[0m \u001b[1m0s\u001b[0m 14ms/step - loss: 0.9414\n",
      "-1.1\n",
      "\u001b[1m1/1\u001b[0m \u001b[32m━━━━━━━━━━━━━━━━━━━━\u001b[0m\u001b[37m\u001b[0m \u001b[1m0s\u001b[0m 5ms/step - loss: 1.6498\n",
      "-1.1\n",
      "\u001b[1m1/1\u001b[0m \u001b[32m━━━━━━━━━━━━━━━━━━━━\u001b[0m\u001b[37m\u001b[0m \u001b[1m0s\u001b[0m 5ms/step - loss: 1.1601\n",
      "-1.1\n",
      "\u001b[1m1/1\u001b[0m \u001b[32m━━━━━━━━━━━━━━━━━━━━\u001b[0m\u001b[37m\u001b[0m \u001b[1m0s\u001b[0m 5ms/step - loss: 0.5064\n",
      "Simulação 12 concluída\n",
      "Iniciando simulação 13\n",
      "-1.1\n",
      "\u001b[1m1/1\u001b[0m \u001b[32m━━━━━━━━━━━━━━━━━━━━\u001b[0m\u001b[37m\u001b[0m \u001b[1m0s\u001b[0m 7ms/step - loss: 1.6160\n",
      "-1.1\n",
      "\u001b[1m1/1\u001b[0m \u001b[32m━━━━━━━━━━━━━━━━━━━━\u001b[0m\u001b[37m\u001b[0m \u001b[1m0s\u001b[0m 6ms/step - loss: 2.0082\n",
      "-1.1\n",
      "\u001b[1m1/1\u001b[0m \u001b[32m━━━━━━━━━━━━━━━━━━━━\u001b[0m\u001b[37m\u001b[0m \u001b[1m0s\u001b[0m 5ms/step - loss: 1.0155\n",
      "-1.1\n",
      "\u001b[1m1/1\u001b[0m \u001b[32m━━━━━━━━━━━━━━━━━━━━\u001b[0m\u001b[37m\u001b[0m \u001b[1m0s\u001b[0m 5ms/step - loss: 0.6843\n",
      "-1.1\n",
      "\n",
      "Epoch 1: saving model to modelos/dsa13.keras\n",
      "\u001b[1m1/1\u001b[0m \u001b[32m━━━━━━━━━━━━━━━━━━━━\u001b[0m\u001b[37m\u001b[0m \u001b[1m0s\u001b[0m 12ms/step - loss: 1.3061\n",
      "-1.1\n"
     ]
    },
    {
     "name": "stdout",
     "output_type": "stream",
     "text": [
      "\u001b[1m1/1\u001b[0m \u001b[32m━━━━━━━━━━━━━━━━━━━━\u001b[0m\u001b[37m\u001b[0m \u001b[1m0s\u001b[0m 6ms/step - loss: 1.4057\n",
      "-1.1\n",
      "\u001b[1m1/1\u001b[0m \u001b[32m━━━━━━━━━━━━━━━━━━━━\u001b[0m\u001b[37m\u001b[0m \u001b[1m0s\u001b[0m 5ms/step - loss: 1.2020\n",
      "-1.1\n",
      "\u001b[1m1/1\u001b[0m \u001b[32m━━━━━━━━━━━━━━━━━━━━\u001b[0m\u001b[37m\u001b[0m \u001b[1m0s\u001b[0m 5ms/step - loss: 0.8312\n",
      "\u001b[1m1/1\u001b[0m \u001b[32m━━━━━━━━━━━━━━━━━━━━\u001b[0m\u001b[37m\u001b[0m \u001b[1m0s\u001b[0m 5ms/step - loss: 1.7491\n",
      "\n",
      "Epoch 1: saving model to modelos/dsa13.keras\n",
      "\u001b[1m1/1\u001b[0m \u001b[32m━━━━━━━━━━━━━━━━━━━━\u001b[0m\u001b[37m\u001b[0m \u001b[1m0s\u001b[0m 12ms/step - loss: 0.8391\n",
      "-1.1\n",
      "\u001b[1m1/1\u001b[0m \u001b[32m━━━━━━━━━━━━━━━━━━━━\u001b[0m\u001b[37m\u001b[0m \u001b[1m0s\u001b[0m 5ms/step - loss: 0.9400\n",
      "-1.1\n",
      "\u001b[1m1/1\u001b[0m \u001b[32m━━━━━━━━━━━━━━━━━━━━\u001b[0m\u001b[37m\u001b[0m \u001b[1m0s\u001b[0m 6ms/step - loss: 1.6187\n",
      "-1.1\n",
      "\u001b[1m1/1\u001b[0m \u001b[32m━━━━━━━━━━━━━━━━━━━━\u001b[0m\u001b[37m\u001b[0m \u001b[1m0s\u001b[0m 6ms/step - loss: 1.2364\n",
      "\u001b[1m1/1\u001b[0m \u001b[32m━━━━━━━━━━━━━━━━━━━━\u001b[0m\u001b[37m\u001b[0m \u001b[1m0s\u001b[0m 6ms/step - loss: 2.7646\n",
      "-1.1\n",
      "\n",
      "Epoch 1: saving model to modelos/dsa13.keras\n",
      "\u001b[1m1/1\u001b[0m \u001b[32m━━━━━━━━━━━━━━━━━━━━\u001b[0m\u001b[37m\u001b[0m \u001b[1m0s\u001b[0m 14ms/step - loss: 3.7511\n",
      "-1.1\n",
      "\u001b[1m1/1\u001b[0m \u001b[32m━━━━━━━━━━━━━━━━━━━━\u001b[0m\u001b[37m\u001b[0m \u001b[1m0s\u001b[0m 6ms/step - loss: 1.1484\n",
      "-1.1\n",
      "\u001b[1m1/1\u001b[0m \u001b[32m━━━━━━━━━━━━━━━━━━━━\u001b[0m\u001b[37m\u001b[0m \u001b[1m0s\u001b[0m 5ms/step - loss: 1.1817\n",
      "-1.1\n",
      "\u001b[1m1/1\u001b[0m \u001b[32m━━━━━━━━━━━━━━━━━━━━\u001b[0m\u001b[37m\u001b[0m \u001b[1m0s\u001b[0m 5ms/step - loss: 1.2216\n",
      "\u001b[1m1/1\u001b[0m \u001b[32m━━━━━━━━━━━━━━━━━━━━\u001b[0m\u001b[37m\u001b[0m \u001b[1m0s\u001b[0m 5ms/step - loss: 1.6895\n",
      "\n",
      "Epoch 1: saving model to modelos/dsa13.keras\n",
      "\u001b[1m1/1\u001b[0m \u001b[32m━━━━━━━━━━━━━━━━━━━━\u001b[0m\u001b[37m\u001b[0m \u001b[1m0s\u001b[0m 15ms/step - loss: 1.4797\n",
      "-1.1\n",
      "\u001b[1m1/1\u001b[0m \u001b[32m━━━━━━━━━━━━━━━━━━━━\u001b[0m\u001b[37m\u001b[0m \u001b[1m0s\u001b[0m 6ms/step - loss: 1.2537\n",
      "-1.1\n",
      "\u001b[1m1/1\u001b[0m \u001b[32m━━━━━━━━━━━━━━━━━━━━\u001b[0m\u001b[37m\u001b[0m \u001b[1m0s\u001b[0m 5ms/step - loss: 0.9693\n",
      "-1.1\n",
      "\u001b[1m1/1\u001b[0m \u001b[32m━━━━━━━━━━━━━━━━━━━━\u001b[0m\u001b[37m\u001b[0m \u001b[1m0s\u001b[0m 6ms/step - loss: 1.4444\n",
      "-1.1\n",
      "\u001b[1m1/1\u001b[0m \u001b[32m━━━━━━━━━━━━━━━━━━━━\u001b[0m\u001b[37m\u001b[0m \u001b[1m0s\u001b[0m 7ms/step - loss: 1.1389\n",
      "\n",
      "Epoch 1: saving model to modelos/dsa13.keras\n",
      "\u001b[1m1/1\u001b[0m \u001b[32m━━━━━━━━━━━━━━━━━━━━\u001b[0m\u001b[37m\u001b[0m \u001b[1m0s\u001b[0m 12ms/step - loss: 0.9018\n",
      "-1.1\n",
      "\u001b[1m1/1\u001b[0m \u001b[32m━━━━━━━━━━━━━━━━━━━━\u001b[0m\u001b[37m\u001b[0m \u001b[1m0s\u001b[0m 6ms/step - loss: 1.8425\n",
      "-1.1\n",
      "\u001b[1m1/1\u001b[0m \u001b[32m━━━━━━━━━━━━━━━━━━━━\u001b[0m\u001b[37m\u001b[0m \u001b[1m0s\u001b[0m 5ms/step - loss: 0.8916\n",
      "-1.1\n",
      "\u001b[1m1/1\u001b[0m \u001b[32m━━━━━━━━━━━━━━━━━━━━\u001b[0m\u001b[37m\u001b[0m \u001b[1m0s\u001b[0m 7ms/step - loss: 1.5635\n",
      "-1.1\n",
      "\u001b[1m1/1\u001b[0m \u001b[32m━━━━━━━━━━━━━━━━━━━━\u001b[0m\u001b[37m\u001b[0m \u001b[1m0s\u001b[0m 6ms/step - loss: 1.1284\n",
      "\n",
      "Epoch 1: saving model to modelos/dsa13.keras\n",
      "\u001b[1m1/1\u001b[0m \u001b[32m━━━━━━━━━━━━━━━━━━━━\u001b[0m\u001b[37m\u001b[0m \u001b[1m0s\u001b[0m 13ms/step - loss: 0.4558\n",
      "-1.1\n",
      "\u001b[1m1/1\u001b[0m \u001b[32m━━━━━━━━━━━━━━━━━━━━\u001b[0m\u001b[37m\u001b[0m \u001b[1m0s\u001b[0m 5ms/step - loss: 1.4092\n",
      "-1.1\n",
      "\u001b[1m1/1\u001b[0m \u001b[32m━━━━━━━━━━━━━━━━━━━━\u001b[0m\u001b[37m\u001b[0m \u001b[1m0s\u001b[0m 7ms/step - loss: 1.1917\n",
      "-1.1\n",
      "\u001b[1m1/1\u001b[0m \u001b[32m━━━━━━━━━━━━━━━━━━━━\u001b[0m\u001b[37m\u001b[0m \u001b[1m0s\u001b[0m 6ms/step - loss: 1.1171\n",
      "\u001b[1m1/1\u001b[0m \u001b[32m━━━━━━━━━━━━━━━━━━━━\u001b[0m\u001b[37m\u001b[0m \u001b[1m0s\u001b[0m 5ms/step - loss: 2.0663\n",
      "-1.1\n",
      "\n",
      "Epoch 1: saving model to modelos/dsa13.keras\n",
      "\u001b[1m1/1\u001b[0m \u001b[32m━━━━━━━━━━━━━━━━━━━━\u001b[0m\u001b[37m\u001b[0m \u001b[1m0s\u001b[0m 11ms/step - loss: 1.2497\n",
      "\u001b[1m1/1\u001b[0m \u001b[32m━━━━━━━━━━━━━━━━━━━━\u001b[0m\u001b[37m\u001b[0m \u001b[1m0s\u001b[0m 6ms/step - loss: 0.8385\n",
      "-1.1\n",
      "\u001b[1m1/1\u001b[0m \u001b[32m━━━━━━━━━━━━━━━━━━━━\u001b[0m\u001b[37m\u001b[0m \u001b[1m0s\u001b[0m 6ms/step - loss: 1.4832\n",
      "\u001b[1m1/1\u001b[0m \u001b[32m━━━━━━━━━━━━━━━━━━━━\u001b[0m\u001b[37m\u001b[0m \u001b[1m0s\u001b[0m 7ms/step - loss: 1.4059\n",
      "\u001b[1m1/1\u001b[0m \u001b[32m━━━━━━━━━━━━━━━━━━━━\u001b[0m\u001b[37m\u001b[0m \u001b[1m0s\u001b[0m 5ms/step - loss: 2.8051\n",
      "-1.1\n",
      "\n",
      "Epoch 1: saving model to modelos/dsa13.keras\n",
      "\u001b[1m1/1\u001b[0m \u001b[32m━━━━━━━━━━━━━━━━━━━━\u001b[0m\u001b[37m\u001b[0m \u001b[1m0s\u001b[0m 11ms/step - loss: 1.5335\n",
      "-1.1\n",
      "\u001b[1m1/1\u001b[0m \u001b[32m━━━━━━━━━━━━━━━━━━━━\u001b[0m\u001b[37m\u001b[0m \u001b[1m0s\u001b[0m 7ms/step - loss: 0.2187\n",
      "-1.1\n",
      "\u001b[1m1/1\u001b[0m \u001b[32m━━━━━━━━━━━━━━━━━━━━\u001b[0m\u001b[37m\u001b[0m \u001b[1m0s\u001b[0m 5ms/step - loss: 1.1074\n",
      "\u001b[1m1/1\u001b[0m \u001b[32m━━━━━━━━━━━━━━━━━━━━\u001b[0m\u001b[37m\u001b[0m \u001b[1m0s\u001b[0m 5ms/step - loss: 0.7669\n",
      "-1.1\n",
      "\u001b[1m1/1\u001b[0m \u001b[32m━━━━━━━━━━━━━━━━━━━━\u001b[0m\u001b[37m\u001b[0m \u001b[1m0s\u001b[0m 6ms/step - loss: 1.4031\n",
      "-1.1\n",
      "\n",
      "Epoch 1: saving model to modelos/dsa13.keras\n",
      "\u001b[1m1/1\u001b[0m \u001b[32m━━━━━━━━━━━━━━━━━━━━\u001b[0m\u001b[37m\u001b[0m \u001b[1m0s\u001b[0m 11ms/step - loss: 1.1710\n",
      "-1.1\n",
      "\u001b[1m1/1\u001b[0m \u001b[32m━━━━━━━━━━━━━━━━━━━━\u001b[0m\u001b[37m\u001b[0m \u001b[1m0s\u001b[0m 6ms/step - loss: 1.4068\n",
      "-1.1\n",
      "\u001b[1m1/1\u001b[0m \u001b[32m━━━━━━━━━━━━━━━━━━━━\u001b[0m\u001b[37m\u001b[0m \u001b[1m0s\u001b[0m 6ms/step - loss: 1.9659\n",
      "-1.1\n",
      "\u001b[1m1/1\u001b[0m \u001b[32m━━━━━━━━━━━━━━━━━━━━\u001b[0m\u001b[37m\u001b[0m \u001b[1m0s\u001b[0m 6ms/step - loss: 1.7872\n",
      "-1.1\n",
      "\u001b[1m1/1\u001b[0m \u001b[32m━━━━━━━━━━━━━━━━━━━━\u001b[0m\u001b[37m\u001b[0m \u001b[1m0s\u001b[0m 5ms/step - loss: 1.0961\n",
      "-1.1\n",
      "\n",
      "Epoch 1: saving model to modelos/dsa13.keras\n",
      "\u001b[1m1/1\u001b[0m \u001b[32m━━━━━━━━━━━━━━━━━━━━\u001b[0m\u001b[37m\u001b[0m \u001b[1m0s\u001b[0m 11ms/step - loss: 1.0607\n",
      "\u001b[1m1/1\u001b[0m \u001b[32m━━━━━━━━━━━━━━━━━━━━\u001b[0m\u001b[37m\u001b[0m \u001b[1m0s\u001b[0m 5ms/step - loss: 1.3566\n",
      "-1.1\n",
      "\u001b[1m1/1\u001b[0m \u001b[32m━━━━━━━━━━━━━━━━━━━━\u001b[0m\u001b[37m\u001b[0m \u001b[1m0s\u001b[0m 6ms/step - loss: 1.5329\n",
      "-1.1\n",
      "\u001b[1m1/1\u001b[0m \u001b[32m━━━━━━━━━━━━━━━━━━━━\u001b[0m\u001b[37m\u001b[0m \u001b[1m0s\u001b[0m 5ms/step - loss: 2.0303\n",
      "-1.1\n",
      "\u001b[1m1/1\u001b[0m \u001b[32m━━━━━━━━━━━━━━━━━━━━\u001b[0m\u001b[37m\u001b[0m \u001b[1m0s\u001b[0m 5ms/step - loss: 1.5335\n",
      "-1.1\n",
      "\n",
      "Epoch 1: saving model to modelos/dsa13.keras\n",
      "\u001b[1m1/1\u001b[0m \u001b[32m━━━━━━━━━━━━━━━━━━━━\u001b[0m\u001b[37m\u001b[0m \u001b[1m0s\u001b[0m 12ms/step - loss: 1.0240\n",
      "\u001b[1m1/1\u001b[0m \u001b[32m━━━━━━━━━━━━━━━━━━━━\u001b[0m\u001b[37m\u001b[0m \u001b[1m0s\u001b[0m 6ms/step - loss: 2.5050\n",
      "-1.1\n",
      "\u001b[1m1/1\u001b[0m \u001b[32m━━━━━━━━━━━━━━━━━━━━\u001b[0m\u001b[37m\u001b[0m \u001b[1m0s\u001b[0m 7ms/step - loss: 1.0679\n",
      "-1.1\n",
      "\u001b[1m1/1\u001b[0m \u001b[32m━━━━━━━━━━━━━━━━━━━━\u001b[0m\u001b[37m\u001b[0m \u001b[1m0s\u001b[0m 5ms/step - loss: 1.0731\n",
      "-1.1\n",
      "\u001b[1m1/1\u001b[0m \u001b[32m━━━━━━━━━━━━━━━━━━━━\u001b[0m\u001b[37m\u001b[0m \u001b[1m0s\u001b[0m 6ms/step - loss: 1.2557\n",
      "-1.1\n",
      "\n",
      "Epoch 1: saving model to modelos/dsa13.keras\n",
      "\u001b[1m1/1\u001b[0m \u001b[32m━━━━━━━━━━━━━━━━━━━━\u001b[0m\u001b[37m\u001b[0m \u001b[1m0s\u001b[0m 12ms/step - loss: 0.7921\n",
      "-1.1\n",
      "\u001b[1m1/1\u001b[0m \u001b[32m━━━━━━━━━━━━━━━━━━━━\u001b[0m\u001b[37m\u001b[0m \u001b[1m0s\u001b[0m 5ms/step - loss: 0.5567\n",
      "-1.1\n",
      "\u001b[1m1/1\u001b[0m \u001b[32m━━━━━━━━━━━━━━━━━━━━\u001b[0m\u001b[37m\u001b[0m \u001b[1m0s\u001b[0m 6ms/step - loss: 0.5988\n",
      "\u001b[1m1/1\u001b[0m \u001b[32m━━━━━━━━━━━━━━━━━━━━\u001b[0m\u001b[37m\u001b[0m \u001b[1m0s\u001b[0m 6ms/step - loss: 0.5846\n",
      "Simulação 13 concluída\n",
      "Iniciando simulação 14\n",
      "-1.1\n",
      "\u001b[1m1/1\u001b[0m \u001b[32m━━━━━━━━━━━━━━━━━━━━\u001b[0m\u001b[37m\u001b[0m \u001b[1m0s\u001b[0m 7ms/step - loss: 1.0912\n",
      "-1.1\n",
      "\u001b[1m1/1\u001b[0m \u001b[32m━━━━━━━━━━━━━━━━━━━━\u001b[0m\u001b[37m\u001b[0m \u001b[1m0s\u001b[0m 5ms/step - loss: 1.4130\n",
      "-1.1\n",
      "\u001b[1m1/1\u001b[0m \u001b[32m━━━━━━━━━━━━━━━━━━━━\u001b[0m\u001b[37m\u001b[0m \u001b[1m0s\u001b[0m 5ms/step - loss: 1.0260\n",
      "-1.1\n",
      "\u001b[1m1/1\u001b[0m \u001b[32m━━━━━━━━━━━━━━━━━━━━\u001b[0m\u001b[37m\u001b[0m \u001b[1m0s\u001b[0m 6ms/step - loss: 1.0249\n",
      "\n",
      "Epoch 1: saving model to modelos/dsa14.keras\n",
      "\u001b[1m1/1\u001b[0m \u001b[32m━━━━━━━━━━━━━━━━━━━━\u001b[0m\u001b[37m\u001b[0m \u001b[1m0s\u001b[0m 14ms/step - loss: 1.2304\n",
      "-1.1\n",
      "\u001b[1m1/1\u001b[0m \u001b[32m━━━━━━━━━━━━━━━━━━━━\u001b[0m\u001b[37m\u001b[0m \u001b[1m0s\u001b[0m 6ms/step - loss: 1.5302\n",
      "\u001b[1m1/1\u001b[0m \u001b[32m━━━━━━━━━━━━━━━━━━━━\u001b[0m\u001b[37m\u001b[0m \u001b[1m0s\u001b[0m 5ms/step - loss: 1.5730\n",
      "-1.1\n",
      "\u001b[1m1/1\u001b[0m \u001b[32m━━━━━━━━━━━━━━━━━━━━\u001b[0m\u001b[37m\u001b[0m \u001b[1m0s\u001b[0m 8ms/step - loss: 1.8318\n",
      "-1.1\n",
      "\u001b[1m1/1\u001b[0m \u001b[32m━━━━━━━━━━━━━━━━━━━━\u001b[0m\u001b[37m\u001b[0m \u001b[1m0s\u001b[0m 5ms/step - loss: 1.7643\n",
      "-1.1\n",
      "\n",
      "Epoch 1: saving model to modelos/dsa14.keras\n",
      "\u001b[1m1/1\u001b[0m \u001b[32m━━━━━━━━━━━━━━━━━━━━\u001b[0m\u001b[37m\u001b[0m \u001b[1m0s\u001b[0m 12ms/step - loss: 0.3703\n",
      "-1.1\n",
      "\u001b[1m1/1\u001b[0m \u001b[32m━━━━━━━━━━━━━━━━━━━━\u001b[0m\u001b[37m\u001b[0m \u001b[1m0s\u001b[0m 5ms/step - loss: 0.5611\n",
      "-1.1\n",
      "\u001b[1m1/1\u001b[0m \u001b[32m━━━━━━━━━━━━━━━━━━━━\u001b[0m\u001b[37m\u001b[0m \u001b[1m0s\u001b[0m 7ms/step - loss: 1.3467\n",
      "-1.1\n",
      "\u001b[1m1/1\u001b[0m \u001b[32m━━━━━━━━━━━━━━━━━━━━\u001b[0m\u001b[37m\u001b[0m \u001b[1m0s\u001b[0m 7ms/step - loss: 0.5890\n",
      "\u001b[1m1/1\u001b[0m \u001b[32m━━━━━━━━━━━━━━━━━━━━\u001b[0m\u001b[37m\u001b[0m \u001b[1m0s\u001b[0m 6ms/step - loss: 0.6641\n",
      "\n",
      "Epoch 1: saving model to modelos/dsa14.keras\n",
      "\u001b[1m1/1\u001b[0m \u001b[32m━━━━━━━━━━━━━━━━━━━━\u001b[0m\u001b[37m\u001b[0m \u001b[1m0s\u001b[0m 13ms/step - loss: 0.8983\n",
      "-1.1\n",
      "\u001b[1m1/1\u001b[0m \u001b[32m━━━━━━━━━━━━━━━━━━━━\u001b[0m\u001b[37m\u001b[0m \u001b[1m0s\u001b[0m 5ms/step - loss: 1.1740\n",
      "\u001b[1m1/1\u001b[0m \u001b[32m━━━━━━━━━━━━━━━━━━━━\u001b[0m\u001b[37m\u001b[0m \u001b[1m0s\u001b[0m 7ms/step - loss: 1.8426\n",
      "-1.1\n",
      "\u001b[1m1/1\u001b[0m \u001b[32m━━━━━━━━━━━━━━━━━━━━\u001b[0m\u001b[37m\u001b[0m \u001b[1m0s\u001b[0m 5ms/step - loss: 1.2761\n",
      "-1.1\n",
      "\u001b[1m1/1\u001b[0m \u001b[32m━━━━━━━━━━━━━━━━━━━━\u001b[0m\u001b[37m\u001b[0m \u001b[1m0s\u001b[0m 5ms/step - loss: 1.0853\n",
      "-1.1\n",
      "\n",
      "Epoch 1: saving model to modelos/dsa14.keras\n",
      "\u001b[1m1/1\u001b[0m \u001b[32m━━━━━━━━━━━━━━━━━━━━\u001b[0m\u001b[37m\u001b[0m \u001b[1m0s\u001b[0m 13ms/step - loss: 2.5696\n",
      "-1.1\n",
      "\u001b[1m1/1\u001b[0m \u001b[32m━━━━━━━━━━━━━━━━━━━━\u001b[0m\u001b[37m\u001b[0m \u001b[1m0s\u001b[0m 5ms/step - loss: 1.7360\n",
      "-1.1\n",
      "\u001b[1m1/1\u001b[0m \u001b[32m━━━━━━━━━━━━━━━━━━━━\u001b[0m\u001b[37m\u001b[0m \u001b[1m0s\u001b[0m 8ms/step - loss: 1.0232\n",
      "-1.1\n",
      "\u001b[1m1/1\u001b[0m \u001b[32m━━━━━━━━━━━━━━━━━━━━\u001b[0m\u001b[37m\u001b[0m \u001b[1m0s\u001b[0m 7ms/step - loss: 1.0277\n",
      "-1.1\n",
      "\u001b[1m1/1\u001b[0m \u001b[32m━━━━━━━━━━━━━━━━━━━━\u001b[0m\u001b[37m\u001b[0m \u001b[1m0s\u001b[0m 5ms/step - loss: 1.1396\n",
      "-1.1\n",
      "\n",
      "Epoch 1: saving model to modelos/dsa14.keras\n"
     ]
    },
    {
     "name": "stdout",
     "output_type": "stream",
     "text": [
      "\u001b[1m1/1\u001b[0m \u001b[32m━━━━━━━━━━━━━━━━━━━━\u001b[0m\u001b[37m\u001b[0m \u001b[1m0s\u001b[0m 13ms/step - loss: 1.1586\n",
      "-1.1\n",
      "\u001b[1m1/1\u001b[0m \u001b[32m━━━━━━━━━━━━━━━━━━━━\u001b[0m\u001b[37m\u001b[0m \u001b[1m0s\u001b[0m 5ms/step - loss: 1.9797\n",
      "-1.1\n",
      "\u001b[1m1/1\u001b[0m \u001b[32m━━━━━━━━━━━━━━━━━━━━\u001b[0m\u001b[37m\u001b[0m \u001b[1m0s\u001b[0m 5ms/step - loss: 0.8377\n",
      "-1.1\n",
      "\u001b[1m1/1\u001b[0m \u001b[32m━━━━━━━━━━━━━━━━━━━━\u001b[0m\u001b[37m\u001b[0m \u001b[1m0s\u001b[0m 6ms/step - loss: 0.9861\n",
      "-1.1\n",
      "\u001b[1m1/1\u001b[0m \u001b[32m━━━━━━━━━━━━━━━━━━━━\u001b[0m\u001b[37m\u001b[0m \u001b[1m0s\u001b[0m 5ms/step - loss: 1.1547\n",
      "-1.1\n",
      "\n",
      "Epoch 1: saving model to modelos/dsa14.keras\n",
      "\u001b[1m1/1\u001b[0m \u001b[32m━━━━━━━━━━━━━━━━━━━━\u001b[0m\u001b[37m\u001b[0m \u001b[1m0s\u001b[0m 14ms/step - loss: 1.4982\n",
      "-1.1\n",
      "\u001b[1m1/1\u001b[0m \u001b[32m━━━━━━━━━━━━━━━━━━━━\u001b[0m\u001b[37m\u001b[0m \u001b[1m0s\u001b[0m 6ms/step - loss: 1.4813\n",
      "-1.1\n",
      "\u001b[1m1/1\u001b[0m \u001b[32m━━━━━━━━━━━━━━━━━━━━\u001b[0m\u001b[37m\u001b[0m \u001b[1m0s\u001b[0m 5ms/step - loss: 0.5769\n",
      "-1.1\n",
      "\u001b[1m1/1\u001b[0m \u001b[32m━━━━━━━━━━━━━━━━━━━━\u001b[0m\u001b[37m\u001b[0m \u001b[1m0s\u001b[0m 5ms/step - loss: 1.7086\n",
      "-1.1\n",
      "\u001b[1m1/1\u001b[0m \u001b[32m━━━━━━━━━━━━━━━━━━━━\u001b[0m\u001b[37m\u001b[0m \u001b[1m0s\u001b[0m 5ms/step - loss: 2.2535\n",
      "-1.1\n",
      "\n",
      "Epoch 1: saving model to modelos/dsa14.keras\n",
      "\u001b[1m1/1\u001b[0m \u001b[32m━━━━━━━━━━━━━━━━━━━━\u001b[0m\u001b[37m\u001b[0m \u001b[1m0s\u001b[0m 12ms/step - loss: 1.0825\n",
      "-1.1\n",
      "\u001b[1m1/1\u001b[0m \u001b[32m━━━━━━━━━━━━━━━━━━━━\u001b[0m\u001b[37m\u001b[0m \u001b[1m0s\u001b[0m 5ms/step - loss: 1.3764\n",
      "-1.1\n",
      "\u001b[1m1/1\u001b[0m \u001b[32m━━━━━━━━━━━━━━━━━━━━\u001b[0m\u001b[37m\u001b[0m \u001b[1m0s\u001b[0m 6ms/step - loss: 1.0571\n",
      "-1.1\n",
      "\u001b[1m1/1\u001b[0m \u001b[32m━━━━━━━━━━━━━━━━━━━━\u001b[0m\u001b[37m\u001b[0m \u001b[1m0s\u001b[0m 5ms/step - loss: 0.7879\n",
      "\u001b[1m1/1\u001b[0m \u001b[32m━━━━━━━━━━━━━━━━━━━━\u001b[0m\u001b[37m\u001b[0m \u001b[1m0s\u001b[0m 5ms/step - loss: 0.7675\n",
      "-1.1\n",
      "\n",
      "Epoch 1: saving model to modelos/dsa14.keras\n",
      "\u001b[1m1/1\u001b[0m \u001b[32m━━━━━━━━━━━━━━━━━━━━\u001b[0m\u001b[37m\u001b[0m \u001b[1m0s\u001b[0m 14ms/step - loss: 1.1277\n",
      "-1.1\n",
      "\u001b[1m1/1\u001b[0m \u001b[32m━━━━━━━━━━━━━━━━━━━━\u001b[0m\u001b[37m\u001b[0m \u001b[1m0s\u001b[0m 6ms/step - loss: 1.5983\n",
      "\u001b[1m1/1\u001b[0m \u001b[32m━━━━━━━━━━━━━━━━━━━━\u001b[0m\u001b[37m\u001b[0m \u001b[1m0s\u001b[0m 5ms/step - loss: 0.5436\n",
      "-1.1\n",
      "\u001b[1m1/1\u001b[0m \u001b[32m━━━━━━━━━━━━━━━━━━━━\u001b[0m\u001b[37m\u001b[0m \u001b[1m0s\u001b[0m 6ms/step - loss: 1.2490\n",
      "-1.1\n",
      "\u001b[1m1/1\u001b[0m \u001b[32m━━━━━━━━━━━━━━━━━━━━\u001b[0m\u001b[37m\u001b[0m \u001b[1m0s\u001b[0m 5ms/step - loss: 1.9011\n",
      "\n",
      "Epoch 1: saving model to modelos/dsa14.keras\n",
      "\u001b[1m1/1\u001b[0m \u001b[32m━━━━━━━━━━━━━━━━━━━━\u001b[0m\u001b[37m\u001b[0m \u001b[1m0s\u001b[0m 11ms/step - loss: 2.1819\n",
      "-1.1\n",
      "\u001b[1m1/1\u001b[0m \u001b[32m━━━━━━━━━━━━━━━━━━━━\u001b[0m\u001b[37m\u001b[0m \u001b[1m0s\u001b[0m 5ms/step - loss: 1.3206\n",
      "-1.1\n",
      "\u001b[1m1/1\u001b[0m \u001b[32m━━━━━━━━━━━━━━━━━━━━\u001b[0m\u001b[37m\u001b[0m \u001b[1m0s\u001b[0m 5ms/step - loss: 0.7012\n",
      "-1.1\n",
      "\u001b[1m1/1\u001b[0m \u001b[32m━━━━━━━━━━━━━━━━━━━━\u001b[0m\u001b[37m\u001b[0m \u001b[1m0s\u001b[0m 5ms/step - loss: 2.7513\n",
      "\u001b[1m1/1\u001b[0m \u001b[32m━━━━━━━━━━━━━━━━━━━━\u001b[0m\u001b[37m\u001b[0m \u001b[1m0s\u001b[0m 6ms/step - loss: 2.4778\n",
      "-1.1\n",
      "\n",
      "Epoch 1: saving model to modelos/dsa14.keras\n",
      "\u001b[1m1/1\u001b[0m \u001b[32m━━━━━━━━━━━━━━━━━━━━\u001b[0m\u001b[37m\u001b[0m \u001b[1m0s\u001b[0m 12ms/step - loss: 1.3711\n",
      "-1.1\n",
      "\u001b[1m1/1\u001b[0m \u001b[32m━━━━━━━━━━━━━━━━━━━━\u001b[0m\u001b[37m\u001b[0m \u001b[1m0s\u001b[0m 6ms/step - loss: 1.6962\n",
      "-1.1\n",
      "\u001b[1m1/1\u001b[0m \u001b[32m━━━━━━━━━━━━━━━━━━━━\u001b[0m\u001b[37m\u001b[0m \u001b[1m0s\u001b[0m 5ms/step - loss: 2.5409\n",
      "-1.1\n",
      "\u001b[1m1/1\u001b[0m \u001b[32m━━━━━━━━━━━━━━━━━━━━\u001b[0m\u001b[37m\u001b[0m \u001b[1m0s\u001b[0m 5ms/step - loss: 0.9052\n",
      "-1.1\n",
      "\u001b[1m1/1\u001b[0m \u001b[32m━━━━━━━━━━━━━━━━━━━━\u001b[0m\u001b[37m\u001b[0m \u001b[1m0s\u001b[0m 5ms/step - loss: 0.9065\n",
      "-1.1\n",
      "\n",
      "Epoch 1: saving model to modelos/dsa14.keras\n",
      "\u001b[1m1/1\u001b[0m \u001b[32m━━━━━━━━━━━━━━━━━━━━\u001b[0m\u001b[37m\u001b[0m \u001b[1m0s\u001b[0m 13ms/step - loss: 0.8640\n",
      "-1.1\n",
      "\u001b[1m1/1\u001b[0m \u001b[32m━━━━━━━━━━━━━━━━━━━━\u001b[0m\u001b[37m\u001b[0m \u001b[1m0s\u001b[0m 6ms/step - loss: 1.5455\n",
      "-1.1\n",
      "\u001b[1m1/1\u001b[0m \u001b[32m━━━━━━━━━━━━━━━━━━━━\u001b[0m\u001b[37m\u001b[0m \u001b[1m0s\u001b[0m 5ms/step - loss: 1.9289\n",
      "-1.1\n",
      "\u001b[1m1/1\u001b[0m \u001b[32m━━━━━━━━━━━━━━━━━━━━\u001b[0m\u001b[37m\u001b[0m \u001b[1m0s\u001b[0m 5ms/step - loss: 0.4012\n",
      "-1.1\n",
      "\u001b[1m1/1\u001b[0m \u001b[32m━━━━━━━━━━━━━━━━━━━━\u001b[0m\u001b[37m\u001b[0m \u001b[1m0s\u001b[0m 6ms/step - loss: 1.2015\n",
      "-1.1\n",
      "\n",
      "Epoch 1: saving model to modelos/dsa14.keras\n",
      "\u001b[1m1/1\u001b[0m \u001b[32m━━━━━━━━━━━━━━━━━━━━\u001b[0m\u001b[37m\u001b[0m \u001b[1m0s\u001b[0m 12ms/step - loss: 1.5281\n",
      "-1.1\n",
      "\u001b[1m1/1\u001b[0m \u001b[32m━━━━━━━━━━━━━━━━━━━━\u001b[0m\u001b[37m\u001b[0m \u001b[1m0s\u001b[0m 5ms/step - loss: 2.3071\n",
      "-1.1\n",
      "\u001b[1m1/1\u001b[0m \u001b[32m━━━━━━━━━━━━━━━━━━━━\u001b[0m\u001b[37m\u001b[0m \u001b[1m0s\u001b[0m 5ms/step - loss: 1.0926\n",
      "\u001b[1m1/1\u001b[0m \u001b[32m━━━━━━━━━━━━━━━━━━━━\u001b[0m\u001b[37m\u001b[0m \u001b[1m0s\u001b[0m 7ms/step - loss: 0.9629\n",
      "Simulação 14 concluída\n",
      "CPU times: user 1h 6min 2s, sys: 7min 43s, total: 1h 13min 45s\n",
      "Wall time: 1h 6min 49s\n"
     ]
    }
   ],
   "source": [
    "%%time\n",
    "\n",
    "# Loop para a simulação\n",
    "for simulation in tqdm(range(0, 15)):\n",
    "    \n",
    "    # Exibe a mensagem indicando que a simulação começou\n",
    "    print(f\"Iniciando simulação {simulation}\")\n",
    "\n",
    "    # Define o caminho para salvar o ponto de verificação do modelo para cada simulação\n",
    "    checkpoint_path = f\"modelos/dsa{simulation}.keras\"\n",
    "    \n",
    "    # Cria o callback para salvar o modelo em pontos de verificação a cada 5 iterações\n",
    "    cp_callback = tf.keras.callbacks.ModelCheckpoint(filepath = checkpoint_path,\n",
    "                                                     verbose = 2, \n",
    "                                                     save_weights_only = False, \n",
    "                                                     save_freq = 5)\n",
    "    \n",
    "    # Inicializa o preço da ação com o preço inicial da opção\n",
    "    spot = dsa_hedge.option.s0\n",
    "    \n",
    "    # Define a maturidade inicial da opção\n",
    "    maturity = dsa_hedge.option.expiry\n",
    "\n",
    "    # Loop sobre cada dia dentro do número de passos de tempo da simulação\n",
    "    for day in range(dsa_hedge.num_of_timestep):\n",
    "        \n",
    "        # Verifica se a memória de replay tem o comprimento mínimo necessário\n",
    "        if len(replay_memory) >= min_length:\n",
    "            \n",
    "            # Escolhe uma ação aleatória com probabilidade eps ou a ação gulosa usando o modelo Q\n",
    "            if random.random() < eps:\n",
    "                action = random.choice(dsa_hedge.A)\n",
    "            else:\n",
    "                action = dsa_policy(spot, maturity, dsa_qmodel, dsa_hedge)[0]\n",
    "                print(action)\n",
    "        else:\n",
    "            # Se a memória de replay for pequena, utiliza uma aproximação baseada no delta para escolher a ação\n",
    "            delta_value = -1 * dsa_hedge.greekd.iloc[simulation, day]\n",
    "            action = find_nearest(dsa_hedge.A, delta_value)\n",
    "\n",
    "        # Calcula a recompensa para a ação escolhida\n",
    "        rwrd = dsa_hedge.R(simulation, day, action)\n",
    "        \n",
    "        # Obtém o próximo preço da ação e a nova maturidade\n",
    "        (next_spot, next_maturity) = dsa_hedge.T(simulation, day, maturity)\n",
    "\n",
    "        # Armazena a transição (estado atual, ação, estado futuro, recompensa) na memória de replay\n",
    "        memory = Memory(spot, maturity, action, next_spot, next_maturity, rwrd)\n",
    "        replay_memory.store(memory)\n",
    "\n",
    "        # Se a memória de replay tiver o comprimento mínimo necessário\n",
    "        if len(replay_memory) >= min_length:\n",
    "            \n",
    "            # Obtém um lote estruturado de amostras da memória de replay\n",
    "            batch = replay_memory.structured_sample(batch_size) \n",
    "            \n",
    "            # Inicializa listas para armazenar dados de entrada e alvos\n",
    "            input_data = []\n",
    "            targets = []\n",
    "            \n",
    "            # Preenche os dados de entrada e os alvos para o treinamento do modelo\n",
    "            for replay_sample in range(batch_size):\n",
    "                \n",
    "                # Append dos dados de entrada\n",
    "                input_data.append([batch['spot'][replay_sample],\n",
    "                                   batch['maturity'][replay_sample],\n",
    "                                   batch['action'][replay_sample]])\n",
    "                \n",
    "                # Calcula o valor alvo Q* usando o modelo Q e a ação gulosa\n",
    "                Q_star = batch['reward'][replay_sample] + gamma * dsa_policy(batch['next_spot'][replay_sample],\n",
    "                                                                             batch['next_maturity'][replay_sample],\n",
    "                                                                             dsa_qmodel, \n",
    "                                                                             dsa_hedge)[1]\n",
    "                targets.append([Q_star])\n",
    "\n",
    "            # Converte os dados de entrada e alvos para tensores do TensorFlow\n",
    "            input_data = tf.constant(input_data)\n",
    "            targets = tf.constant(targets)\n",
    "            \n",
    "            # Treina o modelo Q usando os dados de entrada e os alvos\n",
    "            dsa_qmodel.fit(input_data, \n",
    "                           targets, \n",
    "                           epochs = 1, \n",
    "                           batch_size = batch_size, \n",
    "                           verbose = 1, \n",
    "                           callbacks = [cp_callback])\n",
    "\n",
    "        # Atualiza o estado atual (spot e maturity) para o próximo estado\n",
    "        (spot, maturity) = (next_spot, next_maturity)\n",
    "\n",
    "    # Decai o valor de epsilon para reduzir a exploração e aumentar a exploração ao longo do tempo\n",
    "    eps = max(min_eps, eps * eps_decay)\n",
    "    \n",
    "    # Exibe a mensagem indicando que a simulação terminou\n",
    "    print(f\"Simulação {simulation} concluída\")"
   ]
  },
  {
   "cell_type": "code",
   "execution_count": null,
   "metadata": {},
   "outputs": [],
   "source": [
    "# Salva o modelo final em disco\n",
    "dsa_qmodel.save('modelos/dsa_qmodel.keras')"
   ]
  },
  {
   "cell_type": "markdown",
   "metadata": {},
   "source": [
    "## Funções Para Cálculo da Recompensa"
   ]
  },
  {
   "cell_type": "markdown",
   "metadata": {},
   "source": [
    "O modelo aprendeu a investir de modo a obter o melhor resultado possível na estratégia de hedging. A função abaixo vai calcular a recompensa para avaliarmos o modelo e então compará-lo com o delta da opção (que não usa IA). Ou seja, vamos comparar duas estratégias, com e sem IA. Aqui estão os pontos principais da função:\n",
    "\n",
    "**Inicialização do problema de hedge**: A função começa inicializando um objeto Hedging chamado hedge_eval, que utiliza os dados de teste fornecidos, como variações de preço e valores delta (delta_s_test, delta_c_test, etc.).\n",
    "\n",
    "**Criação dos DataFrames**: Dois DataFrames vazios são criados: reward_calc para armazenar as recompensas e action_calc para armazenar as ações tomadas durante as avaliações. O índice desses DataFrames é igual ao índice de delta_s_test e as colunas representam o número de passos de tempo.\n",
    "\n",
    "**Loop de avaliação**: A função executa n_evals simulações para avaliar a política de hedge. Para cada simulação (eval), o preço inicial (spot) e a maturidade da opção são definidos.\n",
    "\n",
    "**Escolha da ação**: Em cada dia da simulação, dependendo do mode, a função escolhe uma ação:\n",
    "\n",
    "- 'ql' (Q-learning): A ação é escolhida usando uma abordagem gulosa (greedy) com base no modelo loaded_model.\n",
    "- 'delta': A ação é escolhida com base no valor do delta da opção.\n",
    "- Exceção: Se o mode não for 'ql' ou 'delta', a função levanta uma exceção.\n",
    "\n",
    "**Armazenamento de ações e recompensas**: A função armazena a ação selecionada no DataFrame action_calc e a recompensa calculada no DataFrame reward_calc.\n",
    "\n",
    "**Atualização dos estados**: O preço da ação (spot) e a maturidade são atualizados a cada iteração com base nos novos valores calculados pela função T da classe HedgingProblem.\n",
    "\n",
    "**Retorno**: No final, a função retorna os DataFrames reward_calc e action_calc que contêm, respectivamente, as recompensas e as ações calculadas para cada simulação e cada passo de tempo.\n",
    "\n",
    "Esse processo permite comparar o desempenho de diferentes estratégias de hedge, como Q-learning (mode='ql') ou com base no delta (mode='delta')."
   ]
  },
  {
   "cell_type": "code",
   "execution_count": null,
   "metadata": {},
   "outputs": [],
   "source": [
    "# Função\n",
    "def dsa_calcula_reward(mode = 'ql', n_evals = 10):\n",
    "    \n",
    "    # Inicializa o problema de hedge com os dados de teste (delta_s_test, delta_c_test, etc.)\n",
    "    hedge_eval = Hedging(ds = delta_s_test, \n",
    "                         dc = delta_c_test, \n",
    "                         greekd = delta_df_test, \n",
    "                         stock_prices = spot_df_test, \n",
    "                         num_of_timestep = num_of_timestep,\n",
    "                         dstilde = delta_s_final_test, \n",
    "                         dctilde = delta_c_final_test) \n",
    "\n",
    "    # Cria um DataFrame vazio para armazenar as recompensas calculadas, com o mesmo índice de delta_s_test\n",
    "    reward_calc = pd.DataFrame([], index = delta_s_test.index, columns = range(num_of_timestep))\n",
    "    \n",
    "    # Cria um DataFrame vazio para armazenar as ações (decisões) do modelo\n",
    "    action_calc = pd.DataFrame([], index = delta_s_test.index, columns = range(num_of_timestep))\n",
    "    \n",
    "    # Loop para avaliar o hedge, executado n_evals vezes\n",
    "    for eval in tqdm(range(n_evals)):\n",
    "        \n",
    "        # Inicializa o preço da ação e a maturidade a partir da opção\n",
    "        spot = hedge_eval.option.s0\n",
    "        maturity = hedge_eval.option.expiry\n",
    "\n",
    "        # Loop sobre cada dia dentro do número de passos de tempo\n",
    "        for day in range(dsa_hedge.num_of_timestep):\n",
    "            \n",
    "            # Se o modo for 'ql' (Q-learning), seleciona a ação gulosa (greedy) usando o modelo carregado\n",
    "            if mode == 'ql':\n",
    "                action = dsa_policy(spot, maturity, loaded_model, hedge_eval)[0]\n",
    "            \n",
    "            # Se o modo for 'delta', seleciona a ação com base no valor do delta (sem usar IA)\n",
    "            elif mode == 'delta':\n",
    "                delta_value = -1 * delta_df_test.iloc[eval, day]\n",
    "                action = find_nearest(hedge_eval.A, delta_value)\n",
    "            \n",
    "            # Se o modo não for suportado, gera uma exceção\n",
    "            else:\n",
    "                raise Exception('Modo não suportado')\n",
    "\n",
    "            # Armazena a ação calculada no DataFrame action_calc\n",
    "            action_calc.iloc[eval, day] = action\n",
    "            \n",
    "            # Calcula a recompensa para a ação e a armazena no DataFrame reward_calc\n",
    "            rwrd = hedge_eval.R(eval, day, action)\n",
    "            reward_calc.iloc[eval, day] = rwrd\n",
    "\n",
    "            # Atualiza o preço da ação e a maturidade para o próximo passo de tempo\n",
    "            (next_spot, next_maturity) = hedge_eval.T(eval, day, maturity)\n",
    "            (spot, maturity) = (next_spot, next_maturity)\n",
    "\n",
    "    # Retorna os DataFrames de recompensas e ações calculadas\n",
    "    return reward_calc, action_calc"
   ]
  },
  {
   "cell_type": "markdown",
   "metadata": {},
   "source": [
    "> A função abaixo será usada para calcular a recompensa total."
   ]
  },
  {
   "cell_type": "markdown",
   "metadata": {},
   "source": [
    "A função calcula a recompensa média para o passo de tempo t usando reward_calc.loc[:, t].mean(). Essa recompensa média é multiplicada por um fator de desconto exponencial, dado por np.exp(-r * delta_t * t), onde r é a taxa de juros e delta_t é o intervalo de tempo entre os passos.\n",
    "\n",
    "A recompensa descontada para cada passo de tempo é somada à variável total_reward, que acumula o valor total. A função retorna o valor da recompensa total acumulada ao final do loop, considerando o efeito do desconto em cada passo de tempo."
   ]
  },
  {
   "cell_type": "code",
   "execution_count": null,
   "metadata": {},
   "outputs": [],
   "source": [
    "# Função\n",
    "def dsa_calcula_total_reward(reward_calc):\n",
    "    \n",
    "    # Cria uma cópia do DataFrame de recompensas para evitar modificações no original\n",
    "    reward_calc = reward_calc.copy()\n",
    "    \n",
    "    # Inicializa a variável para armazenar a recompensa total\n",
    "    total_reward = 0.0\n",
    "    \n",
    "    # Loop sobre cada passo de tempo no intervalo definido por num_of_timestep\n",
    "    for t in range(num_of_timestep):\n",
    "        \n",
    "        # Calcula a recompensa descontada para o passo de tempo t e soma à recompensa total\n",
    "        total_reward = total_reward + np.exp(-r * delta_t * t) * reward_calc.loc[:, t].mean()\n",
    "    \n",
    "    # Retorna a recompensa total acumulada\n",
    "    return total_reward"
   ]
  },
  {
   "cell_type": "markdown",
   "metadata": {},
   "source": [
    "## Avaliando a Estratégia de Hedge nos Passos de Tempo"
   ]
  },
  {
   "cell_type": "code",
   "execution_count": null,
   "metadata": {},
   "outputs": [],
   "source": [
    "# Carrega o modelo do disco\n",
    "loaded_model = tf.keras.models.load_model('modelos/dsa_qmodel.keras')"
   ]
  },
  {
   "cell_type": "code",
   "execution_count": null,
   "metadata": {},
   "outputs": [],
   "source": [
    "%%time\n",
    "\n",
    "# Recompensa ao longo do tempo usando o modelo de aprendizado por reforço\n",
    "reward_q, action_q = dsa_calcula_reward(mode = 'ql', n_evals = 10)"
   ]
  },
  {
   "cell_type": "code",
   "execution_count": null,
   "metadata": {},
   "outputs": [],
   "source": [
    "%%time\n",
    "\n",
    "# Recompensa ao longo do tempo usando o delta hedge (medida de sensibilidade, sem usar IA)\n",
    "reward_delta, action_delta = dsa_calcula_reward(mode = 'delta', n_evals = 10)"
   ]
  },
  {
   "cell_type": "code",
   "execution_count": null,
   "metadata": {},
   "outputs": [],
   "source": [
    "# Calcula a recompensa total\n",
    "total_reward_q = dsa_calcula_total_reward(reward_q)\n",
    "total_reward_delta = dsa_calcula_total_reward(reward_delta)"
   ]
  },
  {
   "cell_type": "code",
   "execution_count": null,
   "metadata": {},
   "outputs": [],
   "source": [
    "total_reward_q, total_reward_delta"
   ]
  },
  {
   "cell_type": "code",
   "execution_count": null,
   "metadata": {},
   "outputs": [],
   "source": [
    "# Plot\n",
    "\n",
    "# Cria uma lista de scatter plots\n",
    "scatter_list = [go.Scatter(x = reward_delta.columns, \n",
    "                           y = reward_delta.mean(axis = 0).values, \n",
    "                           line = dict(dash = 'dash'),  \n",
    "                           name = 'Delta Hedge'),\n",
    "                go.Scatter(x = reward_q.columns, \n",
    "                           y = reward_q.mean(axis = 0).values, \n",
    "                           name = 'Q-Learning Hedge')]\n",
    "\n",
    "# Cria o layout\n",
    "layout = go.Layout(title = go.layout.Title(text = '', x = 0.5),\n",
    "                   width = 800,\n",
    "                   height = 400)\n",
    "\n",
    "fig = go.Figure(data = scatter_list, layout = layout)\n",
    "fig.update_layout(xaxis_title = \"Timestep\", yaxis_title = \"Recompensa\", margin = dict(t = 10))\n",
    "fig.show()"
   ]
  },
  {
   "cell_type": "code",
   "execution_count": null,
   "metadata": {
    "id": "9Pap5l-u3JKR"
   },
   "outputs": [],
   "source": [
    "%watermark -a \"Data Science Academy\""
   ]
  },
  {
   "cell_type": "code",
   "execution_count": null,
   "metadata": {},
   "outputs": [],
   "source": [
    "#%watermark -v -m"
   ]
  },
  {
   "cell_type": "code",
   "execution_count": null,
   "metadata": {},
   "outputs": [],
   "source": [
    "#%watermark --iversions"
   ]
  },
  {
   "cell_type": "markdown",
   "metadata": {},
   "source": [
    "# Fim"
   ]
  }
 ],
 "metadata": {
  "accelerator": "TPU",
  "colab": {
   "machine_shape": "hm",
   "provenance": [],
   "toc_visible": true
  },
  "kernelspec": {
   "display_name": "Python 3 (ipykernel)",
   "language": "python",
   "name": "python3"
  },
  "language_info": {
   "codemirror_mode": {
    "name": "ipython",
    "version": 3
   },
   "file_extension": ".py",
   "mimetype": "text/x-python",
   "name": "python",
   "nbconvert_exporter": "python",
   "pygments_lexer": "ipython3",
   "version": "3.12.11"
  },
  "widgets": {
   "application/vnd.jupyter.widget-state+json": {
    "023cb67248834e38bcff45a9e6cf0312": {
     "model_module": "@jupyter-widgets/controls",
     "model_module_version": "1.5.0",
     "model_name": "DescriptionStyleModel",
     "state": {
      "_model_module": "@jupyter-widgets/controls",
      "_model_module_version": "1.5.0",
      "_model_name": "DescriptionStyleModel",
      "_view_count": null,
      "_view_module": "@jupyter-widgets/base",
      "_view_module_version": "1.2.0",
      "_view_name": "StyleView",
      "description_width": ""
     }
    },
    "04aa9f6f9db24f1b8b029b3a18f4dd52": {
     "model_module": "@jupyter-widgets/base",
     "model_module_version": "1.2.0",
     "model_name": "LayoutModel",
     "state": {
      "_model_module": "@jupyter-widgets/base",
      "_model_module_version": "1.2.0",
      "_model_name": "LayoutModel",
      "_view_count": null,
      "_view_module": "@jupyter-widgets/base",
      "_view_module_version": "1.2.0",
      "_view_name": "LayoutView",
      "align_content": null,
      "align_items": null,
      "align_self": null,
      "border": null,
      "bottom": null,
      "display": null,
      "flex": null,
      "flex_flow": null,
      "grid_area": null,
      "grid_auto_columns": null,
      "grid_auto_flow": null,
      "grid_auto_rows": null,
      "grid_column": null,
      "grid_gap": null,
      "grid_row": null,
      "grid_template_areas": null,
      "grid_template_columns": null,
      "grid_template_rows": null,
      "height": null,
      "justify_content": null,
      "justify_items": null,
      "left": null,
      "margin": null,
      "max_height": null,
      "max_width": null,
      "min_height": null,
      "min_width": null,
      "object_fit": null,
      "object_position": null,
      "order": null,
      "overflow": null,
      "overflow_x": null,
      "overflow_y": null,
      "padding": null,
      "right": null,
      "top": null,
      "visibility": null,
      "width": null
     }
    },
    "1a220cdd84434cb7a96e2b1e6af9bee8": {
     "model_module": "@jupyter-widgets/controls",
     "model_module_version": "1.5.0",
     "model_name": "HTMLModel",
     "state": {
      "_dom_classes": [],
      "_model_module": "@jupyter-widgets/controls",
      "_model_module_version": "1.5.0",
      "_model_name": "HTMLModel",
      "_view_count": null,
      "_view_module": "@jupyter-widgets/controls",
      "_view_module_version": "1.5.0",
      "_view_name": "HTMLView",
      "description": "",
      "description_tooltip": null,
      "layout": "IPY_MODEL_d7c10e80b5644497b7549b762b9dc209",
      "placeholder": "​",
      "style": "IPY_MODEL_023cb67248834e38bcff45a9e6cf0312",
      "value": "100%"
     }
    },
    "1b0e644bd1804743ba16a244708b95b3": {
     "model_module": "@jupyter-widgets/base",
     "model_module_version": "1.2.0",
     "model_name": "LayoutModel",
     "state": {
      "_model_module": "@jupyter-widgets/base",
      "_model_module_version": "1.2.0",
      "_model_name": "LayoutModel",
      "_view_count": null,
      "_view_module": "@jupyter-widgets/base",
      "_view_module_version": "1.2.0",
      "_view_name": "LayoutView",
      "align_content": null,
      "align_items": null,
      "align_self": null,
      "border": null,
      "bottom": null,
      "display": null,
      "flex": null,
      "flex_flow": null,
      "grid_area": null,
      "grid_auto_columns": null,
      "grid_auto_flow": null,
      "grid_auto_rows": null,
      "grid_column": null,
      "grid_gap": null,
      "grid_row": null,
      "grid_template_areas": null,
      "grid_template_columns": null,
      "grid_template_rows": null,
      "height": null,
      "justify_content": null,
      "justify_items": null,
      "left": null,
      "margin": null,
      "max_height": null,
      "max_width": null,
      "min_height": null,
      "min_width": null,
      "object_fit": null,
      "object_position": null,
      "order": null,
      "overflow": null,
      "overflow_x": null,
      "overflow_y": null,
      "padding": null,
      "right": null,
      "top": null,
      "visibility": null,
      "width": null
     }
    },
    "1e5cea66c8e34a538f608da22ee10a83": {
     "model_module": "@jupyter-widgets/controls",
     "model_module_version": "1.5.0",
     "model_name": "HBoxModel",
     "state": {
      "_dom_classes": [],
      "_model_module": "@jupyter-widgets/controls",
      "_model_module_version": "1.5.0",
      "_model_name": "HBoxModel",
      "_view_count": null,
      "_view_module": "@jupyter-widgets/controls",
      "_view_module_version": "1.5.0",
      "_view_name": "HBoxView",
      "box_style": "",
      "children": [
       "IPY_MODEL_f574a59436974550b6d27337a6728516",
       "IPY_MODEL_2af491330f8a412881d8a86f802d5e69",
       "IPY_MODEL_fafcad3e01464e61a77ecf8c2c3c4571"
      ],
      "layout": "IPY_MODEL_8a6bab4fc90a419b88484b89d485ac52"
     }
    },
    "212e978624784f5981f8b4c6196bac72": {
     "model_module": "@jupyter-widgets/base",
     "model_module_version": "1.2.0",
     "model_name": "LayoutModel",
     "state": {
      "_model_module": "@jupyter-widgets/base",
      "_model_module_version": "1.2.0",
      "_model_name": "LayoutModel",
      "_view_count": null,
      "_view_module": "@jupyter-widgets/base",
      "_view_module_version": "1.2.0",
      "_view_name": "LayoutView",
      "align_content": null,
      "align_items": null,
      "align_self": null,
      "border": null,
      "bottom": null,
      "display": null,
      "flex": null,
      "flex_flow": null,
      "grid_area": null,
      "grid_auto_columns": null,
      "grid_auto_flow": null,
      "grid_auto_rows": null,
      "grid_column": null,
      "grid_gap": null,
      "grid_row": null,
      "grid_template_areas": null,
      "grid_template_columns": null,
      "grid_template_rows": null,
      "height": null,
      "justify_content": null,
      "justify_items": null,
      "left": null,
      "margin": null,
      "max_height": null,
      "max_width": null,
      "min_height": null,
      "min_width": null,
      "object_fit": null,
      "object_position": null,
      "order": null,
      "overflow": null,
      "overflow_x": null,
      "overflow_y": null,
      "padding": null,
      "right": null,
      "top": null,
      "visibility": null,
      "width": null
     }
    },
    "222d20bedd3441feac5a016efa451f95": {
     "model_module": "@jupyter-widgets/controls",
     "model_module_version": "1.5.0",
     "model_name": "HBoxModel",
     "state": {
      "_dom_classes": [],
      "_model_module": "@jupyter-widgets/controls",
      "_model_module_version": "1.5.0",
      "_model_name": "HBoxModel",
      "_view_count": null,
      "_view_module": "@jupyter-widgets/controls",
      "_view_module_version": "1.5.0",
      "_view_name": "HBoxView",
      "box_style": "",
      "children": [
       "IPY_MODEL_1a220cdd84434cb7a96e2b1e6af9bee8",
       "IPY_MODEL_a14b7b409cc14bc2b89378b84417f4f5",
       "IPY_MODEL_aac6e4bcd79a4b6db99160f41e32c23d"
      ],
      "layout": "IPY_MODEL_295e06b7682e4f489c8f86e5200ac801"
     }
    },
    "295e06b7682e4f489c8f86e5200ac801": {
     "model_module": "@jupyter-widgets/base",
     "model_module_version": "1.2.0",
     "model_name": "LayoutModel",
     "state": {
      "_model_module": "@jupyter-widgets/base",
      "_model_module_version": "1.2.0",
      "_model_name": "LayoutModel",
      "_view_count": null,
      "_view_module": "@jupyter-widgets/base",
      "_view_module_version": "1.2.0",
      "_view_name": "LayoutView",
      "align_content": null,
      "align_items": null,
      "align_self": null,
      "border": null,
      "bottom": null,
      "display": null,
      "flex": null,
      "flex_flow": null,
      "grid_area": null,
      "grid_auto_columns": null,
      "grid_auto_flow": null,
      "grid_auto_rows": null,
      "grid_column": null,
      "grid_gap": null,
      "grid_row": null,
      "grid_template_areas": null,
      "grid_template_columns": null,
      "grid_template_rows": null,
      "height": null,
      "justify_content": null,
      "justify_items": null,
      "left": null,
      "margin": null,
      "max_height": null,
      "max_width": null,
      "min_height": null,
      "min_width": null,
      "object_fit": null,
      "object_position": null,
      "order": null,
      "overflow": null,
      "overflow_x": null,
      "overflow_y": null,
      "padding": null,
      "right": null,
      "top": null,
      "visibility": null,
      "width": null
     }
    },
    "2af491330f8a412881d8a86f802d5e69": {
     "model_module": "@jupyter-widgets/controls",
     "model_module_version": "1.5.0",
     "model_name": "FloatProgressModel",
     "state": {
      "_dom_classes": [],
      "_model_module": "@jupyter-widgets/controls",
      "_model_module_version": "1.5.0",
      "_model_name": "FloatProgressModel",
      "_view_count": null,
      "_view_module": "@jupyter-widgets/controls",
      "_view_module_version": "1.5.0",
      "_view_name": "ProgressView",
      "bar_style": "danger",
      "description": "",
      "description_tooltip": null,
      "layout": "IPY_MODEL_212e978624784f5981f8b4c6196bac72",
      "max": 5,
      "min": 0,
      "orientation": "horizontal",
      "style": "IPY_MODEL_a6d1b5dac0e345c7b1dd31f165746cf4",
      "value": 0
     }
    },
    "308c87301ca745c38ae8f2db0933f37d": {
     "model_module": "@jupyter-widgets/controls",
     "model_module_version": "1.5.0",
     "model_name": "ProgressStyleModel",
     "state": {
      "_model_module": "@jupyter-widgets/controls",
      "_model_module_version": "1.5.0",
      "_model_name": "ProgressStyleModel",
      "_view_count": null,
      "_view_module": "@jupyter-widgets/base",
      "_view_module_version": "1.2.0",
      "_view_name": "StyleView",
      "bar_color": null,
      "description_width": ""
     }
    },
    "3d1ed880b6e1458cb2e5d21ddf4f934b": {
     "model_module": "@jupyter-widgets/controls",
     "model_module_version": "1.5.0",
     "model_name": "HTMLModel",
     "state": {
      "_dom_classes": [],
      "_model_module": "@jupyter-widgets/controls",
      "_model_module_version": "1.5.0",
      "_model_name": "HTMLModel",
      "_view_count": null,
      "_view_module": "@jupyter-widgets/controls",
      "_view_module_version": "1.5.0",
      "_view_name": "HTMLView",
      "description": "",
      "description_tooltip": null,
      "layout": "IPY_MODEL_538037f0c5c94e2598643938aa515ab8",
      "placeholder": "​",
      "style": "IPY_MODEL_e0882fc1aa0043508f41edc2a4d0e8f1",
      "value": " 10/10 [08:59&lt;00:00, 54.09s/it]"
     }
    },
    "4a07c8c260844a48ac3cd70a072b4255": {
     "model_module": "@jupyter-widgets/controls",
     "model_module_version": "1.5.0",
     "model_name": "FloatProgressModel",
     "state": {
      "_dom_classes": [],
      "_model_module": "@jupyter-widgets/controls",
      "_model_module_version": "1.5.0",
      "_model_name": "FloatProgressModel",
      "_view_count": null,
      "_view_module": "@jupyter-widgets/controls",
      "_view_module_version": "1.5.0",
      "_view_name": "ProgressView",
      "bar_style": "success",
      "description": "",
      "description_tooltip": null,
      "layout": "IPY_MODEL_e06b55b3952848779aa8e1f0cca64f42",
      "max": 10,
      "min": 0,
      "orientation": "horizontal",
      "style": "IPY_MODEL_308c87301ca745c38ae8f2db0933f37d",
      "value": 10
     }
    },
    "4e4f97f19c584604958822a292d6aafd": {
     "model_module": "@jupyter-widgets/base",
     "model_module_version": "1.2.0",
     "model_name": "LayoutModel",
     "state": {
      "_model_module": "@jupyter-widgets/base",
      "_model_module_version": "1.2.0",
      "_model_name": "LayoutModel",
      "_view_count": null,
      "_view_module": "@jupyter-widgets/base",
      "_view_module_version": "1.2.0",
      "_view_name": "LayoutView",
      "align_content": null,
      "align_items": null,
      "align_self": null,
      "border": null,
      "bottom": null,
      "display": null,
      "flex": null,
      "flex_flow": null,
      "grid_area": null,
      "grid_auto_columns": null,
      "grid_auto_flow": null,
      "grid_auto_rows": null,
      "grid_column": null,
      "grid_gap": null,
      "grid_row": null,
      "grid_template_areas": null,
      "grid_template_columns": null,
      "grid_template_rows": null,
      "height": null,
      "justify_content": null,
      "justify_items": null,
      "left": null,
      "margin": null,
      "max_height": null,
      "max_width": null,
      "min_height": null,
      "min_width": null,
      "object_fit": null,
      "object_position": null,
      "order": null,
      "overflow": null,
      "overflow_x": null,
      "overflow_y": null,
      "padding": null,
      "right": null,
      "top": null,
      "visibility": null,
      "width": null
     }
    },
    "538037f0c5c94e2598643938aa515ab8": {
     "model_module": "@jupyter-widgets/base",
     "model_module_version": "1.2.0",
     "model_name": "LayoutModel",
     "state": {
      "_model_module": "@jupyter-widgets/base",
      "_model_module_version": "1.2.0",
      "_model_name": "LayoutModel",
      "_view_count": null,
      "_view_module": "@jupyter-widgets/base",
      "_view_module_version": "1.2.0",
      "_view_name": "LayoutView",
      "align_content": null,
      "align_items": null,
      "align_self": null,
      "border": null,
      "bottom": null,
      "display": null,
      "flex": null,
      "flex_flow": null,
      "grid_area": null,
      "grid_auto_columns": null,
      "grid_auto_flow": null,
      "grid_auto_rows": null,
      "grid_column": null,
      "grid_gap": null,
      "grid_row": null,
      "grid_template_areas": null,
      "grid_template_columns": null,
      "grid_template_rows": null,
      "height": null,
      "justify_content": null,
      "justify_items": null,
      "left": null,
      "margin": null,
      "max_height": null,
      "max_width": null,
      "min_height": null,
      "min_width": null,
      "object_fit": null,
      "object_position": null,
      "order": null,
      "overflow": null,
      "overflow_x": null,
      "overflow_y": null,
      "padding": null,
      "right": null,
      "top": null,
      "visibility": null,
      "width": null
     }
    },
    "731b0623977d4b2da9164b33d8322458": {
     "model_module": "@jupyter-widgets/controls",
     "model_module_version": "1.5.0",
     "model_name": "DescriptionStyleModel",
     "state": {
      "_model_module": "@jupyter-widgets/controls",
      "_model_module_version": "1.5.0",
      "_model_name": "DescriptionStyleModel",
      "_view_count": null,
      "_view_module": "@jupyter-widgets/base",
      "_view_module_version": "1.2.0",
      "_view_name": "StyleView",
      "description_width": ""
     }
    },
    "7b5248f355064d81a3c26ab04c953bb1": {
     "model_module": "@jupyter-widgets/controls",
     "model_module_version": "1.5.0",
     "model_name": "DescriptionStyleModel",
     "state": {
      "_model_module": "@jupyter-widgets/controls",
      "_model_module_version": "1.5.0",
      "_model_name": "DescriptionStyleModel",
      "_view_count": null,
      "_view_module": "@jupyter-widgets/base",
      "_view_module_version": "1.2.0",
      "_view_name": "StyleView",
      "description_width": ""
     }
    },
    "7c8c60268a6a4e2f83998c0797abbee2": {
     "model_module": "@jupyter-widgets/base",
     "model_module_version": "1.2.0",
     "model_name": "LayoutModel",
     "state": {
      "_model_module": "@jupyter-widgets/base",
      "_model_module_version": "1.2.0",
      "_model_name": "LayoutModel",
      "_view_count": null,
      "_view_module": "@jupyter-widgets/base",
      "_view_module_version": "1.2.0",
      "_view_name": "LayoutView",
      "align_content": null,
      "align_items": null,
      "align_self": null,
      "border": null,
      "bottom": null,
      "display": null,
      "flex": null,
      "flex_flow": null,
      "grid_area": null,
      "grid_auto_columns": null,
      "grid_auto_flow": null,
      "grid_auto_rows": null,
      "grid_column": null,
      "grid_gap": null,
      "grid_row": null,
      "grid_template_areas": null,
      "grid_template_columns": null,
      "grid_template_rows": null,
      "height": null,
      "justify_content": null,
      "justify_items": null,
      "left": null,
      "margin": null,
      "max_height": null,
      "max_width": null,
      "min_height": null,
      "min_width": null,
      "object_fit": null,
      "object_position": null,
      "order": null,
      "overflow": null,
      "overflow_x": null,
      "overflow_y": null,
      "padding": null,
      "right": null,
      "top": null,
      "visibility": null,
      "width": null
     }
    },
    "85858143aade40f5a591fb4ee6889668": {
     "model_module": "@jupyter-widgets/controls",
     "model_module_version": "1.5.0",
     "model_name": "DescriptionStyleModel",
     "state": {
      "_model_module": "@jupyter-widgets/controls",
      "_model_module_version": "1.5.0",
      "_model_name": "DescriptionStyleModel",
      "_view_count": null,
      "_view_module": "@jupyter-widgets/base",
      "_view_module_version": "1.2.0",
      "_view_name": "StyleView",
      "description_width": ""
     }
    },
    "87d057bb1bb94ee09fc07defa5b47033": {
     "model_module": "@jupyter-widgets/controls",
     "model_module_version": "1.5.0",
     "model_name": "HTMLModel",
     "state": {
      "_dom_classes": [],
      "_model_module": "@jupyter-widgets/controls",
      "_model_module_version": "1.5.0",
      "_model_name": "HTMLModel",
      "_view_count": null,
      "_view_module": "@jupyter-widgets/controls",
      "_view_module_version": "1.5.0",
      "_view_name": "HTMLView",
      "description": "",
      "description_tooltip": null,
      "layout": "IPY_MODEL_4e4f97f19c584604958822a292d6aafd",
      "placeholder": "​",
      "style": "IPY_MODEL_85858143aade40f5a591fb4ee6889668",
      "value": "100%"
     }
    },
    "8a6bab4fc90a419b88484b89d485ac52": {
     "model_module": "@jupyter-widgets/base",
     "model_module_version": "1.2.0",
     "model_name": "LayoutModel",
     "state": {
      "_model_module": "@jupyter-widgets/base",
      "_model_module_version": "1.2.0",
      "_model_name": "LayoutModel",
      "_view_count": null,
      "_view_module": "@jupyter-widgets/base",
      "_view_module_version": "1.2.0",
      "_view_name": "LayoutView",
      "align_content": null,
      "align_items": null,
      "align_self": null,
      "border": null,
      "bottom": null,
      "display": null,
      "flex": null,
      "flex_flow": null,
      "grid_area": null,
      "grid_auto_columns": null,
      "grid_auto_flow": null,
      "grid_auto_rows": null,
      "grid_column": null,
      "grid_gap": null,
      "grid_row": null,
      "grid_template_areas": null,
      "grid_template_columns": null,
      "grid_template_rows": null,
      "height": null,
      "justify_content": null,
      "justify_items": null,
      "left": null,
      "margin": null,
      "max_height": null,
      "max_width": null,
      "min_height": null,
      "min_width": null,
      "object_fit": null,
      "object_position": null,
      "order": null,
      "overflow": null,
      "overflow_x": null,
      "overflow_y": null,
      "padding": null,
      "right": null,
      "top": null,
      "visibility": null,
      "width": null
     }
    },
    "9d55e04487a34ca1bd2aa43e79144e70": {
     "model_module": "@jupyter-widgets/base",
     "model_module_version": "1.2.0",
     "model_name": "LayoutModel",
     "state": {
      "_model_module": "@jupyter-widgets/base",
      "_model_module_version": "1.2.0",
      "_model_name": "LayoutModel",
      "_view_count": null,
      "_view_module": "@jupyter-widgets/base",
      "_view_module_version": "1.2.0",
      "_view_name": "LayoutView",
      "align_content": null,
      "align_items": null,
      "align_self": null,
      "border": null,
      "bottom": null,
      "display": null,
      "flex": null,
      "flex_flow": null,
      "grid_area": null,
      "grid_auto_columns": null,
      "grid_auto_flow": null,
      "grid_auto_rows": null,
      "grid_column": null,
      "grid_gap": null,
      "grid_row": null,
      "grid_template_areas": null,
      "grid_template_columns": null,
      "grid_template_rows": null,
      "height": null,
      "justify_content": null,
      "justify_items": null,
      "left": null,
      "margin": null,
      "max_height": null,
      "max_width": null,
      "min_height": null,
      "min_width": null,
      "object_fit": null,
      "object_position": null,
      "order": null,
      "overflow": null,
      "overflow_x": null,
      "overflow_y": null,
      "padding": null,
      "right": null,
      "top": null,
      "visibility": null,
      "width": null
     }
    },
    "9e53c6f4823d453ba2ffeb01372f572f": {
     "model_module": "@jupyter-widgets/base",
     "model_module_version": "1.2.0",
     "model_name": "LayoutModel",
     "state": {
      "_model_module": "@jupyter-widgets/base",
      "_model_module_version": "1.2.0",
      "_model_name": "LayoutModel",
      "_view_count": null,
      "_view_module": "@jupyter-widgets/base",
      "_view_module_version": "1.2.0",
      "_view_name": "LayoutView",
      "align_content": null,
      "align_items": null,
      "align_self": null,
      "border": null,
      "bottom": null,
      "display": null,
      "flex": null,
      "flex_flow": null,
      "grid_area": null,
      "grid_auto_columns": null,
      "grid_auto_flow": null,
      "grid_auto_rows": null,
      "grid_column": null,
      "grid_gap": null,
      "grid_row": null,
      "grid_template_areas": null,
      "grid_template_columns": null,
      "grid_template_rows": null,
      "height": null,
      "justify_content": null,
      "justify_items": null,
      "left": null,
      "margin": null,
      "max_height": null,
      "max_width": null,
      "min_height": null,
      "min_width": null,
      "object_fit": null,
      "object_position": null,
      "order": null,
      "overflow": null,
      "overflow_x": null,
      "overflow_y": null,
      "padding": null,
      "right": null,
      "top": null,
      "visibility": null,
      "width": null
     }
    },
    "a14b7b409cc14bc2b89378b84417f4f5": {
     "model_module": "@jupyter-widgets/controls",
     "model_module_version": "1.5.0",
     "model_name": "FloatProgressModel",
     "state": {
      "_dom_classes": [],
      "_model_module": "@jupyter-widgets/controls",
      "_model_module_version": "1.5.0",
      "_model_name": "FloatProgressModel",
      "_view_count": null,
      "_view_module": "@jupyter-widgets/controls",
      "_view_module_version": "1.5.0",
      "_view_name": "ProgressView",
      "bar_style": "success",
      "description": "",
      "description_tooltip": null,
      "layout": "IPY_MODEL_04aa9f6f9db24f1b8b029b3a18f4dd52",
      "max": 10,
      "min": 0,
      "orientation": "horizontal",
      "style": "IPY_MODEL_f4d1dcd144c04e4d89c98344485c383d",
      "value": 10
     }
    },
    "a6d1b5dac0e345c7b1dd31f165746cf4": {
     "model_module": "@jupyter-widgets/controls",
     "model_module_version": "1.5.0",
     "model_name": "ProgressStyleModel",
     "state": {
      "_model_module": "@jupyter-widgets/controls",
      "_model_module_version": "1.5.0",
      "_model_name": "ProgressStyleModel",
      "_view_count": null,
      "_view_module": "@jupyter-widgets/base",
      "_view_module_version": "1.2.0",
      "_view_name": "StyleView",
      "bar_color": null,
      "description_width": ""
     }
    },
    "aac6e4bcd79a4b6db99160f41e32c23d": {
     "model_module": "@jupyter-widgets/controls",
     "model_module_version": "1.5.0",
     "model_name": "HTMLModel",
     "state": {
      "_dom_classes": [],
      "_model_module": "@jupyter-widgets/controls",
      "_model_module_version": "1.5.0",
      "_model_name": "HTMLModel",
      "_view_count": null,
      "_view_module": "@jupyter-widgets/controls",
      "_view_module_version": "1.5.0",
      "_view_name": "HTMLView",
      "description": "",
      "description_tooltip": null,
      "layout": "IPY_MODEL_7c8c60268a6a4e2f83998c0797abbee2",
      "placeholder": "​",
      "style": "IPY_MODEL_731b0623977d4b2da9164b33d8322458",
      "value": " 10/10 [00:00&lt;00:00, 53.55it/s]"
     }
    },
    "d4f59b7f02fc49f7a1eb18390f34b5c3": {
     "model_module": "@jupyter-widgets/controls",
     "model_module_version": "1.5.0",
     "model_name": "HBoxModel",
     "state": {
      "_dom_classes": [],
      "_model_module": "@jupyter-widgets/controls",
      "_model_module_version": "1.5.0",
      "_model_name": "HBoxModel",
      "_view_count": null,
      "_view_module": "@jupyter-widgets/controls",
      "_view_module_version": "1.5.0",
      "_view_name": "HBoxView",
      "box_style": "",
      "children": [
       "IPY_MODEL_87d057bb1bb94ee09fc07defa5b47033",
       "IPY_MODEL_4a07c8c260844a48ac3cd70a072b4255",
       "IPY_MODEL_3d1ed880b6e1458cb2e5d21ddf4f934b"
      ],
      "layout": "IPY_MODEL_9e53c6f4823d453ba2ffeb01372f572f"
     }
    },
    "d7c10e80b5644497b7549b762b9dc209": {
     "model_module": "@jupyter-widgets/base",
     "model_module_version": "1.2.0",
     "model_name": "LayoutModel",
     "state": {
      "_model_module": "@jupyter-widgets/base",
      "_model_module_version": "1.2.0",
      "_model_name": "LayoutModel",
      "_view_count": null,
      "_view_module": "@jupyter-widgets/base",
      "_view_module_version": "1.2.0",
      "_view_name": "LayoutView",
      "align_content": null,
      "align_items": null,
      "align_self": null,
      "border": null,
      "bottom": null,
      "display": null,
      "flex": null,
      "flex_flow": null,
      "grid_area": null,
      "grid_auto_columns": null,
      "grid_auto_flow": null,
      "grid_auto_rows": null,
      "grid_column": null,
      "grid_gap": null,
      "grid_row": null,
      "grid_template_areas": null,
      "grid_template_columns": null,
      "grid_template_rows": null,
      "height": null,
      "justify_content": null,
      "justify_items": null,
      "left": null,
      "margin": null,
      "max_height": null,
      "max_width": null,
      "min_height": null,
      "min_width": null,
      "object_fit": null,
      "object_position": null,
      "order": null,
      "overflow": null,
      "overflow_x": null,
      "overflow_y": null,
      "padding": null,
      "right": null,
      "top": null,
      "visibility": null,
      "width": null
     }
    },
    "e06b55b3952848779aa8e1f0cca64f42": {
     "model_module": "@jupyter-widgets/base",
     "model_module_version": "1.2.0",
     "model_name": "LayoutModel",
     "state": {
      "_model_module": "@jupyter-widgets/base",
      "_model_module_version": "1.2.0",
      "_model_name": "LayoutModel",
      "_view_count": null,
      "_view_module": "@jupyter-widgets/base",
      "_view_module_version": "1.2.0",
      "_view_name": "LayoutView",
      "align_content": null,
      "align_items": null,
      "align_self": null,
      "border": null,
      "bottom": null,
      "display": null,
      "flex": null,
      "flex_flow": null,
      "grid_area": null,
      "grid_auto_columns": null,
      "grid_auto_flow": null,
      "grid_auto_rows": null,
      "grid_column": null,
      "grid_gap": null,
      "grid_row": null,
      "grid_template_areas": null,
      "grid_template_columns": null,
      "grid_template_rows": null,
      "height": null,
      "justify_content": null,
      "justify_items": null,
      "left": null,
      "margin": null,
      "max_height": null,
      "max_width": null,
      "min_height": null,
      "min_width": null,
      "object_fit": null,
      "object_position": null,
      "order": null,
      "overflow": null,
      "overflow_x": null,
      "overflow_y": null,
      "padding": null,
      "right": null,
      "top": null,
      "visibility": null,
      "width": null
     }
    },
    "e0882fc1aa0043508f41edc2a4d0e8f1": {
     "model_module": "@jupyter-widgets/controls",
     "model_module_version": "1.5.0",
     "model_name": "DescriptionStyleModel",
     "state": {
      "_model_module": "@jupyter-widgets/controls",
      "_model_module_version": "1.5.0",
      "_model_name": "DescriptionStyleModel",
      "_view_count": null,
      "_view_module": "@jupyter-widgets/base",
      "_view_module_version": "1.2.0",
      "_view_name": "StyleView",
      "description_width": ""
     }
    },
    "e2a75a5c12d44a56b59ae9f7ec102604": {
     "model_module": "@jupyter-widgets/controls",
     "model_module_version": "1.5.0",
     "model_name": "DescriptionStyleModel",
     "state": {
      "_model_module": "@jupyter-widgets/controls",
      "_model_module_version": "1.5.0",
      "_model_name": "DescriptionStyleModel",
      "_view_count": null,
      "_view_module": "@jupyter-widgets/base",
      "_view_module_version": "1.2.0",
      "_view_name": "StyleView",
      "description_width": ""
     }
    },
    "f4d1dcd144c04e4d89c98344485c383d": {
     "model_module": "@jupyter-widgets/controls",
     "model_module_version": "1.5.0",
     "model_name": "ProgressStyleModel",
     "state": {
      "_model_module": "@jupyter-widgets/controls",
      "_model_module_version": "1.5.0",
      "_model_name": "ProgressStyleModel",
      "_view_count": null,
      "_view_module": "@jupyter-widgets/base",
      "_view_module_version": "1.2.0",
      "_view_name": "StyleView",
      "bar_color": null,
      "description_width": ""
     }
    },
    "f574a59436974550b6d27337a6728516": {
     "model_module": "@jupyter-widgets/controls",
     "model_module_version": "1.5.0",
     "model_name": "HTMLModel",
     "state": {
      "_dom_classes": [],
      "_model_module": "@jupyter-widgets/controls",
      "_model_module_version": "1.5.0",
      "_model_name": "HTMLModel",
      "_view_count": null,
      "_view_module": "@jupyter-widgets/controls",
      "_view_module_version": "1.5.0",
      "_view_name": "HTMLView",
      "description": "",
      "description_tooltip": null,
      "layout": "IPY_MODEL_9d55e04487a34ca1bd2aa43e79144e70",
      "placeholder": "​",
      "style": "IPY_MODEL_7b5248f355064d81a3c26ab04c953bb1",
      "value": "  0%"
     }
    },
    "fafcad3e01464e61a77ecf8c2c3c4571": {
     "model_module": "@jupyter-widgets/controls",
     "model_module_version": "1.5.0",
     "model_name": "HTMLModel",
     "state": {
      "_dom_classes": [],
      "_model_module": "@jupyter-widgets/controls",
      "_model_module_version": "1.5.0",
      "_model_name": "HTMLModel",
      "_view_count": null,
      "_view_module": "@jupyter-widgets/controls",
      "_view_module_version": "1.5.0",
      "_view_name": "HTMLView",
      "description": "",
      "description_tooltip": null,
      "layout": "IPY_MODEL_1b0e644bd1804743ba16a244708b95b3",
      "placeholder": "​",
      "style": "IPY_MODEL_e2a75a5c12d44a56b59ae9f7ec102604",
      "value": " 0/5 [07:54&lt;?, ?it/s]"
     }
    }
   }
  }
 },
 "nbformat": 4,
 "nbformat_minor": 4
}
